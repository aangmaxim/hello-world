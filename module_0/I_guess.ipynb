{
 "cells": [
  {
   "cell_type": "code",
   "execution_count": 20,
   "metadata": {},
   "outputs": [],
   "source": [
    "def game_core_v3(number):\n",
    "    import numpy as np\n",
    "    number = np.random.randint(1,101)\n",
    "    '''Делим пополам отрезок чисел между верхней и нижней границами - это будет \n",
    "    предполагаемое число. Спрашиваем программу, предполагаемое число больше или\n",
    "    меньше загаданного числа и уменьшаем отрезок в указанную сторону. \n",
    "    Пройдя по циклу, мы узнаем загаданное число'''\n",
    "    count = 1\n",
    "    down_line = 0 #Создаем нижнюю границу\n",
    "    up_line = 100 #Создаем верхнюю границу\n",
    "    predict = (down_line + up_line)/2 # Предполагаемое число\n",
    "    while number != predict:\n",
    "        count += 1\n",
    "        if count > 7:    #Т.к. больше 7 итераций быть не может, добавляем проверку числа 100\n",
    "            predict = 100\n",
    "        if number > predict:\n",
    "            down_line = predict\n",
    "            predict = int((predict + up_line)/2)\n",
    "        elif number < predict:\n",
    "            up_line = predict\n",
    "            predict = int((predict + down_line)/2)\n",
    "    return(count) # выход из цикла, если угадали\n",
    "        \n",
    "        \n",
    "def score_game(game_core):\n",
    "    '''Запускаем игру 1000 раз, чтобы узнать, как быстро игра угадывает число'''\n",
    "    count_ls = []\n",
    "    np.random.seed(1)  # фиксируем RANDOM SEED, чтобы ваш эксперимент был воспроизводим!\n",
    "    random_array = np.random.randint(1,101, size=(1000))\n",
    "    for number in random_array:\n",
    "        count_ls.append(game_core(number))\n",
    "    score = int(np.mean(count_ls))\n",
    "    print(f\"Ваш алгоритм угадывает число в среднем за {score} попыток\")\n",
    "    return(score)"
   ]
  },
  {
   "cell_type": "code",
   "execution_count": 21,
   "metadata": {},
   "outputs": [
    {
     "name": "stdout",
     "output_type": "stream",
     "text": [
      "Ваш алгоритм угадывает число в среднем за 5 попыток\n"
     ]
    },
    {
     "data": {
      "text/plain": [
       "5"
      ]
     },
     "execution_count": 21,
     "metadata": {},
     "output_type": "execute_result"
    }
   ],
   "source": [
    "score_game(game_core_v3)"
   ]
  }
 ],
 "metadata": {
  "kernelspec": {
   "display_name": "Python 3",
   "language": "python",
   "name": "python3"
  },
  "language_info": {
   "codemirror_mode": {
    "name": "ipython",
    "version": 3
   },
   "file_extension": ".py",
   "mimetype": "text/x-python",
   "name": "python",
   "nbconvert_exporter": "python",
   "pygments_lexer": "ipython3",
   "version": "3.8.3"
  }
 },
 "nbformat": 4,
 "nbformat_minor": 4
}

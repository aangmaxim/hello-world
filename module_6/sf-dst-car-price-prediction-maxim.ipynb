{
 "cells": [
  {
   "cell_type": "markdown",
   "id": "80af3888",
   "metadata": {
    "papermill": {
     "duration": 0.135245,
     "end_time": "2021-09-14T14:16:22.759764",
     "exception": false,
     "start_time": "2021-09-14T14:16:22.624519",
     "status": "completed"
    },
    "tags": []
   },
   "source": [
    "## Прогнозирование стоимости автомобиля"
   ]
  },
  {
   "cell_type": "code",
   "execution_count": 1,
   "id": "0b4ac7ad",
   "metadata": {
    "_cell_guid": "b1076dfc-b9ad-4769-8c92-a6c4dae69d19",
    "_uuid": "8f2839f25d086af736a60e9eeb907d3b93b6e0e5",
    "execution": {
     "iopub.execute_input": "2021-09-14T14:16:23.027598Z",
     "iopub.status.busy": "2021-09-14T14:16:23.026586Z",
     "iopub.status.idle": "2021-09-14T14:16:25.981838Z",
     "shell.execute_reply": "2021-09-14T14:16:25.981089Z",
     "shell.execute_reply.started": "2021-09-14T13:48:35.562484Z"
    },
    "papermill": {
     "duration": 3.081931,
     "end_time": "2021-09-14T14:16:25.982027",
     "exception": false,
     "start_time": "2021-09-14T14:16:22.900096",
     "status": "completed"
    },
    "tags": []
   },
   "outputs": [],
   "source": [
    "import numpy as np \n",
    "import pandas as pd \n",
    "import sys\n",
    "import time\n",
    "import datetime\n",
    "import requests as r\n",
    "import json\n",
    "from bs4 import BeautifulSoup\n",
    "from sklearn.ensemble import RandomForestRegressor\n",
    "from sklearn.preprocessing import PolynomialFeatures\n",
    "from sklearn.model_selection import train_test_split\n",
    "from sklearn.model_selection import KFold\n",
    "from tqdm.notebook import tqdm\n",
    "from catboost import CatBoostRegressor\n",
    "from sklearn.preprocessing import LabelEncoder\n",
    "import pandas_profiling\n",
    "import warnings\n",
    "warnings.simplefilter('ignore')\n",
    "import matplotlib.pyplot as plt\n",
    "import seaborn as sns\n",
    "from pandas import Series\n",
    "from sklearn.feature_selection import f_classif, mutual_info_classif\n",
    "from sklearn.model_selection import GridSearchCV\n",
    "from sklearn.model_selection import train_test_split\n",
    "from sklearn.linear_model import LinearRegression\n",
    "from sklearn.ensemble import GradientBoostingRegressor  \n",
    "from sklearn.preprocessing import StandardScaler\n",
    "from sklearn.ensemble import ExtraTreesRegressor\n",
    "from sklearn.neighbors import KNeighborsRegressor\n",
    "from sklearn.base import clone"
   ]
  },
  {
   "cell_type": "code",
   "execution_count": 2,
   "id": "3aaab59e",
   "metadata": {
    "_kg_hide-input": true,
    "execution": {
     "iopub.execute_input": "2021-09-14T14:16:26.226906Z",
     "iopub.status.busy": "2021-09-14T14:16:26.226117Z",
     "iopub.status.idle": "2021-09-14T14:16:26.229112Z",
     "shell.execute_reply": "2021-09-14T14:16:26.228453Z",
     "shell.execute_reply.started": "2021-09-14T13:48:35.577033Z"
    },
    "papermill": {
     "duration": 0.127423,
     "end_time": "2021-09-14T14:16:26.229251",
     "exception": false,
     "start_time": "2021-09-14T14:16:26.101828",
     "status": "completed"
    },
    "tags": []
   },
   "outputs": [],
   "source": [
    "# всегда фиксируйте RANDOM_SEED, чтобы ваши эксперименты были воспроизводимы!\n",
    "RANDOM_SEED = 42"
   ]
  },
  {
   "cell_type": "code",
   "execution_count": 3,
   "id": "ce1793f5",
   "metadata": {
    "_kg_hide-input": true,
    "execution": {
     "iopub.execute_input": "2021-09-14T14:16:26.470466Z",
     "iopub.status.busy": "2021-09-14T14:16:26.469784Z",
     "iopub.status.idle": "2021-09-14T14:16:26.472862Z",
     "shell.execute_reply": "2021-09-14T14:16:26.472292Z",
     "shell.execute_reply.started": "2021-09-14T13:48:35.589407Z"
    },
    "papermill": {
     "duration": 0.125789,
     "end_time": "2021-09-14T14:16:26.472997",
     "exception": false,
     "start_time": "2021-09-14T14:16:26.347208",
     "status": "completed"
    },
    "tags": []
   },
   "outputs": [],
   "source": [
    "#запишем функцию для вычисления итоговой метрики\n",
    "def mape(y_true, y_pred):\n",
    "    return np.mean(np.abs((y_pred-y_true)/y_true))"
   ]
  },
  {
   "cell_type": "markdown",
   "id": "122a0e9f",
   "metadata": {
    "papermill": {
     "duration": 0.117039,
     "end_time": "2021-09-14T14:16:26.707486",
     "exception": false,
     "start_time": "2021-09-14T14:16:26.590447",
     "status": "completed"
    },
    "tags": []
   },
   "source": [
    "# Парсинг"
   ]
  },
  {
   "cell_type": "code",
   "execution_count": 4,
   "id": "f9eef29d",
   "metadata": {
    "execution": {
     "iopub.execute_input": "2021-09-14T14:16:26.948709Z",
     "iopub.status.busy": "2021-09-14T14:16:26.948054Z",
     "iopub.status.idle": "2021-09-14T14:16:26.954605Z",
     "shell.execute_reply": "2021-09-14T14:16:26.955178Z",
     "shell.execute_reply.started": "2021-09-14T13:48:35.606295Z"
    },
    "papermill": {
     "duration": 0.12995,
     "end_time": "2021-09-14T14:16:26.955357",
     "exception": false,
     "start_time": "2021-09-14T14:16:26.825407",
     "status": "completed"
    },
    "tags": []
   },
   "outputs": [
    {
     "data": {
      "text/plain": [
       "\"START_URL='https://auto.ru/moskva/cars/used/'\\n\\npages_url_list=[]\""
      ]
     },
     "execution_count": 4,
     "metadata": {},
     "output_type": "execute_result"
    }
   ],
   "source": [
    "'''START_URL='https://auto.ru/moskva/cars/used/'\n",
    "\n",
    "pages_url_list=[]'''"
   ]
  },
  {
   "cell_type": "code",
   "execution_count": 5,
   "id": "64f5f79d",
   "metadata": {
    "execution": {
     "iopub.execute_input": "2021-09-14T14:16:27.197150Z",
     "iopub.status.busy": "2021-09-14T14:16:27.196467Z",
     "iopub.status.idle": "2021-09-14T14:16:27.201179Z",
     "shell.execute_reply": "2021-09-14T14:16:27.201761Z",
     "shell.execute_reply.started": "2021-09-14T13:48:35.620909Z"
    },
    "papermill": {
     "duration": 0.127354,
     "end_time": "2021-09-14T14:16:27.201950",
     "exception": false,
     "start_time": "2021-09-14T14:16:27.074596",
     "status": "completed"
    },
    "tags": []
   },
   "outputs": [
    {
     "data": {
      "text/plain": [
       "'# ищем url\\'ы\\nwhile len(pages_url_list)<5000: \\n    for i in range(1,99):   \\n        response = r.get( START_URL+\\'?page=%s\\'%i, headers={\\'User-Agent\\': \\'Mozilla/5.0\\'})\\n        page = BeautifulSoup(response.text, \\'html.parser\\')\\n        for link in page.findAll(\\'a\\',{\"class\": \"Link OfferThumb\"}):\\n            try:\\n                if link[\\'href\\'] not in pages_url_list: \\n                    pages_url_list.append(link[\\'href\\'])\\n            except:\\n                pass\\n    print(len(pages_url_list))   \\n    time.sleep(10)'"
      ]
     },
     "execution_count": 5,
     "metadata": {},
     "output_type": "execute_result"
    }
   ],
   "source": [
    "'''# ищем url'ы\n",
    "while len(pages_url_list)<5000: \n",
    "    for i in range(1,99):   \n",
    "        response = r.get( START_URL+'?page=%s'%i, headers={'User-Agent': 'Mozilla/5.0'})\n",
    "        page = BeautifulSoup(response.text, 'html.parser')\n",
    "        for link in page.findAll('a',{\"class\": \"Link OfferThumb\"}):\n",
    "            try:\n",
    "                if link['href'] not in pages_url_list: \n",
    "                    pages_url_list.append(link['href'])\n",
    "            except:\n",
    "                pass\n",
    "    print(len(pages_url_list))   \n",
    "    time.sleep(10)'''"
   ]
  },
  {
   "cell_type": "code",
   "execution_count": 6,
   "id": "b75697f6",
   "metadata": {
    "execution": {
     "iopub.execute_input": "2021-09-14T14:16:27.449360Z",
     "iopub.status.busy": "2021-09-14T14:16:27.448548Z",
     "iopub.status.idle": "2021-09-14T14:16:27.451393Z",
     "shell.execute_reply": "2021-09-14T14:16:27.451880Z",
     "shell.execute_reply.started": "2021-09-14T13:48:35.665586Z"
    },
    "papermill": {
     "duration": 0.131554,
     "end_time": "2021-09-14T14:16:27.452046",
     "exception": false,
     "start_time": "2021-09-14T14:16:27.320492",
     "status": "completed"
    },
    "tags": []
   },
   "outputs": [
    {
     "data": {
      "text/plain": [
       "'# вытаскиваем данные из url\\'ов\\ncars_list = []\\nfor item in pages_url_list:\\n    response = r.get(item)\\n    response.encoding = \\'utf8\\'\\n    page = BeautifulSoup(response.text, \\'html.parser\\')\\n    if page.find(\\'div\\', class_=\\'CardSold\\') == None:\\n        try:\\n            json_data = json.loads(\\n                page.find(\\'script\\', type=\"application/ld+json\").string)\\n        except:\\n            print(item)\\n            pass\\n        cls_str = \\'CardInfoRow_\\'\\n        span_str = \\'CardInfoRow__cell\\'\\n        try:\\n            cars_list.append({\\n            \\'bodyType\\': json_data[\\'bodyType\\'],\\n            \\'brand\\': json_data[\\'brand\\'],\\n            \\'car_url\\': json_data[\\'offers\\'][\\'url\\'],\\n            \\'color\\': json_data[\\'color\\'],\\n            \\'description\\': json_data[\\'description\\'],\\n            \\'engineDisplacement\\': json_data[\\'vehicleEngine\\'][\\'engineDisplacement\\'],\\n            \\'enginePower\\': json_data[\\'vehicleEngine\\'][\\'enginePower\\'],\\n            \\'fuelType\\': json_data[\\'fuelType\\'],\\n            \\'image\\': json_data[\\'image\\'],\\n            \\'mileage\\': page.find(\\n                \\'li\\', class_=cls_str+\\'kmAge\\').find_all(\\'span\\')[1].text,\\n            \\'modelDate\\': json_data[\\'modelDate\\'],\\n            \\'model_name\\': json_data[\\'name\\'],\\n            \\'name\\': json_data[\\'vehicleEngine\\'][\\'name\\'],\\n            \\'numberOfDoors\\': json_data[\\'numberOfDoors\\'],\\n            \\'parsing_unixtime\\': int(time.time()),\\n            \\'priceCurrency\\': json_data[\\'offers\\'][\\'priceCurrency\\'],\\n            \\'productionDate\\': json_data[\\'productionDate\\'],\\n            \\'sell_id\\': page.find(\\n                \\'div\\', title=\\'Идентификатор объявления\\').text,\\n            \\'vehicleConfiguration\\': json_data[\\'vehicleConfiguration\\'],\\n            \\'vehicleTransmission\\': json_data[\\'vehicleTransmission\\'],\\n            \\'Владельцы\\': page.find(\\n                \\'li\\', class_=cls_str+\\'ownersCount\\').find_all(\\'span\\')[1].text,\\n            \\'ПТС\\': page.find(\\n                \\'li\\', class_=cls_str+\\'pts\\').find_all(\\'span\\')[1].text,\\n            \\'Привод\\': page.find(\\n                \\'li\\', class_=cls_str+\\'drive\\').find_all(\\'span\\')[1].text,\\n            \\'Руль\\': page.find(\\n                \\'li\\', class_=cls_str+\\'wheel\\').find_all(\\'span\\')[1].text,\\n            \\'Состояние\\': page.find(\\n                \\'li\\', class_=cls_str+\\'state\\').find_all(\\'span\\')[1].text,\\n            \\'Таможня\\': page.find(\\n                \\'li\\', class_=cls_str+\\'customs\\').find_all(\\'span\\')[1].text,\\n            \\'price\\': page.find(\\n                \\'span\\', class_=\\'OfferPriceCaption__price\\').text\\n            })\\n        except:\\n            print(item)\\n            pass\\n    time.sleep(0.1)'"
      ]
     },
     "execution_count": 6,
     "metadata": {},
     "output_type": "execute_result"
    }
   ],
   "source": [
    "'''# вытаскиваем данные из url'ов\n",
    "cars_list = []\n",
    "for item in pages_url_list:\n",
    "    response = r.get(item)\n",
    "    response.encoding = 'utf8'\n",
    "    page = BeautifulSoup(response.text, 'html.parser')\n",
    "    if page.find('div', class_='CardSold') == None:\n",
    "        try:\n",
    "            json_data = json.loads(\n",
    "                page.find('script', type=\"application/ld+json\").string)\n",
    "        except:\n",
    "            print(item)\n",
    "            pass\n",
    "        cls_str = 'CardInfoRow_'\n",
    "        span_str = 'CardInfoRow__cell'\n",
    "        try:\n",
    "            cars_list.append({\n",
    "            'bodyType': json_data['bodyType'],\n",
    "            'brand': json_data['brand'],\n",
    "            'car_url': json_data['offers']['url'],\n",
    "            'color': json_data['color'],\n",
    "            'description': json_data['description'],\n",
    "            'engineDisplacement': json_data['vehicleEngine']['engineDisplacement'],\n",
    "            'enginePower': json_data['vehicleEngine']['enginePower'],\n",
    "            'fuelType': json_data['fuelType'],\n",
    "            'image': json_data['image'],\n",
    "            'mileage': page.find(\n",
    "                'li', class_=cls_str+'kmAge').find_all('span')[1].text,\n",
    "            'modelDate': json_data['modelDate'],\n",
    "            'model_name': json_data['name'],\n",
    "            'name': json_data['vehicleEngine']['name'],\n",
    "            'numberOfDoors': json_data['numberOfDoors'],\n",
    "            'parsing_unixtime': int(time.time()),\n",
    "            'priceCurrency': json_data['offers']['priceCurrency'],\n",
    "            'productionDate': json_data['productionDate'],\n",
    "            'sell_id': page.find(\n",
    "                'div', title='Идентификатор объявления').text,\n",
    "            'vehicleConfiguration': json_data['vehicleConfiguration'],\n",
    "            'vehicleTransmission': json_data['vehicleTransmission'],\n",
    "            'Владельцы': page.find(\n",
    "                'li', class_=cls_str+'ownersCount').find_all('span')[1].text,\n",
    "            'ПТС': page.find(\n",
    "                'li', class_=cls_str+'pts').find_all('span')[1].text,\n",
    "            'Привод': page.find(\n",
    "                'li', class_=cls_str+'drive').find_all('span')[1].text,\n",
    "            'Руль': page.find(\n",
    "                'li', class_=cls_str+'wheel').find_all('span')[1].text,\n",
    "            'Состояние': page.find(\n",
    "                'li', class_=cls_str+'state').find_all('span')[1].text,\n",
    "            'Таможня': page.find(\n",
    "                'li', class_=cls_str+'customs').find_all('span')[1].text,\n",
    "            'price': page.find(\n",
    "                'span', class_='OfferPriceCaption__price').text\n",
    "            })\n",
    "        except:\n",
    "            print(item)\n",
    "            pass\n",
    "    time.sleep(0.1)'''"
   ]
  },
  {
   "cell_type": "code",
   "execution_count": 7,
   "id": "eb4fc9e6",
   "metadata": {
    "execution": {
     "iopub.execute_input": "2021-09-14T14:16:27.698087Z",
     "iopub.status.busy": "2021-09-14T14:16:27.697350Z",
     "iopub.status.idle": "2021-09-14T14:16:27.699895Z",
     "shell.execute_reply": "2021-09-14T14:16:27.700475Z",
     "shell.execute_reply.started": "2021-09-14T13:48:35.677980Z"
    },
    "papermill": {
     "duration": 0.128347,
     "end_time": "2021-09-14T14:16:27.700643",
     "exception": false,
     "start_time": "2021-09-14T14:16:27.572296",
     "status": "completed"
    },
    "tags": []
   },
   "outputs": [
    {
     "data": {
      "text/plain": [
       "\"# переводим в DF\\ndf = pd.DataFrame(cars_list)\\n# проверяем на дубликаты\\ndf['sell_id'].duplicated().sum()\\ndf.to_csv('cars.csv', index=False)\""
      ]
     },
     "execution_count": 7,
     "metadata": {},
     "output_type": "execute_result"
    }
   ],
   "source": [
    "'''# переводим в DF\n",
    "df = pd.DataFrame(cars_list)\n",
    "# проверяем на дубликаты\n",
    "df['sell_id'].duplicated().sum()\n",
    "df.to_csv('cars.csv', index=False)'''"
   ]
  },
  {
   "cell_type": "markdown",
   "id": "0c86c404",
   "metadata": {
    "papermill": {
     "duration": 0.12271,
     "end_time": "2021-09-14T14:16:27.943644",
     "exception": false,
     "start_time": "2021-09-14T14:16:27.820934",
     "status": "completed"
    },
    "tags": []
   },
   "source": [
    "# Setup"
   ]
  },
  {
   "cell_type": "code",
   "execution_count": 8,
   "id": "4400aa91",
   "metadata": {
    "execution": {
     "iopub.execute_input": "2021-09-14T14:16:28.191249Z",
     "iopub.status.busy": "2021-09-14T14:16:28.190600Z",
     "iopub.status.idle": "2021-09-14T14:16:28.194138Z",
     "shell.execute_reply": "2021-09-14T14:16:28.194655Z",
     "shell.execute_reply.started": "2021-09-14T13:48:35.818363Z"
    },
    "papermill": {
     "duration": 0.128809,
     "end_time": "2021-09-14T14:16:28.194830",
     "exception": false,
     "start_time": "2021-09-14T14:16:28.066021",
     "status": "completed"
    },
    "tags": []
   },
   "outputs": [],
   "source": [
    "VERSION    = 16\n",
    "DIR_TRAIN  = '../input/cars-df/'\n",
    "DIR_TRAIN20 = '../input/all-auto-ru-09-09-2020/'\n",
    "DIR_TEST   = '../input/sf-dst-car-price-prediction/'\n",
    "VAL_SIZE   = 0.20   # 20%"
   ]
  },
  {
   "cell_type": "markdown",
   "id": "1dd9042e",
   "metadata": {
    "papermill": {
     "duration": 0.119266,
     "end_time": "2021-09-14T14:16:28.434134",
     "exception": false,
     "start_time": "2021-09-14T14:16:28.314868",
     "status": "completed"
    },
    "tags": []
   },
   "source": [
    "# Data"
   ]
  },
  {
   "cell_type": "code",
   "execution_count": 9,
   "id": "92d8f108",
   "metadata": {
    "execution": {
     "iopub.execute_input": "2021-09-14T14:16:28.676916Z",
     "iopub.status.busy": "2021-09-14T14:16:28.676196Z",
     "iopub.status.idle": "2021-09-14T14:16:29.425907Z",
     "shell.execute_reply": "2021-09-14T14:16:29.425363Z",
     "shell.execute_reply.started": "2021-09-14T13:48:35.826641Z"
    },
    "papermill": {
     "duration": 0.872569,
     "end_time": "2021-09-14T14:16:29.426053",
     "exception": false,
     "start_time": "2021-09-14T14:16:28.553484",
     "status": "completed"
    },
    "tags": []
   },
   "outputs": [
    {
     "name": "stdout",
     "output_type": "stream",
     "text": [
      "all-auto-ru-09-09-2020\tcars-df  sf-dst-car-price-prediction\r\n"
     ]
    }
   ],
   "source": [
    "!ls '../input'"
   ]
  },
  {
   "cell_type": "code",
   "execution_count": 10,
   "id": "9b5bb2f1",
   "metadata": {
    "_cell_guid": "79c7e3d0-c299-4dcb-8224-4455121ee9b0",
    "_uuid": "d629ff2d2480ee46fbb7e2d37f6b5fab8052498a",
    "execution": {
     "iopub.execute_input": "2021-09-14T14:16:29.721887Z",
     "iopub.status.busy": "2021-09-14T14:16:29.720860Z",
     "iopub.status.idle": "2021-09-14T14:16:45.371765Z",
     "shell.execute_reply": "2021-09-14T14:16:45.372303Z",
     "shell.execute_reply.started": "2021-09-14T13:48:36.654000Z"
    },
    "papermill": {
     "duration": 15.775461,
     "end_time": "2021-09-14T14:16:45.372500",
     "exception": false,
     "start_time": "2021-09-14T14:16:29.597039",
     "status": "completed"
    },
    "tags": []
   },
   "outputs": [],
   "source": [
    "#разбиваем датасеты\n",
    "train = pd.read_csv(DIR_TRAIN+'cars_df.csv')\n",
    "train_2020 = pd.read_csv(DIR_TRAIN20+'all_auto_ru_09_09_2020.csv')\n",
    "test = pd.read_csv(DIR_TEST+'test.csv')\n",
    "sample_submission = pd.read_csv(DIR_TEST+'sample_submission.csv')"
   ]
  },
  {
   "cell_type": "code",
   "execution_count": 11,
   "id": "13bd8cc4",
   "metadata": {
    "execution": {
     "iopub.execute_input": "2021-09-14T14:16:45.618194Z",
     "iopub.status.busy": "2021-09-14T14:16:45.617552Z",
     "iopub.status.idle": "2021-09-14T14:16:45.651396Z",
     "shell.execute_reply": "2021-09-14T14:16:45.651879Z",
     "shell.execute_reply.started": "2021-09-14T13:48:46.881304Z"
    },
    "papermill": {
     "duration": 0.158216,
     "end_time": "2021-09-14T14:16:45.652052",
     "exception": false,
     "start_time": "2021-09-14T14:16:45.493836",
     "status": "completed"
    },
    "tags": []
   },
   "outputs": [
    {
     "data": {
      "text/html": [
       "<div>\n",
       "<style scoped>\n",
       "    .dataframe tbody tr th:only-of-type {\n",
       "        vertical-align: middle;\n",
       "    }\n",
       "\n",
       "    .dataframe tbody tr th {\n",
       "        vertical-align: top;\n",
       "    }\n",
       "\n",
       "    .dataframe thead th {\n",
       "        text-align: right;\n",
       "    }\n",
       "</style>\n",
       "<table border=\"1\" class=\"dataframe\">\n",
       "  <thead>\n",
       "    <tr style=\"text-align: right;\">\n",
       "      <th></th>\n",
       "      <th>bodyType</th>\n",
       "      <th>brand</th>\n",
       "      <th>car_url</th>\n",
       "      <th>color</th>\n",
       "      <th>description</th>\n",
       "      <th>engineDisplacement</th>\n",
       "      <th>enginePower</th>\n",
       "      <th>fuelType</th>\n",
       "      <th>image</th>\n",
       "      <th>mileage</th>\n",
       "      <th>...</th>\n",
       "      <th>vehicleConfiguration</th>\n",
       "      <th>vehicleTransmission</th>\n",
       "      <th>Владельцы</th>\n",
       "      <th>ПТС</th>\n",
       "      <th>Привод</th>\n",
       "      <th>Руль</th>\n",
       "      <th>Состояние</th>\n",
       "      <th>Таможня</th>\n",
       "      <th>price</th>\n",
       "      <th>equipmentGroups</th>\n",
       "    </tr>\n",
       "  </thead>\n",
       "  <tbody>\n",
       "    <tr>\n",
       "      <th>9074</th>\n",
       "      <td>хэтчбек 3 дв.</td>\n",
       "      <td>HONDA</td>\n",
       "      <td>https://auto.ru/cars/used/sale/honda/civic/110...</td>\n",
       "      <td>синий</td>\n",
       "      <td>Спек:\\n-D16y7 перебран на новых сальниках ремн...</td>\n",
       "      <td>1.4 LTR</td>\n",
       "      <td>75 N12</td>\n",
       "      <td>бензин</td>\n",
       "      <td>https://autoru.naydex.net/GvD9p2d78/563588CEak...</td>\n",
       "      <td>150 578 км</td>\n",
       "      <td>...</td>\n",
       "      <td>HATCHBACK_3_DOORS MECHANICAL 1.4</td>\n",
       "      <td>механическая</td>\n",
       "      <td>3 или более</td>\n",
       "      <td>Оригинал</td>\n",
       "      <td>передний</td>\n",
       "      <td>Левый</td>\n",
       "      <td>Не требует ремонта</td>\n",
       "      <td>Растаможен</td>\n",
       "      <td>160 000 ₽</td>\n",
       "      <td>[{'name': 'Комфорт', 'values': ['Регулировка р...</td>\n",
       "    </tr>\n",
       "    <tr>\n",
       "      <th>2708</th>\n",
       "      <td>лифтбек</td>\n",
       "      <td>SKODA</td>\n",
       "      <td>https://auto.ru/cars/used/sale/skoda/rapid/108...</td>\n",
       "      <td>белый</td>\n",
       "      <td>Авто в отличном состоянии. Своевременная замен...</td>\n",
       "      <td>1.2 LTR</td>\n",
       "      <td>105 N12</td>\n",
       "      <td>бензин</td>\n",
       "      <td>https://autoru.naydex.net/ggLF9n453/6ee1a95w/V...</td>\n",
       "      <td>75 000 км</td>\n",
       "      <td>...</td>\n",
       "      <td>LIFTBACK MECHANICAL 1.2</td>\n",
       "      <td>механическая</td>\n",
       "      <td>2 владельца</td>\n",
       "      <td>Оригинал</td>\n",
       "      <td>передний</td>\n",
       "      <td>Левый</td>\n",
       "      <td>Не требует ремонта</td>\n",
       "      <td>Растаможен</td>\n",
       "      <td>617 166 ₽</td>\n",
       "      <td>[{'name': 'Безопасность', 'values': ['Креплени...</td>\n",
       "    </tr>\n",
       "    <tr>\n",
       "      <th>29689</th>\n",
       "      <td>седан</td>\n",
       "      <td>VOLKSWAGEN</td>\n",
       "      <td>https://auto.ru/cars/used/sale/volkswagen/jett...</td>\n",
       "      <td>белый</td>\n",
       "      <td>авто в хорошем состоянии все разходники</td>\n",
       "      <td>1.4 LTR</td>\n",
       "      <td>122 N12</td>\n",
       "      <td>бензин</td>\n",
       "      <td>https://avatars.mds.yandex.net/get-autoru-vos/...</td>\n",
       "      <td>245 000 км</td>\n",
       "      <td>...</td>\n",
       "      <td>SEDAN ROBOT 1.4</td>\n",
       "      <td>роботизированная</td>\n",
       "      <td>3 или более</td>\n",
       "      <td>Оригинал</td>\n",
       "      <td>передний</td>\n",
       "      <td>Левый</td>\n",
       "      <td>Не требует ремонта</td>\n",
       "      <td>Растаможен</td>\n",
       "      <td>530 000 ₽</td>\n",
       "      <td>[{'name': 'Безопасность', 'values': ['Антиблок...</td>\n",
       "    </tr>\n",
       "    <tr>\n",
       "      <th>29224</th>\n",
       "      <td>седан</td>\n",
       "      <td>VOLKSWAGEN</td>\n",
       "      <td>https://auto.ru/cars/used/sale/volkswagen/polo...</td>\n",
       "      <td>синий</td>\n",
       "      <td>Приветствую всех кто смотрит данное сообщение....</td>\n",
       "      <td>1.6 LTR</td>\n",
       "      <td>105 N12</td>\n",
       "      <td>бензин</td>\n",
       "      <td>https://avatars.mds.yandex.net/get-autoru-vos/...</td>\n",
       "      <td>46 181 км</td>\n",
       "      <td>...</td>\n",
       "      <td>SEDAN AUTOMATIC 1.6</td>\n",
       "      <td>автоматическая</td>\n",
       "      <td>3 или более</td>\n",
       "      <td>Оригинал</td>\n",
       "      <td>передний</td>\n",
       "      <td>Левый</td>\n",
       "      <td>Не требует ремонта</td>\n",
       "      <td>Растаможен</td>\n",
       "      <td>730 000 ₽</td>\n",
       "      <td>[{'name': 'Безопасность', 'values': ['Подушка ...</td>\n",
       "    </tr>\n",
       "    <tr>\n",
       "      <th>33344</th>\n",
       "      <td>внедорожник 5 дв.</td>\n",
       "      <td>MITSUBISHI</td>\n",
       "      <td>https://auto.ru/cars/used/sale/mitsubishi/mont...</td>\n",
       "      <td>чёрный</td>\n",
       "      <td>Двигатель сделан.коробка контрактная поменяна ...</td>\n",
       "      <td>3.5 LTR</td>\n",
       "      <td>200 N12</td>\n",
       "      <td>бензин</td>\n",
       "      <td>https://autoru.naydex.net/niW1n0020/9d30ffRJ/d...</td>\n",
       "      <td>300 000 км</td>\n",
       "      <td>...</td>\n",
       "      <td>ALLROAD_5_DOORS AUTOMATIC 3.5</td>\n",
       "      <td>автоматическая</td>\n",
       "      <td>3 или более</td>\n",
       "      <td>Оригинал</td>\n",
       "      <td>полный</td>\n",
       "      <td>Левый</td>\n",
       "      <td>Не требует ремонта</td>\n",
       "      <td>Растаможен</td>\n",
       "      <td>490 000 ₽</td>\n",
       "      <td>[{'name': 'Безопасность', 'values': ['Антиблок...</td>\n",
       "    </tr>\n",
       "  </tbody>\n",
       "</table>\n",
       "<p>5 rows × 28 columns</p>\n",
       "</div>"
      ],
      "text/plain": [
       "                bodyType       brand  \\\n",
       "9074       хэтчбек 3 дв.       HONDA   \n",
       "2708             лифтбек       SKODA   \n",
       "29689              седан  VOLKSWAGEN   \n",
       "29224              седан  VOLKSWAGEN   \n",
       "33344  внедорожник 5 дв.  MITSUBISHI   \n",
       "\n",
       "                                                 car_url   color  \\\n",
       "9074   https://auto.ru/cars/used/sale/honda/civic/110...   синий   \n",
       "2708   https://auto.ru/cars/used/sale/skoda/rapid/108...   белый   \n",
       "29689  https://auto.ru/cars/used/sale/volkswagen/jett...   белый   \n",
       "29224  https://auto.ru/cars/used/sale/volkswagen/polo...   синий   \n",
       "33344  https://auto.ru/cars/used/sale/mitsubishi/mont...  чёрный   \n",
       "\n",
       "                                             description engineDisplacement  \\\n",
       "9074   Спек:\\n-D16y7 перебран на новых сальниках ремн...            1.4 LTR   \n",
       "2708   Авто в отличном состоянии. Своевременная замен...            1.2 LTR   \n",
       "29689            авто в хорошем состоянии все разходники            1.4 LTR   \n",
       "29224  Приветствую всех кто смотрит данное сообщение....            1.6 LTR   \n",
       "33344  Двигатель сделан.коробка контрактная поменяна ...            3.5 LTR   \n",
       "\n",
       "      enginePower fuelType                                              image  \\\n",
       "9074       75 N12   бензин  https://autoru.naydex.net/GvD9p2d78/563588CEak...   \n",
       "2708      105 N12   бензин  https://autoru.naydex.net/ggLF9n453/6ee1a95w/V...   \n",
       "29689     122 N12   бензин  https://avatars.mds.yandex.net/get-autoru-vos/...   \n",
       "29224     105 N12   бензин  https://avatars.mds.yandex.net/get-autoru-vos/...   \n",
       "33344     200 N12   бензин  https://autoru.naydex.net/niW1n0020/9d30ffRJ/d...   \n",
       "\n",
       "          mileage  ...              vehicleConfiguration vehicleTransmission  \\\n",
       "9074   150 578 км  ...  HATCHBACK_3_DOORS MECHANICAL 1.4        механическая   \n",
       "2708    75 000 км  ...           LIFTBACK MECHANICAL 1.2        механическая   \n",
       "29689  245 000 км  ...                   SEDAN ROBOT 1.4    роботизированная   \n",
       "29224   46 181 км  ...               SEDAN AUTOMATIC 1.6      автоматическая   \n",
       "33344  300 000 км  ...     ALLROAD_5_DOORS AUTOMATIC 3.5      автоматическая   \n",
       "\n",
       "         Владельцы       ПТС    Привод   Руль           Состояние     Таможня  \\\n",
       "9074   3 или более  Оригинал  передний  Левый  Не требует ремонта  Растаможен   \n",
       "2708   2 владельца  Оригинал  передний  Левый  Не требует ремонта  Растаможен   \n",
       "29689  3 или более  Оригинал  передний  Левый  Не требует ремонта  Растаможен   \n",
       "29224  3 или более  Оригинал  передний  Левый  Не требует ремонта  Растаможен   \n",
       "33344  3 или более  Оригинал    полный  Левый  Не требует ремонта  Растаможен   \n",
       "\n",
       "           price                                    equipmentGroups  \n",
       "9074   160 000 ₽  [{'name': 'Комфорт', 'values': ['Регулировка р...  \n",
       "2708   617 166 ₽  [{'name': 'Безопасность', 'values': ['Креплени...  \n",
       "29689  530 000 ₽  [{'name': 'Безопасность', 'values': ['Антиблок...  \n",
       "29224  730 000 ₽  [{'name': 'Безопасность', 'values': ['Подушка ...  \n",
       "33344  490 000 ₽  [{'name': 'Безопасность', 'values': ['Антиблок...  \n",
       "\n",
       "[5 rows x 28 columns]"
      ]
     },
     "execution_count": 11,
     "metadata": {},
     "output_type": "execute_result"
    }
   ],
   "source": [
    "train.sample(5)"
   ]
  },
  {
   "cell_type": "code",
   "execution_count": 12,
   "id": "49c36124",
   "metadata": {
    "execution": {
     "iopub.execute_input": "2021-09-14T14:16:45.992380Z",
     "iopub.status.busy": "2021-09-14T14:16:45.896880Z",
     "iopub.status.idle": "2021-09-14T14:16:46.114650Z",
     "shell.execute_reply": "2021-09-14T14:16:46.114016Z",
     "shell.execute_reply.started": "2021-09-14T13:48:46.916730Z"
    },
    "papermill": {
     "duration": 0.342023,
     "end_time": "2021-09-14T14:16:46.114788",
     "exception": false,
     "start_time": "2021-09-14T14:16:45.772765",
     "status": "completed"
    },
    "tags": []
   },
   "outputs": [
    {
     "name": "stdout",
     "output_type": "stream",
     "text": [
      "<class 'pandas.core.frame.DataFrame'>\n",
      "RangeIndex: 34240 entries, 0 to 34239\n",
      "Data columns (total 28 columns):\n",
      " #   Column                Non-Null Count  Dtype \n",
      "---  ------                --------------  ----- \n",
      " 0   bodyType              34240 non-null  object\n",
      " 1   brand                 34240 non-null  object\n",
      " 2   car_url               34240 non-null  object\n",
      " 3   color                 34240 non-null  object\n",
      " 4   description           34240 non-null  object\n",
      " 5   engineDisplacement    34240 non-null  object\n",
      " 6   enginePower           34240 non-null  object\n",
      " 7   fuelType              34240 non-null  object\n",
      " 8   image                 34240 non-null  object\n",
      " 9   mileage               34240 non-null  object\n",
      " 10  modelDate             34240 non-null  int64 \n",
      " 11  model_name            34240 non-null  object\n",
      " 12  name                  34240 non-null  object\n",
      " 13  numberOfDoors         34240 non-null  int64 \n",
      " 14  parsing_unixtime      34240 non-null  int64 \n",
      " 15  priceCurrency         34240 non-null  object\n",
      " 16  productionDate        34240 non-null  int64 \n",
      " 17  sell_id               34240 non-null  object\n",
      " 18  vehicleConfiguration  34240 non-null  object\n",
      " 19  vehicleTransmission   34240 non-null  object\n",
      " 20  Владельцы             34240 non-null  object\n",
      " 21  ПТС                   34240 non-null  object\n",
      " 22  Привод                34240 non-null  object\n",
      " 23  Руль                  34240 non-null  object\n",
      " 24  Состояние             34240 non-null  object\n",
      " 25  Таможня               34240 non-null  object\n",
      " 26  price                 34240 non-null  object\n",
      " 27  equipmentGroups       26208 non-null  object\n",
      "dtypes: int64(4), object(24)\n",
      "memory usage: 7.3+ MB\n"
     ]
    },
    {
     "data": {
      "text/plain": [
       "bodyType                   0\n",
       "brand                      0\n",
       "car_url                    0\n",
       "color                      0\n",
       "description                0\n",
       "engineDisplacement         0\n",
       "enginePower                0\n",
       "fuelType                   0\n",
       "image                      0\n",
       "mileage                    0\n",
       "modelDate                  0\n",
       "model_name                 0\n",
       "name                       0\n",
       "numberOfDoors              0\n",
       "parsing_unixtime           0\n",
       "priceCurrency              0\n",
       "productionDate             0\n",
       "sell_id                    0\n",
       "vehicleConfiguration       0\n",
       "vehicleTransmission        0\n",
       "Владельцы                  0\n",
       "ПТС                        0\n",
       "Привод                     0\n",
       "Руль                       0\n",
       "Состояние                  0\n",
       "Таможня                    0\n",
       "price                      0\n",
       "equipmentGroups         8032\n",
       "dtype: int64"
      ]
     },
     "execution_count": 12,
     "metadata": {},
     "output_type": "execute_result"
    }
   ],
   "source": [
    "train.info()\n",
    "train.isna().sum()"
   ]
  },
  {
   "cell_type": "code",
   "execution_count": 13,
   "id": "c5ba200d",
   "metadata": {
    "execution": {
     "iopub.execute_input": "2021-09-14T14:16:46.376969Z",
     "iopub.status.busy": "2021-09-14T14:16:46.369132Z",
     "iopub.status.idle": "2021-09-14T14:16:46.403670Z",
     "shell.execute_reply": "2021-09-14T14:16:46.404562Z",
     "shell.execute_reply.started": "2021-09-14T13:48:47.144587Z"
    },
    "papermill": {
     "duration": 0.166625,
     "end_time": "2021-09-14T14:16:46.404839",
     "exception": false,
     "start_time": "2021-09-14T14:16:46.238214",
     "status": "completed"
    },
    "tags": []
   },
   "outputs": [
    {
     "data": {
      "text/html": [
       "<div>\n",
       "<style scoped>\n",
       "    .dataframe tbody tr th:only-of-type {\n",
       "        vertical-align: middle;\n",
       "    }\n",
       "\n",
       "    .dataframe tbody tr th {\n",
       "        vertical-align: top;\n",
       "    }\n",
       "\n",
       "    .dataframe thead th {\n",
       "        text-align: right;\n",
       "    }\n",
       "</style>\n",
       "<table border=\"1\" class=\"dataframe\">\n",
       "  <thead>\n",
       "    <tr style=\"text-align: right;\">\n",
       "      <th></th>\n",
       "      <th>bodyType</th>\n",
       "      <th>brand</th>\n",
       "      <th>car_url</th>\n",
       "      <th>color</th>\n",
       "      <th>complectation_dict</th>\n",
       "      <th>description</th>\n",
       "      <th>engineDisplacement</th>\n",
       "      <th>enginePower</th>\n",
       "      <th>equipment_dict</th>\n",
       "      <th>fuelType</th>\n",
       "      <th>...</th>\n",
       "      <th>vehicleConfiguration</th>\n",
       "      <th>vehicleTransmission</th>\n",
       "      <th>vendor</th>\n",
       "      <th>Владельцы</th>\n",
       "      <th>Владение</th>\n",
       "      <th>ПТС</th>\n",
       "      <th>Привод</th>\n",
       "      <th>Руль</th>\n",
       "      <th>Состояние</th>\n",
       "      <th>Таможня</th>\n",
       "    </tr>\n",
       "  </thead>\n",
       "  <tbody>\n",
       "    <tr>\n",
       "      <th>21746</th>\n",
       "      <td>седан</td>\n",
       "      <td>TOYOTA</td>\n",
       "      <td>https://auto.ru/cars/used/sale/toyota/mark_ii/...</td>\n",
       "      <td>чёрный</td>\n",
       "      <td>NaN</td>\n",
       "      <td>Турер s с завода,рестайлинговая оптика с желтк...</td>\n",
       "      <td>2.5 LTR</td>\n",
       "      <td>200 N12</td>\n",
       "      <td>NaN</td>\n",
       "      <td>бензин</td>\n",
       "      <td>...</td>\n",
       "      <td>SEDAN AUTOMATIC 2.5</td>\n",
       "      <td>автоматическая</td>\n",
       "      <td>JAPANESE</td>\n",
       "      <td>3 или более</td>\n",
       "      <td>NaN</td>\n",
       "      <td>Дубликат</td>\n",
       "      <td>задний</td>\n",
       "      <td>Правый</td>\n",
       "      <td>Не требует ремонта</td>\n",
       "      <td>Растаможен</td>\n",
       "    </tr>\n",
       "    <tr>\n",
       "      <th>29449</th>\n",
       "      <td>внедорожник 5 дв.</td>\n",
       "      <td>BMW</td>\n",
       "      <td>https://auto.ru/cars/used/sale/bmw/x5/11013330...</td>\n",
       "      <td>чёрный</td>\n",
       "      <td>NaN</td>\n",
       "      <td>Единственный в своём роде\\n 7 местный Х5 F15 с...</td>\n",
       "      <td>3.0 LTR</td>\n",
       "      <td>249 N12</td>\n",
       "      <td>{\"wheel-heat\":true,\"decorative-interior-lighti...</td>\n",
       "      <td>дизель</td>\n",
       "      <td>...</td>\n",
       "      <td>ALLROAD_5_DOORS AUTOMATIC 3.0</td>\n",
       "      <td>автоматическая</td>\n",
       "      <td>EUROPEAN</td>\n",
       "      <td>2 владельца</td>\n",
       "      <td>4 года и 8 месяцев</td>\n",
       "      <td>Оригинал</td>\n",
       "      <td>полный</td>\n",
       "      <td>Левый</td>\n",
       "      <td>Не требует ремонта</td>\n",
       "      <td>Растаможен</td>\n",
       "    </tr>\n",
       "    <tr>\n",
       "      <th>2554</th>\n",
       "      <td>седан</td>\n",
       "      <td>AUDI</td>\n",
       "      <td>https://auto.ru/cars/used/sale/audi/a8/1101276...</td>\n",
       "      <td>чёрный</td>\n",
       "      <td>NaN</td>\n",
       "      <td>- Комфортные передние сиденья\\n- Доводчики две...</td>\n",
       "      <td>3.0 LTR</td>\n",
       "      <td>310 N12</td>\n",
       "      <td>{\"cruise-control\":true,\"airbag-driver\":true,\"e...</td>\n",
       "      <td>бензин</td>\n",
       "      <td>...</td>\n",
       "      <td>SEDAN AUTOMATIC 3.0</td>\n",
       "      <td>автоматическая</td>\n",
       "      <td>EUROPEAN</td>\n",
       "      <td>1 владелец</td>\n",
       "      <td>NaN</td>\n",
       "      <td>Оригинал</td>\n",
       "      <td>полный</td>\n",
       "      <td>Левый</td>\n",
       "      <td>Не требует ремонта</td>\n",
       "      <td>Растаможен</td>\n",
       "    </tr>\n",
       "    <tr>\n",
       "      <th>13242</th>\n",
       "      <td>седан</td>\n",
       "      <td>NISSAN</td>\n",
       "      <td>https://auto.ru/cars/used/sale/nissan/almera/1...</td>\n",
       "      <td>белый</td>\n",
       "      <td>NaN</td>\n",
       "      <td>машина очень хорошем состоянии не был ДТП</td>\n",
       "      <td>1.6 LTR</td>\n",
       "      <td>102 N12</td>\n",
       "      <td>NaN</td>\n",
       "      <td>бензин</td>\n",
       "      <td>...</td>\n",
       "      <td>SEDAN AUTOMATIC 1.6</td>\n",
       "      <td>автоматическая</td>\n",
       "      <td>JAPANESE</td>\n",
       "      <td>3 или более</td>\n",
       "      <td>9 месяцев</td>\n",
       "      <td>Оригинал</td>\n",
       "      <td>передний</td>\n",
       "      <td>Левый</td>\n",
       "      <td>Не требует ремонта</td>\n",
       "      <td>Растаможен</td>\n",
       "    </tr>\n",
       "    <tr>\n",
       "      <th>11491</th>\n",
       "      <td>внедорожник 5 дв.</td>\n",
       "      <td>NISSAN</td>\n",
       "      <td>https://auto.ru/cars/used/sale/nissan/qashqai/...</td>\n",
       "      <td>серебристый</td>\n",
       "      <td>{\"id\":\"6129710\",\"name\":\"SE+\",\"available_option...</td>\n",
       "      <td>АRMAND - официальный Дилер KIA\\n\\n\\n\\nАвтомоби...</td>\n",
       "      <td>2.0 LTR</td>\n",
       "      <td>141 N12</td>\n",
       "      <td>{\"cruise-control\":true,\"esp\":true,\"airbag-driv...</td>\n",
       "      <td>бензин</td>\n",
       "      <td>...</td>\n",
       "      <td>ALLROAD_5_DOORS VARIATOR 2.0</td>\n",
       "      <td>вариатор</td>\n",
       "      <td>JAPANESE</td>\n",
       "      <td>1 владелец</td>\n",
       "      <td>NaN</td>\n",
       "      <td>Оригинал</td>\n",
       "      <td>передний</td>\n",
       "      <td>Левый</td>\n",
       "      <td>Не требует ремонта</td>\n",
       "      <td>Растаможен</td>\n",
       "    </tr>\n",
       "  </tbody>\n",
       "</table>\n",
       "<p>5 rows × 32 columns</p>\n",
       "</div>"
      ],
      "text/plain": [
       "                bodyType   brand  \\\n",
       "21746              седан  TOYOTA   \n",
       "29449  внедорожник 5 дв.     BMW   \n",
       "2554               седан    AUDI   \n",
       "13242              седан  NISSAN   \n",
       "11491  внедорожник 5 дв.  NISSAN   \n",
       "\n",
       "                                                 car_url        color  \\\n",
       "21746  https://auto.ru/cars/used/sale/toyota/mark_ii/...       чёрный   \n",
       "29449  https://auto.ru/cars/used/sale/bmw/x5/11013330...       чёрный   \n",
       "2554   https://auto.ru/cars/used/sale/audi/a8/1101276...       чёрный   \n",
       "13242  https://auto.ru/cars/used/sale/nissan/almera/1...        белый   \n",
       "11491  https://auto.ru/cars/used/sale/nissan/qashqai/...  серебристый   \n",
       "\n",
       "                                      complectation_dict  \\\n",
       "21746                                                NaN   \n",
       "29449                                                NaN   \n",
       "2554                                                 NaN   \n",
       "13242                                                NaN   \n",
       "11491  {\"id\":\"6129710\",\"name\":\"SE+\",\"available_option...   \n",
       "\n",
       "                                             description engineDisplacement  \\\n",
       "21746  Турер s с завода,рестайлинговая оптика с желтк...            2.5 LTR   \n",
       "29449  Единственный в своём роде\\n 7 местный Х5 F15 с...            3.0 LTR   \n",
       "2554   - Комфортные передние сиденья\\n- Доводчики две...            3.0 LTR   \n",
       "13242          машина очень хорошем состоянии не был ДТП            1.6 LTR   \n",
       "11491  АRMAND - официальный Дилер KIA\\n\\n\\n\\nАвтомоби...            2.0 LTR   \n",
       "\n",
       "      enginePower                                     equipment_dict fuelType  \\\n",
       "21746     200 N12                                                NaN   бензин   \n",
       "29449     249 N12  {\"wheel-heat\":true,\"decorative-interior-lighti...   дизель   \n",
       "2554      310 N12  {\"cruise-control\":true,\"airbag-driver\":true,\"e...   бензин   \n",
       "13242     102 N12                                                NaN   бензин   \n",
       "11491     141 N12  {\"cruise-control\":true,\"esp\":true,\"airbag-driv...   бензин   \n",
       "\n",
       "       ...           vehicleConfiguration  vehicleTransmission    vendor  \\\n",
       "21746  ...            SEDAN AUTOMATIC 2.5       автоматическая  JAPANESE   \n",
       "29449  ...  ALLROAD_5_DOORS AUTOMATIC 3.0       автоматическая  EUROPEAN   \n",
       "2554   ...            SEDAN AUTOMATIC 3.0       автоматическая  EUROPEAN   \n",
       "13242  ...            SEDAN AUTOMATIC 1.6       автоматическая  JAPANESE   \n",
       "11491  ...   ALLROAD_5_DOORS VARIATOR 2.0             вариатор  JAPANESE   \n",
       "\n",
       "         Владельцы            Владение       ПТС    Привод    Руль  \\\n",
       "21746  3 или более                 NaN  Дубликат    задний  Правый   \n",
       "29449  2 владельца  4 года и 8 месяцев  Оригинал    полный   Левый   \n",
       "2554    1 владелец                 NaN  Оригинал    полный   Левый   \n",
       "13242  3 или более           9 месяцев  Оригинал  передний   Левый   \n",
       "11491   1 владелец                 NaN  Оригинал  передний   Левый   \n",
       "\n",
       "                Состояние     Таможня  \n",
       "21746  Не требует ремонта  Растаможен  \n",
       "29449  Не требует ремонта  Растаможен  \n",
       "2554   Не требует ремонта  Растаможен  \n",
       "13242  Не требует ремонта  Растаможен  \n",
       "11491  Не требует ремонта  Растаможен  \n",
       "\n",
       "[5 rows x 32 columns]"
      ]
     },
     "execution_count": 13,
     "metadata": {},
     "output_type": "execute_result"
    }
   ],
   "source": [
    "test.sample(5)"
   ]
  },
  {
   "cell_type": "code",
   "execution_count": 14,
   "id": "ec7e436e",
   "metadata": {
    "execution": {
     "iopub.execute_input": "2021-09-14T14:16:46.675290Z",
     "iopub.status.busy": "2021-09-14T14:16:46.674316Z",
     "iopub.status.idle": "2021-09-14T14:16:46.890495Z",
     "shell.execute_reply": "2021-09-14T14:16:46.890984Z",
     "shell.execute_reply.started": "2021-09-14T13:48:47.180464Z"
    },
    "papermill": {
     "duration": 0.342603,
     "end_time": "2021-09-14T14:16:46.891149",
     "exception": false,
     "start_time": "2021-09-14T14:16:46.548546",
     "status": "completed"
    },
    "tags": []
   },
   "outputs": [
    {
     "name": "stdout",
     "output_type": "stream",
     "text": [
      "<class 'pandas.core.frame.DataFrame'>\n",
      "RangeIndex: 34686 entries, 0 to 34685\n",
      "Data columns (total 32 columns):\n",
      " #   Column                Non-Null Count  Dtype \n",
      "---  ------                --------------  ----- \n",
      " 0   bodyType              34686 non-null  object\n",
      " 1   brand                 34686 non-null  object\n",
      " 2   car_url               34686 non-null  object\n",
      " 3   color                 34686 non-null  object\n",
      " 4   complectation_dict    6418 non-null   object\n",
      " 5   description           34686 non-null  object\n",
      " 6   engineDisplacement    34686 non-null  object\n",
      " 7   enginePower           34686 non-null  object\n",
      " 8   equipment_dict        24690 non-null  object\n",
      " 9   fuelType              34686 non-null  object\n",
      " 10  image                 34686 non-null  object\n",
      " 11  mileage               34686 non-null  int64 \n",
      " 12  modelDate             34686 non-null  int64 \n",
      " 13  model_info            34686 non-null  object\n",
      " 14  model_name            34686 non-null  object\n",
      " 15  name                  34686 non-null  object\n",
      " 16  numberOfDoors         34686 non-null  int64 \n",
      " 17  parsing_unixtime      34686 non-null  int64 \n",
      " 18  priceCurrency         34686 non-null  object\n",
      " 19  productionDate        34686 non-null  int64 \n",
      " 20  sell_id               34686 non-null  int64 \n",
      " 21  super_gen             34686 non-null  object\n",
      " 22  vehicleConfiguration  34686 non-null  object\n",
      " 23  vehicleTransmission   34686 non-null  object\n",
      " 24  vendor                34686 non-null  object\n",
      " 25  Владельцы             34686 non-null  object\n",
      " 26  Владение              11995 non-null  object\n",
      " 27  ПТС                   34685 non-null  object\n",
      " 28  Привод                34686 non-null  object\n",
      " 29  Руль                  34686 non-null  object\n",
      " 30  Состояние             34686 non-null  object\n",
      " 31  Таможня               34686 non-null  object\n",
      "dtypes: int64(6), object(26)\n",
      "memory usage: 8.5+ MB\n"
     ]
    },
    {
     "data": {
      "text/plain": [
       "bodyType                    0\n",
       "brand                       0\n",
       "car_url                     0\n",
       "color                       0\n",
       "complectation_dict      28268\n",
       "description                 0\n",
       "engineDisplacement          0\n",
       "enginePower                 0\n",
       "equipment_dict           9996\n",
       "fuelType                    0\n",
       "image                       0\n",
       "mileage                     0\n",
       "modelDate                   0\n",
       "model_info                  0\n",
       "model_name                  0\n",
       "name                        0\n",
       "numberOfDoors               0\n",
       "parsing_unixtime            0\n",
       "priceCurrency               0\n",
       "productionDate              0\n",
       "sell_id                     0\n",
       "super_gen                   0\n",
       "vehicleConfiguration        0\n",
       "vehicleTransmission         0\n",
       "vendor                      0\n",
       "Владельцы                   0\n",
       "Владение                22691\n",
       "ПТС                         1\n",
       "Привод                      0\n",
       "Руль                        0\n",
       "Состояние                   0\n",
       "Таможня                     0\n",
       "dtype: int64"
      ]
     },
     "execution_count": 14,
     "metadata": {},
     "output_type": "execute_result"
    }
   ],
   "source": [
    "test.info()\n",
    "test.isna().sum()"
   ]
  },
  {
   "cell_type": "code",
   "execution_count": 15,
   "id": "40019030",
   "metadata": {
    "execution": {
     "iopub.execute_input": "2021-09-14T14:16:47.144706Z",
     "iopub.status.busy": "2021-09-14T14:16:47.144065Z",
     "iopub.status.idle": "2021-09-14T14:16:47.203116Z",
     "shell.execute_reply": "2021-09-14T14:16:47.202572Z",
     "shell.execute_reply.started": "2021-09-14T13:48:47.423730Z"
    },
    "papermill": {
     "duration": 0.186084,
     "end_time": "2021-09-14T14:16:47.203257",
     "exception": false,
     "start_time": "2021-09-14T14:16:47.017173",
     "status": "completed"
    },
    "tags": []
   },
   "outputs": [
    {
     "name": "stdout",
     "output_type": "stream",
     "text": [
      "train data:  (34240, 28)\n"
     ]
    },
    {
     "data": {
      "text/html": [
       "<div>\n",
       "<style scoped>\n",
       "    .dataframe tbody tr th:only-of-type {\n",
       "        vertical-align: middle;\n",
       "    }\n",
       "\n",
       "    .dataframe tbody tr th {\n",
       "        vertical-align: top;\n",
       "    }\n",
       "\n",
       "    .dataframe thead th {\n",
       "        text-align: right;\n",
       "    }\n",
       "</style>\n",
       "<table border=\"1\" class=\"dataframe\">\n",
       "  <thead>\n",
       "    <tr style=\"text-align: right;\">\n",
       "      <th></th>\n",
       "      <th>bodyType</th>\n",
       "      <th>brand</th>\n",
       "      <th>car_url</th>\n",
       "      <th>color</th>\n",
       "      <th>description</th>\n",
       "      <th>engineDisplacement</th>\n",
       "      <th>enginePower</th>\n",
       "      <th>fuelType</th>\n",
       "      <th>image</th>\n",
       "      <th>mileage</th>\n",
       "      <th>modelDate</th>\n",
       "      <th>model_name</th>\n",
       "      <th>name</th>\n",
       "      <th>numberOfDoors</th>\n",
       "      <th>parsing_unixtime</th>\n",
       "      <th>priceCurrency</th>\n",
       "      <th>productionDate</th>\n",
       "      <th>sell_id</th>\n",
       "      <th>vehicleConfiguration</th>\n",
       "      <th>vehicleTransmission</th>\n",
       "      <th>Владельцы</th>\n",
       "      <th>ПТС</th>\n",
       "      <th>Привод</th>\n",
       "      <th>Руль</th>\n",
       "      <th>Состояние</th>\n",
       "      <th>Таможня</th>\n",
       "      <th>price</th>\n",
       "      <th>equipmentGroups</th>\n",
       "    </tr>\n",
       "  </thead>\n",
       "  <tbody>\n",
       "    <tr>\n",
       "      <th>0</th>\n",
       "      <td>лифтбек</td>\n",
       "      <td>SKODA</td>\n",
       "      <td>https://auto.ru/cars/used/sale/skoda/octavia/1...</td>\n",
       "      <td>серебристый</td>\n",
       "      <td>Машине нужны любящие руки понимающего человека...</td>\n",
       "      <td>1.8 LTR</td>\n",
       "      <td>152 N12</td>\n",
       "      <td>бензин</td>\n",
       "      <td>https://autoru.naydex.net/ggLF9n453/6ee1a95w/V...</td>\n",
       "      <td>205 500 км</td>\n",
       "      <td>2008</td>\n",
       "      <td>Skoda Octavia II (A5) Рестайлинг</td>\n",
       "      <td>1.8 MT</td>\n",
       "      <td>5</td>\n",
       "      <td>1628872293</td>\n",
       "      <td>RUB</td>\n",
       "      <td>2012</td>\n",
       "      <td>№ 1104849127</td>\n",
       "      <td>LIFTBACK MECHANICAL 1.8</td>\n",
       "      <td>механическая</td>\n",
       "      <td>2 владельца</td>\n",
       "      <td>Оригинал</td>\n",
       "      <td>передний</td>\n",
       "      <td>Левый</td>\n",
       "      <td>Не требует ремонта</td>\n",
       "      <td>Растаможен</td>\n",
       "      <td>620 999 ₽</td>\n",
       "      <td>[{'name': 'Безопасность', 'values': ['Антиблок...</td>\n",
       "    </tr>\n",
       "    <tr>\n",
       "      <th>1</th>\n",
       "      <td>компактвэн</td>\n",
       "      <td>SKODA</td>\n",
       "      <td>https://auto.ru/cars/used/sale/skoda/roomster/...</td>\n",
       "      <td>серый</td>\n",
       "      <td>🔆Добрый день! Просьба приезжать в маске! \\n👁Ос...</td>\n",
       "      <td>1.4 LTR</td>\n",
       "      <td>86 N12</td>\n",
       "      <td>бензин</td>\n",
       "      <td>https://avatars.mds.yandex.net/get-autoru-vos/...</td>\n",
       "      <td>86 602 км</td>\n",
       "      <td>2010</td>\n",
       "      <td>Skoda Roomster I Рестайлинг</td>\n",
       "      <td>1.4 MT</td>\n",
       "      <td>5</td>\n",
       "      <td>1628872296</td>\n",
       "      <td>RUB</td>\n",
       "      <td>2012</td>\n",
       "      <td>№ 1104891539</td>\n",
       "      <td>COMPACTVAN MECHANICAL 1.4</td>\n",
       "      <td>механическая</td>\n",
       "      <td>1 владелец</td>\n",
       "      <td>Оригинал</td>\n",
       "      <td>передний</td>\n",
       "      <td>Левый</td>\n",
       "      <td>Не требует ремонта</td>\n",
       "      <td>Растаможен</td>\n",
       "      <td>699 000 ₽</td>\n",
       "      <td>[{'name': 'Безопасность', 'values': ['Подушка ...</td>\n",
       "    </tr>\n",
       "    <tr>\n",
       "      <th>2</th>\n",
       "      <td>лифтбек</td>\n",
       "      <td>SKODA</td>\n",
       "      <td>https://auto.ru/cars/used/sale/skoda/octavia/1...</td>\n",
       "      <td>бежевый</td>\n",
       "      <td>Отличное состояние.\\nБез дтп.\\nЯ второй владел...</td>\n",
       "      <td>1.4 LTR</td>\n",
       "      <td>80 N12</td>\n",
       "      <td>бензин</td>\n",
       "      <td>https://autoru.naydex.net/ggLF9n453/6ee1a95w/V...</td>\n",
       "      <td>275 000 км</td>\n",
       "      <td>2004</td>\n",
       "      <td>Skoda Octavia II (A5)</td>\n",
       "      <td>1.4 MT</td>\n",
       "      <td>5</td>\n",
       "      <td>1628872299</td>\n",
       "      <td>RUB</td>\n",
       "      <td>2008</td>\n",
       "      <td>№ 1103946594</td>\n",
       "      <td>LIFTBACK MECHANICAL 1.4</td>\n",
       "      <td>механическая</td>\n",
       "      <td>2 владельца</td>\n",
       "      <td>Оригинал</td>\n",
       "      <td>передний</td>\n",
       "      <td>Левый</td>\n",
       "      <td>Не требует ремонта</td>\n",
       "      <td>Растаможен</td>\n",
       "      <td>349 000 ₽</td>\n",
       "      <td>[{'name': 'Комфорт', 'values': ['Кондиционер',...</td>\n",
       "    </tr>\n",
       "    <tr>\n",
       "      <th>3</th>\n",
       "      <td>лифтбек</td>\n",
       "      <td>SKODA</td>\n",
       "      <td>https://auto.ru/cars/used/sale/skoda/octavia/1...</td>\n",
       "      <td>чёрный</td>\n",
       "      <td>Ваш выбор и Ваше время — наши главные приорите...</td>\n",
       "      <td>1.4 LTR</td>\n",
       "      <td>150 N12</td>\n",
       "      <td>бензин</td>\n",
       "      <td>https://autoru.naydex.net/ggLF9n453/6ee1a95w/V...</td>\n",
       "      <td>3 956 км</td>\n",
       "      <td>2019</td>\n",
       "      <td>Skoda Octavia IV (A8)</td>\n",
       "      <td>1.4 AT</td>\n",
       "      <td>5</td>\n",
       "      <td>1628872303</td>\n",
       "      <td>RUB</td>\n",
       "      <td>2021</td>\n",
       "      <td>№ 1104908952</td>\n",
       "      <td>LIFTBACK AUTOMATIC 1.4</td>\n",
       "      <td>автоматическая</td>\n",
       "      <td>1 владелец</td>\n",
       "      <td>Оригинал</td>\n",
       "      <td>передний</td>\n",
       "      <td>Левый</td>\n",
       "      <td>Не требует ремонта</td>\n",
       "      <td>Растаможен</td>\n",
       "      <td>2 129 000 ₽</td>\n",
       "      <td>[{'name': 'Безопасность', 'values': ['Подушка ...</td>\n",
       "    </tr>\n",
       "    <tr>\n",
       "      <th>4</th>\n",
       "      <td>лифтбек</td>\n",
       "      <td>SKODA</td>\n",
       "      <td>https://auto.ru/cars/used/sale/skoda/rapid/110...</td>\n",
       "      <td>чёрный</td>\n",
       "      <td>Ваш выбор и Ваше время — наши главные приорите...</td>\n",
       "      <td>1.6 LTR</td>\n",
       "      <td>110 N12</td>\n",
       "      <td>бензин</td>\n",
       "      <td>https://avatars.mds.yandex.net/get-autoru-vos/...</td>\n",
       "      <td>4 415 км</td>\n",
       "      <td>2020</td>\n",
       "      <td>Skoda Rapid II</td>\n",
       "      <td>1.6 AT</td>\n",
       "      <td>5</td>\n",
       "      <td>1628872305</td>\n",
       "      <td>RUB</td>\n",
       "      <td>2021</td>\n",
       "      <td>№ 1104908932</td>\n",
       "      <td>LIFTBACK AUTOMATIC 1.6</td>\n",
       "      <td>автоматическая</td>\n",
       "      <td>1 владелец</td>\n",
       "      <td>Оригинал</td>\n",
       "      <td>передний</td>\n",
       "      <td>Левый</td>\n",
       "      <td>Не требует ремонта</td>\n",
       "      <td>Растаможен</td>\n",
       "      <td>1 328 000 ₽</td>\n",
       "      <td>[{'name': 'Безопасность', 'values': ['Подушка ...</td>\n",
       "    </tr>\n",
       "  </tbody>\n",
       "</table>\n",
       "</div>"
      ],
      "text/plain": [
       "     bodyType  brand                                            car_url  \\\n",
       "0     лифтбек  SKODA  https://auto.ru/cars/used/sale/skoda/octavia/1...   \n",
       "1  компактвэн  SKODA  https://auto.ru/cars/used/sale/skoda/roomster/...   \n",
       "2     лифтбек  SKODA  https://auto.ru/cars/used/sale/skoda/octavia/1...   \n",
       "3     лифтбек  SKODA  https://auto.ru/cars/used/sale/skoda/octavia/1...   \n",
       "4     лифтбек  SKODA  https://auto.ru/cars/used/sale/skoda/rapid/110...   \n",
       "\n",
       "         color                                        description  \\\n",
       "0  серебристый  Машине нужны любящие руки понимающего человека...   \n",
       "1        серый  🔆Добрый день! Просьба приезжать в маске! \\n👁Ос...   \n",
       "2      бежевый  Отличное состояние.\\nБез дтп.\\nЯ второй владел...   \n",
       "3       чёрный  Ваш выбор и Ваше время — наши главные приорите...   \n",
       "4       чёрный  Ваш выбор и Ваше время — наши главные приорите...   \n",
       "\n",
       "  engineDisplacement enginePower fuelType  \\\n",
       "0            1.8 LTR     152 N12   бензин   \n",
       "1            1.4 LTR      86 N12   бензин   \n",
       "2            1.4 LTR      80 N12   бензин   \n",
       "3            1.4 LTR     150 N12   бензин   \n",
       "4            1.6 LTR     110 N12   бензин   \n",
       "\n",
       "                                               image     mileage  modelDate  \\\n",
       "0  https://autoru.naydex.net/ggLF9n453/6ee1a95w/V...  205 500 км       2008   \n",
       "1  https://avatars.mds.yandex.net/get-autoru-vos/...   86 602 км       2010   \n",
       "2  https://autoru.naydex.net/ggLF9n453/6ee1a95w/V...  275 000 км       2004   \n",
       "3  https://autoru.naydex.net/ggLF9n453/6ee1a95w/V...    3 956 км       2019   \n",
       "4  https://avatars.mds.yandex.net/get-autoru-vos/...    4 415 км       2020   \n",
       "\n",
       "                         model_name    name  numberOfDoors  parsing_unixtime  \\\n",
       "0  Skoda Octavia II (A5) Рестайлинг  1.8 MT              5        1628872293   \n",
       "1       Skoda Roomster I Рестайлинг  1.4 MT              5        1628872296   \n",
       "2             Skoda Octavia II (A5)  1.4 MT              5        1628872299   \n",
       "3             Skoda Octavia IV (A8)  1.4 AT              5        1628872303   \n",
       "4                    Skoda Rapid II  1.6 AT              5        1628872305   \n",
       "\n",
       "  priceCurrency  productionDate       sell_id       vehicleConfiguration  \\\n",
       "0           RUB            2012  № 1104849127    LIFTBACK MECHANICAL 1.8   \n",
       "1           RUB            2012  № 1104891539  COMPACTVAN MECHANICAL 1.4   \n",
       "2           RUB            2008  № 1103946594    LIFTBACK MECHANICAL 1.4   \n",
       "3           RUB            2021  № 1104908952     LIFTBACK AUTOMATIC 1.4   \n",
       "4           RUB            2021  № 1104908932     LIFTBACK AUTOMATIC 1.6   \n",
       "\n",
       "  vehicleTransmission    Владельцы       ПТС    Привод   Руль  \\\n",
       "0        механическая  2 владельца  Оригинал  передний  Левый   \n",
       "1        механическая   1 владелец  Оригинал  передний  Левый   \n",
       "2        механическая  2 владельца  Оригинал  передний  Левый   \n",
       "3      автоматическая   1 владелец  Оригинал  передний  Левый   \n",
       "4      автоматическая   1 владелец  Оригинал  передний  Левый   \n",
       "\n",
       "            Состояние     Таможня        price  \\\n",
       "0  Не требует ремонта  Растаможен    620 999 ₽   \n",
       "1  Не требует ремонта  Растаможен    699 000 ₽   \n",
       "2  Не требует ремонта  Растаможен    349 000 ₽   \n",
       "3  Не требует ремонта  Растаможен  2 129 000 ₽   \n",
       "4  Не требует ремонта  Растаможен  1 328 000 ₽   \n",
       "\n",
       "                                     equipmentGroups  \n",
       "0  [{'name': 'Безопасность', 'values': ['Антиблок...  \n",
       "1  [{'name': 'Безопасность', 'values': ['Подушка ...  \n",
       "2  [{'name': 'Комфорт', 'values': ['Кондиционер',...  \n",
       "3  [{'name': 'Безопасность', 'values': ['Подушка ...  \n",
       "4  [{'name': 'Безопасность', 'values': ['Подушка ...  "
      ]
     },
     "metadata": {},
     "output_type": "display_data"
    },
    {
     "name": "stdout",
     "output_type": "stream",
     "text": [
      "test data:  (34686, 32)\n"
     ]
    },
    {
     "data": {
      "text/html": [
       "<div>\n",
       "<style scoped>\n",
       "    .dataframe tbody tr th:only-of-type {\n",
       "        vertical-align: middle;\n",
       "    }\n",
       "\n",
       "    .dataframe tbody tr th {\n",
       "        vertical-align: top;\n",
       "    }\n",
       "\n",
       "    .dataframe thead th {\n",
       "        text-align: right;\n",
       "    }\n",
       "</style>\n",
       "<table border=\"1\" class=\"dataframe\">\n",
       "  <thead>\n",
       "    <tr style=\"text-align: right;\">\n",
       "      <th></th>\n",
       "      <th>bodyType</th>\n",
       "      <th>brand</th>\n",
       "      <th>car_url</th>\n",
       "      <th>color</th>\n",
       "      <th>complectation_dict</th>\n",
       "      <th>description</th>\n",
       "      <th>engineDisplacement</th>\n",
       "      <th>enginePower</th>\n",
       "      <th>equipment_dict</th>\n",
       "      <th>fuelType</th>\n",
       "      <th>image</th>\n",
       "      <th>mileage</th>\n",
       "      <th>modelDate</th>\n",
       "      <th>model_info</th>\n",
       "      <th>model_name</th>\n",
       "      <th>name</th>\n",
       "      <th>numberOfDoors</th>\n",
       "      <th>parsing_unixtime</th>\n",
       "      <th>priceCurrency</th>\n",
       "      <th>productionDate</th>\n",
       "      <th>sell_id</th>\n",
       "      <th>super_gen</th>\n",
       "      <th>vehicleConfiguration</th>\n",
       "      <th>vehicleTransmission</th>\n",
       "      <th>vendor</th>\n",
       "      <th>Владельцы</th>\n",
       "      <th>Владение</th>\n",
       "      <th>ПТС</th>\n",
       "      <th>Привод</th>\n",
       "      <th>Руль</th>\n",
       "      <th>Состояние</th>\n",
       "      <th>Таможня</th>\n",
       "    </tr>\n",
       "  </thead>\n",
       "  <tbody>\n",
       "    <tr>\n",
       "      <th>0</th>\n",
       "      <td>лифтбек</td>\n",
       "      <td>SKODA</td>\n",
       "      <td>https://auto.ru/cars/used/sale/skoda/octavia/1...</td>\n",
       "      <td>синий</td>\n",
       "      <td>NaN</td>\n",
       "      <td>Все автомобили, представленные в продаже, прох...</td>\n",
       "      <td>1.2 LTR</td>\n",
       "      <td>105 N12</td>\n",
       "      <td>{\"engine-proof\":true,\"tinted-glass\":true,\"airb...</td>\n",
       "      <td>бензин</td>\n",
       "      <td>https://autoru.naydex.net/o9DBXQ270/5ac010hAY0...</td>\n",
       "      <td>74000</td>\n",
       "      <td>2013</td>\n",
       "      <td>{\"code\":\"OCTAVIA\",\"name\":\"Octavia\",\"ru_name\":\"...</td>\n",
       "      <td>OCTAVIA</td>\n",
       "      <td>1.2 AMT (105 л.с.)</td>\n",
       "      <td>5</td>\n",
       "      <td>1603226273</td>\n",
       "      <td>RUB</td>\n",
       "      <td>2014</td>\n",
       "      <td>1100575026</td>\n",
       "      <td>{\"id\":\"10373605\",\"displacement\":1197,\"engine_t...</td>\n",
       "      <td>LIFTBACK ROBOT 1.2</td>\n",
       "      <td>роботизированная</td>\n",
       "      <td>EUROPEAN</td>\n",
       "      <td>3 или более</td>\n",
       "      <td>NaN</td>\n",
       "      <td>Оригинал</td>\n",
       "      <td>передний</td>\n",
       "      <td>Левый</td>\n",
       "      <td>Не требует ремонта</td>\n",
       "      <td>Растаможен</td>\n",
       "    </tr>\n",
       "    <tr>\n",
       "      <th>1</th>\n",
       "      <td>лифтбек</td>\n",
       "      <td>SKODA</td>\n",
       "      <td>https://auto.ru/cars/used/sale/skoda/octavia/1...</td>\n",
       "      <td>чёрный</td>\n",
       "      <td>NaN</td>\n",
       "      <td>ЛОТ: 01217195\\nАвтопрага Север\\nДанный автомоб...</td>\n",
       "      <td>1.6 LTR</td>\n",
       "      <td>110 N12</td>\n",
       "      <td>{\"cruise-control\":true,\"asr\":true,\"esp\":true,\"...</td>\n",
       "      <td>бензин</td>\n",
       "      <td>https://autoru.naydex.net/o9DBXQ270/5ac010hAY0...</td>\n",
       "      <td>60563</td>\n",
       "      <td>2017</td>\n",
       "      <td>{\"code\":\"OCTAVIA\",\"name\":\"Octavia\",\"ru_name\":\"...</td>\n",
       "      <td>OCTAVIA</td>\n",
       "      <td>1.6 MT (110 л.с.)</td>\n",
       "      <td>5</td>\n",
       "      <td>1603226277</td>\n",
       "      <td>RUB</td>\n",
       "      <td>2017</td>\n",
       "      <td>1100549428</td>\n",
       "      <td>{\"id\":\"20913311\",\"displacement\":1598,\"engine_t...</td>\n",
       "      <td>LIFTBACK MECHANICAL 1.6</td>\n",
       "      <td>механическая</td>\n",
       "      <td>EUROPEAN</td>\n",
       "      <td>1 владелец</td>\n",
       "      <td>NaN</td>\n",
       "      <td>Оригинал</td>\n",
       "      <td>передний</td>\n",
       "      <td>Левый</td>\n",
       "      <td>Не требует ремонта</td>\n",
       "      <td>Растаможен</td>\n",
       "    </tr>\n",
       "    <tr>\n",
       "      <th>2</th>\n",
       "      <td>лифтбек</td>\n",
       "      <td>SKODA</td>\n",
       "      <td>https://auto.ru/cars/used/sale/skoda/superb/11...</td>\n",
       "      <td>серый</td>\n",
       "      <td>{\"id\":\"20026336\",\"name\":\"Ambition\",\"available_...</td>\n",
       "      <td>Все автомобили, представленные в продаже, прох...</td>\n",
       "      <td>1.8 LTR</td>\n",
       "      <td>152 N12</td>\n",
       "      <td>{\"cruise-control\":true,\"tinted-glass\":true,\"es...</td>\n",
       "      <td>бензин</td>\n",
       "      <td>https://avatars.mds.yandex.net/get-autoru-vos/...</td>\n",
       "      <td>88000</td>\n",
       "      <td>2013</td>\n",
       "      <td>{\"code\":\"SUPERB\",\"name\":\"Superb\",\"ru_name\":\"Су...</td>\n",
       "      <td>SUPERB</td>\n",
       "      <td>DSG 1.8 AMT (152 л.с.)</td>\n",
       "      <td>5</td>\n",
       "      <td>1603226280</td>\n",
       "      <td>RUB</td>\n",
       "      <td>2014</td>\n",
       "      <td>1100658222</td>\n",
       "      <td>{\"id\":\"20026323\",\"nameplate\":\"DSG\",\"displaceme...</td>\n",
       "      <td>LIFTBACK ROBOT 1.8</td>\n",
       "      <td>роботизированная</td>\n",
       "      <td>EUROPEAN</td>\n",
       "      <td>1 владелец</td>\n",
       "      <td>NaN</td>\n",
       "      <td>Оригинал</td>\n",
       "      <td>передний</td>\n",
       "      <td>Левый</td>\n",
       "      <td>Не требует ремонта</td>\n",
       "      <td>Растаможен</td>\n",
       "    </tr>\n",
       "    <tr>\n",
       "      <th>3</th>\n",
       "      <td>лифтбек</td>\n",
       "      <td>SKODA</td>\n",
       "      <td>https://auto.ru/cars/used/sale/skoda/octavia/1...</td>\n",
       "      <td>коричневый</td>\n",
       "      <td>{\"id\":\"20803582\",\"name\":\"Ambition\",\"available_...</td>\n",
       "      <td>КОМПЛЕКТ ЗИМНЕЙ (ЛЕТНЕЙ) РЕЗИНЫ ПО СЕЗОНУ В ПО...</td>\n",
       "      <td>1.6 LTR</td>\n",
       "      <td>110 N12</td>\n",
       "      <td>{\"cruise-control\":true,\"roller-blind-for-rear-...</td>\n",
       "      <td>бензин</td>\n",
       "      <td>https://autoru.naydex.net/o9DBXQ270/5ac010hAY0...</td>\n",
       "      <td>95000</td>\n",
       "      <td>2013</td>\n",
       "      <td>{\"code\":\"OCTAVIA\",\"name\":\"Octavia\",\"ru_name\":\"...</td>\n",
       "      <td>OCTAVIA</td>\n",
       "      <td>1.6 AT (110 л.с.)</td>\n",
       "      <td>5</td>\n",
       "      <td>1603226284</td>\n",
       "      <td>RUB</td>\n",
       "      <td>2014</td>\n",
       "      <td>1100937408</td>\n",
       "      <td>{\"id\":\"20105521\",\"displacement\":1598,\"engine_t...</td>\n",
       "      <td>LIFTBACK AUTOMATIC 1.6</td>\n",
       "      <td>автоматическая</td>\n",
       "      <td>EUROPEAN</td>\n",
       "      <td>1 владелец</td>\n",
       "      <td>NaN</td>\n",
       "      <td>Оригинал</td>\n",
       "      <td>передний</td>\n",
       "      <td>Левый</td>\n",
       "      <td>Не требует ремонта</td>\n",
       "      <td>Растаможен</td>\n",
       "    </tr>\n",
       "    <tr>\n",
       "      <th>4</th>\n",
       "      <td>лифтбек</td>\n",
       "      <td>SKODA</td>\n",
       "      <td>https://auto.ru/cars/used/sale/skoda/octavia/1...</td>\n",
       "      <td>белый</td>\n",
       "      <td>NaN</td>\n",
       "      <td>ЛОТ: 01220889\\nАвтопрага Север\\n\\nВы можете по...</td>\n",
       "      <td>1.8 LTR</td>\n",
       "      <td>152 N12</td>\n",
       "      <td>{\"cruise-control\":true,\"asr\":true,\"esp\":true,\"...</td>\n",
       "      <td>бензин</td>\n",
       "      <td>https://autoru.naydex.net/o9DBXQ270/5ac010hAY0...</td>\n",
       "      <td>58536</td>\n",
       "      <td>2008</td>\n",
       "      <td>{\"code\":\"OCTAVIA\",\"name\":\"Octavia\",\"ru_name\":\"...</td>\n",
       "      <td>OCTAVIA</td>\n",
       "      <td>1.8 AT (152 л.с.)</td>\n",
       "      <td>5</td>\n",
       "      <td>1603226288</td>\n",
       "      <td>RUB</td>\n",
       "      <td>2012</td>\n",
       "      <td>1101037972</td>\n",
       "      <td>{\"id\":\"4561004\",\"displacement\":1798,\"engine_ty...</td>\n",
       "      <td>LIFTBACK AUTOMATIC 1.8</td>\n",
       "      <td>автоматическая</td>\n",
       "      <td>EUROPEAN</td>\n",
       "      <td>1 владелец</td>\n",
       "      <td>NaN</td>\n",
       "      <td>Оригинал</td>\n",
       "      <td>передний</td>\n",
       "      <td>Левый</td>\n",
       "      <td>Не требует ремонта</td>\n",
       "      <td>Растаможен</td>\n",
       "    </tr>\n",
       "  </tbody>\n",
       "</table>\n",
       "</div>"
      ],
      "text/plain": [
       "  bodyType  brand                                            car_url  \\\n",
       "0  лифтбек  SKODA  https://auto.ru/cars/used/sale/skoda/octavia/1...   \n",
       "1  лифтбек  SKODA  https://auto.ru/cars/used/sale/skoda/octavia/1...   \n",
       "2  лифтбек  SKODA  https://auto.ru/cars/used/sale/skoda/superb/11...   \n",
       "3  лифтбек  SKODA  https://auto.ru/cars/used/sale/skoda/octavia/1...   \n",
       "4  лифтбек  SKODA  https://auto.ru/cars/used/sale/skoda/octavia/1...   \n",
       "\n",
       "        color                                 complectation_dict  \\\n",
       "0       синий                                                NaN   \n",
       "1      чёрный                                                NaN   \n",
       "2       серый  {\"id\":\"20026336\",\"name\":\"Ambition\",\"available_...   \n",
       "3  коричневый  {\"id\":\"20803582\",\"name\":\"Ambition\",\"available_...   \n",
       "4       белый                                                NaN   \n",
       "\n",
       "                                         description engineDisplacement  \\\n",
       "0  Все автомобили, представленные в продаже, прох...            1.2 LTR   \n",
       "1  ЛОТ: 01217195\\nАвтопрага Север\\nДанный автомоб...            1.6 LTR   \n",
       "2  Все автомобили, представленные в продаже, прох...            1.8 LTR   \n",
       "3  КОМПЛЕКТ ЗИМНЕЙ (ЛЕТНЕЙ) РЕЗИНЫ ПО СЕЗОНУ В ПО...            1.6 LTR   \n",
       "4  ЛОТ: 01220889\\nАвтопрага Север\\n\\nВы можете по...            1.8 LTR   \n",
       "\n",
       "  enginePower                                     equipment_dict fuelType  \\\n",
       "0     105 N12  {\"engine-proof\":true,\"tinted-glass\":true,\"airb...   бензин   \n",
       "1     110 N12  {\"cruise-control\":true,\"asr\":true,\"esp\":true,\"...   бензин   \n",
       "2     152 N12  {\"cruise-control\":true,\"tinted-glass\":true,\"es...   бензин   \n",
       "3     110 N12  {\"cruise-control\":true,\"roller-blind-for-rear-...   бензин   \n",
       "4     152 N12  {\"cruise-control\":true,\"asr\":true,\"esp\":true,\"...   бензин   \n",
       "\n",
       "                                               image  mileage  modelDate  \\\n",
       "0  https://autoru.naydex.net/o9DBXQ270/5ac010hAY0...    74000       2013   \n",
       "1  https://autoru.naydex.net/o9DBXQ270/5ac010hAY0...    60563       2017   \n",
       "2  https://avatars.mds.yandex.net/get-autoru-vos/...    88000       2013   \n",
       "3  https://autoru.naydex.net/o9DBXQ270/5ac010hAY0...    95000       2013   \n",
       "4  https://autoru.naydex.net/o9DBXQ270/5ac010hAY0...    58536       2008   \n",
       "\n",
       "                                          model_info model_name  \\\n",
       "0  {\"code\":\"OCTAVIA\",\"name\":\"Octavia\",\"ru_name\":\"...    OCTAVIA   \n",
       "1  {\"code\":\"OCTAVIA\",\"name\":\"Octavia\",\"ru_name\":\"...    OCTAVIA   \n",
       "2  {\"code\":\"SUPERB\",\"name\":\"Superb\",\"ru_name\":\"Су...     SUPERB   \n",
       "3  {\"code\":\"OCTAVIA\",\"name\":\"Octavia\",\"ru_name\":\"...    OCTAVIA   \n",
       "4  {\"code\":\"OCTAVIA\",\"name\":\"Octavia\",\"ru_name\":\"...    OCTAVIA   \n",
       "\n",
       "                     name  numberOfDoors  parsing_unixtime priceCurrency  \\\n",
       "0      1.2 AMT (105 л.с.)              5        1603226273           RUB   \n",
       "1       1.6 MT (110 л.с.)              5        1603226277           RUB   \n",
       "2  DSG 1.8 AMT (152 л.с.)              5        1603226280           RUB   \n",
       "3       1.6 AT (110 л.с.)              5        1603226284           RUB   \n",
       "4       1.8 AT (152 л.с.)              5        1603226288           RUB   \n",
       "\n",
       "   productionDate     sell_id  \\\n",
       "0            2014  1100575026   \n",
       "1            2017  1100549428   \n",
       "2            2014  1100658222   \n",
       "3            2014  1100937408   \n",
       "4            2012  1101037972   \n",
       "\n",
       "                                           super_gen     vehicleConfiguration  \\\n",
       "0  {\"id\":\"10373605\",\"displacement\":1197,\"engine_t...       LIFTBACK ROBOT 1.2   \n",
       "1  {\"id\":\"20913311\",\"displacement\":1598,\"engine_t...  LIFTBACK MECHANICAL 1.6   \n",
       "2  {\"id\":\"20026323\",\"nameplate\":\"DSG\",\"displaceme...       LIFTBACK ROBOT 1.8   \n",
       "3  {\"id\":\"20105521\",\"displacement\":1598,\"engine_t...   LIFTBACK AUTOMATIC 1.6   \n",
       "4  {\"id\":\"4561004\",\"displacement\":1798,\"engine_ty...   LIFTBACK AUTOMATIC 1.8   \n",
       "\n",
       "  vehicleTransmission    vendor    Владельцы Владение       ПТС    Привод  \\\n",
       "0    роботизированная  EUROPEAN  3 или более      NaN  Оригинал  передний   \n",
       "1        механическая  EUROPEAN   1 владелец      NaN  Оригинал  передний   \n",
       "2    роботизированная  EUROPEAN   1 владелец      NaN  Оригинал  передний   \n",
       "3      автоматическая  EUROPEAN   1 владелец      NaN  Оригинал  передний   \n",
       "4      автоматическая  EUROPEAN   1 владелец      NaN  Оригинал  передний   \n",
       "\n",
       "    Руль           Состояние     Таможня  \n",
       "0  Левый  Не требует ремонта  Растаможен  \n",
       "1  Левый  Не требует ремонта  Растаможен  \n",
       "2  Левый  Не требует ремонта  Растаможен  \n",
       "3  Левый  Не требует ремонта  Растаможен  \n",
       "4  Левый  Не требует ремонта  Растаможен  "
      ]
     },
     "metadata": {},
     "output_type": "display_data"
    }
   ],
   "source": [
    "pd.set_option('display.max_columns', None)\n",
    "print('train data: ', train.shape)\n",
    "display(train.head(5))\n",
    "print('test data: ', test.shape)\n",
    "display(test.head(5))"
   ]
  },
  {
   "cell_type": "markdown",
   "id": "78798978",
   "metadata": {
    "papermill": {
     "duration": 0.130267,
     "end_time": "2021-09-14T14:16:47.462986",
     "exception": false,
     "start_time": "2021-09-14T14:16:47.332719",
     "status": "completed"
    },
    "tags": []
   },
   "source": [
    "## Инфляция"
   ]
  },
  {
   "cell_type": "code",
   "execution_count": 16,
   "id": "cd1a3502",
   "metadata": {
    "execution": {
     "iopub.execute_input": "2021-09-14T14:16:47.749630Z",
     "iopub.status.busy": "2021-09-14T14:16:47.723070Z",
     "iopub.status.idle": "2021-09-14T14:16:47.783190Z",
     "shell.execute_reply": "2021-09-14T14:16:47.782514Z",
     "shell.execute_reply.started": "2021-09-14T13:48:47.492018Z"
    },
    "papermill": {
     "duration": 0.192294,
     "end_time": "2021-09-14T14:16:47.783355",
     "exception": false,
     "start_time": "2021-09-14T14:16:47.591061",
     "status": "completed"
    },
    "tags": []
   },
   "outputs": [],
   "source": [
    "# удаляем знак валюты и пробелы в цене\n",
    "train['price'] =train['price'].astype(str)\n",
    "train['price'] = train['price'].apply(lambda x: x if len(x) ==1 else ''.join(x.split()[0:-1])).astype(int)"
   ]
  },
  {
   "cell_type": "code",
   "execution_count": 17,
   "id": "5b8d337a",
   "metadata": {
    "execution": {
     "iopub.execute_input": "2021-09-14T14:16:48.048638Z",
     "iopub.status.busy": "2021-09-14T14:16:48.043462Z",
     "iopub.status.idle": "2021-09-14T14:16:48.339092Z",
     "shell.execute_reply": "2021-09-14T14:16:48.338553Z",
     "shell.execute_reply.started": "2021-09-14T13:48:47.559069Z"
    },
    "papermill": {
     "duration": 0.427618,
     "end_time": "2021-09-14T14:16:48.339228",
     "exception": false,
     "start_time": "2021-09-14T14:16:47.911610",
     "status": "completed"
    },
    "tags": []
   },
   "outputs": [
    {
     "name": "stdout",
     "output_type": "stream",
     "text": [
      "SKODA 2020: 657326.633273703\n",
      "SKODA 2021: 910444.3177229388\n",
      "Инфляция: 38.51%\n",
      "\n",
      "AUDI 2020: 1502616.5201474202\n",
      "AUDI 2021: 1677113.6928999145\n",
      "Инфляция: 11.61%\n",
      "\n",
      "HONDA 2020: 595388.4040920716\n",
      "HONDA 2021: 699112.622754491\n",
      "Инфляция: 17.42%\n",
      "\n",
      "VOLVO 2020: 1776484.3166828323\n",
      "VOLVO 2021: 1233911.1361125063\n",
      "Инфляция: -30.54%\n",
      "\n",
      "BMW 2020: 2387441.4331296673\n",
      "BMW 2021: 2466772.130835735\n",
      "Инфляция: 3.32%\n",
      "\n",
      "NISSAN 2020: 891387.644173913\n",
      "NISSAN 2021: 931886.534647724\n",
      "Инфляция: 4.54%\n",
      "\n",
      "INFINITI 2020: 1564960.196911197\n",
      "INFINITI 2021: 1602153.632780083\n",
      "Инфляция: 2.38%\n",
      "\n",
      "MERCEDES 2020: 3526259.7003383883\n",
      "MERCEDES 2021: 3435923.9598136283\n",
      "Инфляция: -2.56%\n",
      "\n",
      "TOYOTA 2020: 1348232.2266944733\n",
      "TOYOTA 2021: 1764081.6214222484\n",
      "Инфляция: 30.84%\n",
      "\n",
      "LEXUS 2020: 2025737.124282983\n",
      "LEXUS 2021: 2708173.126965638\n",
      "Инфляция: 33.69%\n",
      "\n",
      "VOLKSWAGEN 2020: 999332.647869498\n",
      "VOLKSWAGEN 2021: 1113360.6555655566\n",
      "Инфляция: 11.41%\n",
      "\n",
      "MITSUBISHI 2020: 994034.449859658\n",
      "MITSUBISHI 2021: 874427.4276932084\n",
      "Инфляция: -12.03%\n",
      "\n"
     ]
    }
   ],
   "source": [
    "# смотрим инфляцию по брендам\n",
    "brands = test.brand.unique()\n",
    "infos = []\n",
    "for brand in brands:\n",
    "    mean20 = train_2020[train_2020[\"brand\"]==brand].price.mean()\n",
    "    mean21 = train[train[\"brand\"]==brand].price.mean()\n",
    "    inf = (mean21-mean20)/mean20\n",
    "    infos.append(inf)\n",
    "    print(f'{brand} 2020: {mean20}')\n",
    "    print(f'{brand} 2021: {mean21}')\n",
    "    print(f'Инфляция: {round(inf * 100,2)}%')\n",
    "    print()"
   ]
  },
  {
   "cell_type": "code",
   "execution_count": 18,
   "id": "3ba38070",
   "metadata": {
    "execution": {
     "iopub.execute_input": "2021-09-14T14:16:48.603756Z",
     "iopub.status.busy": "2021-09-14T14:16:48.602899Z",
     "iopub.status.idle": "2021-09-14T14:16:49.072476Z",
     "shell.execute_reply": "2021-09-14T14:16:49.072944Z",
     "shell.execute_reply.started": "2021-09-14T13:48:47.881697Z"
    },
    "papermill": {
     "duration": 0.60658,
     "end_time": "2021-09-14T14:16:49.073125",
     "exception": false,
     "start_time": "2021-09-14T14:16:48.466545",
     "status": "completed"
    },
    "tags": []
   },
   "outputs": [
    {
     "data": {
      "text/html": [
       "<div>\n",
       "<style scoped>\n",
       "    .dataframe tbody tr th:only-of-type {\n",
       "        vertical-align: middle;\n",
       "    }\n",
       "\n",
       "    .dataframe tbody tr th {\n",
       "        vertical-align: top;\n",
       "    }\n",
       "\n",
       "    .dataframe thead th {\n",
       "        text-align: right;\n",
       "    }\n",
       "</style>\n",
       "<table border=\"1\" class=\"dataframe\">\n",
       "  <thead>\n",
       "    <tr style=\"text-align: right;\">\n",
       "      <th></th>\n",
       "      <th>bodyType</th>\n",
       "      <th>brand</th>\n",
       "      <th>car_url</th>\n",
       "      <th>color</th>\n",
       "      <th>description</th>\n",
       "      <th>engineDisplacement</th>\n",
       "      <th>enginePower</th>\n",
       "      <th>fuelType</th>\n",
       "      <th>image</th>\n",
       "      <th>mileage</th>\n",
       "      <th>modelDate</th>\n",
       "      <th>model_name</th>\n",
       "      <th>name</th>\n",
       "      <th>numberOfDoors</th>\n",
       "      <th>parsing_unixtime</th>\n",
       "      <th>priceCurrency</th>\n",
       "      <th>productionDate</th>\n",
       "      <th>sell_id</th>\n",
       "      <th>vehicleConfiguration</th>\n",
       "      <th>vehicleTransmission</th>\n",
       "      <th>Владельцы</th>\n",
       "      <th>ПТС</th>\n",
       "      <th>Привод</th>\n",
       "      <th>Руль</th>\n",
       "      <th>Состояние</th>\n",
       "      <th>Таможня</th>\n",
       "      <th>price</th>\n",
       "      <th>equipmentGroups</th>\n",
       "    </tr>\n",
       "  </thead>\n",
       "  <tbody>\n",
       "    <tr>\n",
       "      <th>0</th>\n",
       "      <td>лифтбек</td>\n",
       "      <td>SKODA</td>\n",
       "      <td>https://auto.ru/cars/used/sale/skoda/octavia/1...</td>\n",
       "      <td>серебристый</td>\n",
       "      <td>Машине нужны любящие руки понимающего человека...</td>\n",
       "      <td>1.8 LTR</td>\n",
       "      <td>152 N12</td>\n",
       "      <td>бензин</td>\n",
       "      <td>https://autoru.naydex.net/ggLF9n453/6ee1a95w/V...</td>\n",
       "      <td>205 500 км</td>\n",
       "      <td>2008</td>\n",
       "      <td>Skoda Octavia II (A5) Рестайлинг</td>\n",
       "      <td>1.8 MT</td>\n",
       "      <td>5</td>\n",
       "      <td>1628872293</td>\n",
       "      <td>RUB</td>\n",
       "      <td>2012</td>\n",
       "      <td>№ 1104849127</td>\n",
       "      <td>LIFTBACK MECHANICAL 1.8</td>\n",
       "      <td>механическая</td>\n",
       "      <td>2 владельца</td>\n",
       "      <td>Оригинал</td>\n",
       "      <td>передний</td>\n",
       "      <td>Левый</td>\n",
       "      <td>Не требует ремонта</td>\n",
       "      <td>Растаможен</td>\n",
       "      <td>620999</td>\n",
       "      <td>[{'name': 'Безопасность', 'values': ['Антиблок...</td>\n",
       "    </tr>\n",
       "    <tr>\n",
       "      <th>1</th>\n",
       "      <td>компактвэн</td>\n",
       "      <td>SKODA</td>\n",
       "      <td>https://auto.ru/cars/used/sale/skoda/roomster/...</td>\n",
       "      <td>серый</td>\n",
       "      <td>🔆Добрый день! Просьба приезжать в маске! \\n👁Ос...</td>\n",
       "      <td>1.4 LTR</td>\n",
       "      <td>86 N12</td>\n",
       "      <td>бензин</td>\n",
       "      <td>https://avatars.mds.yandex.net/get-autoru-vos/...</td>\n",
       "      <td>86 602 км</td>\n",
       "      <td>2010</td>\n",
       "      <td>Skoda Roomster I Рестайлинг</td>\n",
       "      <td>1.4 MT</td>\n",
       "      <td>5</td>\n",
       "      <td>1628872296</td>\n",
       "      <td>RUB</td>\n",
       "      <td>2012</td>\n",
       "      <td>№ 1104891539</td>\n",
       "      <td>COMPACTVAN MECHANICAL 1.4</td>\n",
       "      <td>механическая</td>\n",
       "      <td>1 владелец</td>\n",
       "      <td>Оригинал</td>\n",
       "      <td>передний</td>\n",
       "      <td>Левый</td>\n",
       "      <td>Не требует ремонта</td>\n",
       "      <td>Растаможен</td>\n",
       "      <td>699000</td>\n",
       "      <td>[{'name': 'Безопасность', 'values': ['Подушка ...</td>\n",
       "    </tr>\n",
       "  </tbody>\n",
       "</table>\n",
       "</div>"
      ],
      "text/plain": [
       "     bodyType  brand                                            car_url  \\\n",
       "0     лифтбек  SKODA  https://auto.ru/cars/used/sale/skoda/octavia/1...   \n",
       "1  компактвэн  SKODA  https://auto.ru/cars/used/sale/skoda/roomster/...   \n",
       "\n",
       "         color                                        description  \\\n",
       "0  серебристый  Машине нужны любящие руки понимающего человека...   \n",
       "1        серый  🔆Добрый день! Просьба приезжать в маске! \\n👁Ос...   \n",
       "\n",
       "  engineDisplacement enginePower fuelType  \\\n",
       "0            1.8 LTR     152 N12   бензин   \n",
       "1            1.4 LTR      86 N12   бензин   \n",
       "\n",
       "                                               image     mileage  modelDate  \\\n",
       "0  https://autoru.naydex.net/ggLF9n453/6ee1a95w/V...  205 500 км       2008   \n",
       "1  https://avatars.mds.yandex.net/get-autoru-vos/...   86 602 км       2010   \n",
       "\n",
       "                         model_name    name  numberOfDoors  parsing_unixtime  \\\n",
       "0  Skoda Octavia II (A5) Рестайлинг  1.8 MT              5        1628872293   \n",
       "1       Skoda Roomster I Рестайлинг  1.4 MT              5        1628872296   \n",
       "\n",
       "  priceCurrency  productionDate       sell_id       vehicleConfiguration  \\\n",
       "0           RUB            2012  № 1104849127    LIFTBACK MECHANICAL 1.8   \n",
       "1           RUB            2012  № 1104891539  COMPACTVAN MECHANICAL 1.4   \n",
       "\n",
       "  vehicleTransmission    Владельцы       ПТС    Привод   Руль  \\\n",
       "0        механическая  2 владельца  Оригинал  передний  Левый   \n",
       "1        механическая   1 владелец  Оригинал  передний  Левый   \n",
       "\n",
       "            Состояние     Таможня   price  \\\n",
       "0  Не требует ремонта  Растаможен  620999   \n",
       "1  Не требует ремонта  Растаможен  699000   \n",
       "\n",
       "                                     equipmentGroups  \n",
       "0  [{'name': 'Безопасность', 'values': ['Антиблок...  \n",
       "1  [{'name': 'Безопасность', 'values': ['Подушка ...  "
      ]
     },
     "metadata": {},
     "output_type": "display_data"
    },
    {
     "data": {
      "text/html": [
       "<div>\n",
       "<style scoped>\n",
       "    .dataframe tbody tr th:only-of-type {\n",
       "        vertical-align: middle;\n",
       "    }\n",
       "\n",
       "    .dataframe tbody tr th {\n",
       "        vertical-align: top;\n",
       "    }\n",
       "\n",
       "    .dataframe thead th {\n",
       "        text-align: right;\n",
       "    }\n",
       "</style>\n",
       "<table border=\"1\" class=\"dataframe\">\n",
       "  <thead>\n",
       "    <tr style=\"text-align: right;\">\n",
       "      <th></th>\n",
       "      <th>bodyType</th>\n",
       "      <th>brand</th>\n",
       "      <th>car_url</th>\n",
       "      <th>color</th>\n",
       "      <th>description</th>\n",
       "      <th>engineDisplacement</th>\n",
       "      <th>enginePower</th>\n",
       "      <th>fuelType</th>\n",
       "      <th>image</th>\n",
       "      <th>mileage</th>\n",
       "      <th>modelDate</th>\n",
       "      <th>model_name</th>\n",
       "      <th>name</th>\n",
       "      <th>numberOfDoors</th>\n",
       "      <th>parsing_unixtime</th>\n",
       "      <th>priceCurrency</th>\n",
       "      <th>productionDate</th>\n",
       "      <th>sell_id</th>\n",
       "      <th>vehicleConfiguration</th>\n",
       "      <th>vehicleTransmission</th>\n",
       "      <th>Владельцы</th>\n",
       "      <th>ПТС</th>\n",
       "      <th>Привод</th>\n",
       "      <th>Руль</th>\n",
       "      <th>Состояние</th>\n",
       "      <th>Таможня</th>\n",
       "      <th>price</th>\n",
       "      <th>equipmentGroups</th>\n",
       "    </tr>\n",
       "  </thead>\n",
       "  <tbody>\n",
       "    <tr>\n",
       "      <th>0</th>\n",
       "      <td>лифтбек</td>\n",
       "      <td>SKODA</td>\n",
       "      <td>https://auto.ru/cars/used/sale/skoda/octavia/1...</td>\n",
       "      <td>серебристый</td>\n",
       "      <td>Машине нужны любящие руки понимающего человека...</td>\n",
       "      <td>1.8 LTR</td>\n",
       "      <td>152 N12</td>\n",
       "      <td>бензин</td>\n",
       "      <td>https://autoru.naydex.net/ggLF9n453/6ee1a95w/V...</td>\n",
       "      <td>205 500 км</td>\n",
       "      <td>2008</td>\n",
       "      <td>Skoda Octavia II (A5) Рестайлинг</td>\n",
       "      <td>1.8 MT</td>\n",
       "      <td>5</td>\n",
       "      <td>1628872293</td>\n",
       "      <td>RUB</td>\n",
       "      <td>2012</td>\n",
       "      <td>№ 1104849127</td>\n",
       "      <td>LIFTBACK MECHANICAL 1.8</td>\n",
       "      <td>механическая</td>\n",
       "      <td>2 владельца</td>\n",
       "      <td>Оригинал</td>\n",
       "      <td>передний</td>\n",
       "      <td>Левый</td>\n",
       "      <td>Не требует ремонта</td>\n",
       "      <td>Растаможен</td>\n",
       "      <td>448352.0</td>\n",
       "      <td>[{'name': 'Безопасность', 'values': ['Антиблок...</td>\n",
       "    </tr>\n",
       "    <tr>\n",
       "      <th>1</th>\n",
       "      <td>компактвэн</td>\n",
       "      <td>SKODA</td>\n",
       "      <td>https://auto.ru/cars/used/sale/skoda/roomster/...</td>\n",
       "      <td>серый</td>\n",
       "      <td>🔆Добрый день! Просьба приезжать в маске! \\n👁Ос...</td>\n",
       "      <td>1.4 LTR</td>\n",
       "      <td>86 N12</td>\n",
       "      <td>бензин</td>\n",
       "      <td>https://avatars.mds.yandex.net/get-autoru-vos/...</td>\n",
       "      <td>86 602 км</td>\n",
       "      <td>2010</td>\n",
       "      <td>Skoda Roomster I Рестайлинг</td>\n",
       "      <td>1.4 MT</td>\n",
       "      <td>5</td>\n",
       "      <td>1628872296</td>\n",
       "      <td>RUB</td>\n",
       "      <td>2012</td>\n",
       "      <td>№ 1104891539</td>\n",
       "      <td>COMPACTVAN MECHANICAL 1.4</td>\n",
       "      <td>механическая</td>\n",
       "      <td>1 владелец</td>\n",
       "      <td>Оригинал</td>\n",
       "      <td>передний</td>\n",
       "      <td>Левый</td>\n",
       "      <td>Не требует ремонта</td>\n",
       "      <td>Растаможен</td>\n",
       "      <td>504667.0</td>\n",
       "      <td>[{'name': 'Безопасность', 'values': ['Подушка ...</td>\n",
       "    </tr>\n",
       "  </tbody>\n",
       "</table>\n",
       "</div>"
      ],
      "text/plain": [
       "     bodyType  brand                                            car_url  \\\n",
       "0     лифтбек  SKODA  https://auto.ru/cars/used/sale/skoda/octavia/1...   \n",
       "1  компактвэн  SKODA  https://auto.ru/cars/used/sale/skoda/roomster/...   \n",
       "\n",
       "         color                                        description  \\\n",
       "0  серебристый  Машине нужны любящие руки понимающего человека...   \n",
       "1        серый  🔆Добрый день! Просьба приезжать в маске! \\n👁Ос...   \n",
       "\n",
       "  engineDisplacement enginePower fuelType  \\\n",
       "0            1.8 LTR     152 N12   бензин   \n",
       "1            1.4 LTR      86 N12   бензин   \n",
       "\n",
       "                                               image     mileage  modelDate  \\\n",
       "0  https://autoru.naydex.net/ggLF9n453/6ee1a95w/V...  205 500 км       2008   \n",
       "1  https://avatars.mds.yandex.net/get-autoru-vos/...   86 602 км       2010   \n",
       "\n",
       "                         model_name    name  numberOfDoors  parsing_unixtime  \\\n",
       "0  Skoda Octavia II (A5) Рестайлинг  1.8 MT              5        1628872293   \n",
       "1       Skoda Roomster I Рестайлинг  1.4 MT              5        1628872296   \n",
       "\n",
       "  priceCurrency  productionDate       sell_id       vehicleConfiguration  \\\n",
       "0           RUB            2012  № 1104849127    LIFTBACK MECHANICAL 1.8   \n",
       "1           RUB            2012  № 1104891539  COMPACTVAN MECHANICAL 1.4   \n",
       "\n",
       "  vehicleTransmission    Владельцы       ПТС    Привод   Руль  \\\n",
       "0        механическая  2 владельца  Оригинал  передний  Левый   \n",
       "1        механическая   1 владелец  Оригинал  передний  Левый   \n",
       "\n",
       "            Состояние     Таможня     price  \\\n",
       "0  Не требует ремонта  Растаможен  448352.0   \n",
       "1  Не требует ремонта  Растаможен  504667.0   \n",
       "\n",
       "                                     equipmentGroups  \n",
       "0  [{'name': 'Безопасность', 'values': ['Антиблок...  \n",
       "1  [{'name': 'Безопасность', 'values': ['Подушка ...  "
      ]
     },
     "metadata": {},
     "output_type": "display_data"
    }
   ],
   "source": [
    "# учитываем инфляцию и меняем цены\n",
    "brands = test.brand.unique()\n",
    "temp_data = train.copy()\n",
    "display(temp_data.head(2))\n",
    "for brand in brands:\n",
    "    mean20 = train_2020[train_2020[\"brand\"]==brand].price.mean()\n",
    "    mean21 = train[train[\"brand\"]==brand].price.mean()\n",
    "    inf = (mean21-mean20)/mean20\n",
    "    if inf>0:\n",
    "        temp_data.loc[temp_data[\"brand\"]==brand, ['price']] = temp_data.loc[temp_data[\"brand\"]==brand, ['price']].apply(lambda x: round(x/(1+inf),0))\n",
    "display(temp_data.head(2))"
   ]
  },
  {
   "cell_type": "code",
   "execution_count": 19,
   "id": "bfc7a720",
   "metadata": {
    "execution": {
     "iopub.execute_input": "2021-09-14T14:16:49.340484Z",
     "iopub.status.busy": "2021-09-14T14:16:49.339674Z",
     "iopub.status.idle": "2021-09-14T14:16:49.342727Z",
     "shell.execute_reply": "2021-09-14T14:16:49.342158Z",
     "shell.execute_reply.started": "2021-09-14T13:48:48.428895Z"
    },
    "papermill": {
     "duration": 0.13977,
     "end_time": "2021-09-14T14:16:49.342936",
     "exception": false,
     "start_time": "2021-09-14T14:16:49.203166",
     "status": "completed"
    },
    "tags": []
   },
   "outputs": [],
   "source": [
    "train = temp_data"
   ]
  },
  {
   "cell_type": "code",
   "execution_count": 20,
   "id": "e358121e",
   "metadata": {
    "execution": {
     "iopub.execute_input": "2021-09-14T14:16:49.697445Z",
     "iopub.status.busy": "2021-09-14T14:16:49.696667Z",
     "iopub.status.idle": "2021-09-14T14:16:49.806388Z",
     "shell.execute_reply": "2021-09-14T14:16:49.805636Z",
     "shell.execute_reply.started": "2021-09-14T13:48:48.441603Z"
    },
    "papermill": {
     "duration": 0.332304,
     "end_time": "2021-09-14T14:16:49.806608",
     "exception": false,
     "start_time": "2021-09-14T14:16:49.474304",
     "status": "completed"
    },
    "tags": []
   },
   "outputs": [
    {
     "name": "stdout",
     "output_type": "stream",
     "text": [
      "<class 'pandas.core.frame.DataFrame'>\n",
      "RangeIndex: 34240 entries, 0 to 34239\n",
      "Data columns (total 28 columns):\n",
      " #   Column                Non-Null Count  Dtype  \n",
      "---  ------                --------------  -----  \n",
      " 0   bodyType              34240 non-null  object \n",
      " 1   brand                 34240 non-null  object \n",
      " 2   car_url               34240 non-null  object \n",
      " 3   color                 34240 non-null  object \n",
      " 4   description           34240 non-null  object \n",
      " 5   engineDisplacement    34240 non-null  object \n",
      " 6   enginePower           34240 non-null  object \n",
      " 7   fuelType              34240 non-null  object \n",
      " 8   image                 34240 non-null  object \n",
      " 9   mileage               34240 non-null  object \n",
      " 10  modelDate             34240 non-null  int64  \n",
      " 11  model_name            34240 non-null  object \n",
      " 12  name                  34240 non-null  object \n",
      " 13  numberOfDoors         34240 non-null  int64  \n",
      " 14  parsing_unixtime      34240 non-null  int64  \n",
      " 15  priceCurrency         34240 non-null  object \n",
      " 16  productionDate        34240 non-null  int64  \n",
      " 17  sell_id               34240 non-null  object \n",
      " 18  vehicleConfiguration  34240 non-null  object \n",
      " 19  vehicleTransmission   34240 non-null  object \n",
      " 20  Владельцы             34240 non-null  object \n",
      " 21  ПТС                   34240 non-null  object \n",
      " 22  Привод                34240 non-null  object \n",
      " 23  Руль                  34240 non-null  object \n",
      " 24  Состояние             34240 non-null  object \n",
      " 25  Таможня               34240 non-null  object \n",
      " 26  price                 34240 non-null  float64\n",
      " 27  equipmentGroups       26208 non-null  object \n",
      "dtypes: float64(1), int64(4), object(23)\n",
      "memory usage: 7.3+ MB\n"
     ]
    },
    {
     "data": {
      "text/plain": [
       "bodyType                   0\n",
       "brand                      0\n",
       "car_url                    0\n",
       "color                      0\n",
       "description                0\n",
       "engineDisplacement         0\n",
       "enginePower                0\n",
       "fuelType                   0\n",
       "image                      0\n",
       "mileage                    0\n",
       "modelDate                  0\n",
       "model_name                 0\n",
       "name                       0\n",
       "numberOfDoors              0\n",
       "parsing_unixtime           0\n",
       "priceCurrency              0\n",
       "productionDate             0\n",
       "sell_id                    0\n",
       "vehicleConfiguration       0\n",
       "vehicleTransmission        0\n",
       "Владельцы                  0\n",
       "ПТС                        0\n",
       "Привод                     0\n",
       "Руль                       0\n",
       "Состояние                  0\n",
       "Таможня                    0\n",
       "price                      0\n",
       "equipmentGroups         8032\n",
       "dtype: int64"
      ]
     },
     "execution_count": 20,
     "metadata": {},
     "output_type": "execute_result"
    }
   ],
   "source": [
    "train.info()\n",
    "train.isna().sum()"
   ]
  },
  {
   "cell_type": "markdown",
   "id": "cc6871b6",
   "metadata": {
    "papermill": {
     "duration": 0.129992,
     "end_time": "2021-09-14T14:16:50.068357",
     "exception": false,
     "start_time": "2021-09-14T14:16:49.938365",
     "status": "completed"
    },
    "tags": []
   },
   "source": [
    "## Data Preprocessing"
   ]
  },
  {
   "cell_type": "code",
   "execution_count": 21,
   "id": "0a629a00",
   "metadata": {
    "execution": {
     "iopub.execute_input": "2021-09-14T14:16:50.334583Z",
     "iopub.status.busy": "2021-09-14T14:16:50.333749Z",
     "iopub.status.idle": "2021-09-14T14:16:50.337148Z",
     "shell.execute_reply": "2021-09-14T14:16:50.337857Z",
     "shell.execute_reply.started": "2021-09-14T13:48:48.668197Z"
    },
    "papermill": {
     "duration": 0.140046,
     "end_time": "2021-09-14T14:16:50.338078",
     "exception": false,
     "start_time": "2021-09-14T14:16:50.198032",
     "status": "completed"
    },
    "tags": []
   },
   "outputs": [
    {
     "name": "stdout",
     "output_type": "stream",
     "text": [
      "Index(['bodyType', 'brand', 'car_url', 'color', 'description',\n",
      "       'engineDisplacement', 'enginePower', 'fuelType', 'image', 'mileage',\n",
      "       'modelDate', 'model_name', 'name', 'numberOfDoors', 'parsing_unixtime',\n",
      "       'priceCurrency', 'productionDate', 'sell_id', 'vehicleConfiguration',\n",
      "       'vehicleTransmission', 'Владельцы', 'ПТС', 'Привод', 'Руль',\n",
      "       'Состояние', 'Таможня', 'price', 'equipmentGroups'],\n",
      "      dtype='object')\n",
      "Index(['bodyType', 'brand', 'color', 'fuelType', 'modelDate', 'name',\n",
      "       'numberOfDoors', 'productionDate', 'vehicleConfiguration',\n",
      "       'vehicleTransmission', 'engineDisplacement', 'enginePower',\n",
      "       'description', 'mileage', 'Комплектация', 'Привод', 'Руль', 'Состояние',\n",
      "       'Владельцы', 'ПТС', 'Таможня', 'Владение', 'price', 'start_date',\n",
      "       'hidden', 'model'],\n",
      "      dtype='object')\n",
      "Index(['bodyType', 'brand', 'car_url', 'color', 'complectation_dict',\n",
      "       'description', 'engineDisplacement', 'enginePower', 'equipment_dict',\n",
      "       'fuelType', 'image', 'mileage', 'modelDate', 'model_info', 'model_name',\n",
      "       'name', 'numberOfDoors', 'parsing_unixtime', 'priceCurrency',\n",
      "       'productionDate', 'sell_id', 'super_gen', 'vehicleConfiguration',\n",
      "       'vehicleTransmission', 'vendor', 'Владельцы', 'Владение', 'ПТС',\n",
      "       'Привод', 'Руль', 'Состояние', 'Таможня'],\n",
      "      dtype='object')\n"
     ]
    }
   ],
   "source": [
    "print(train.columns)\n",
    "print(train_2020.columns)\n",
    "print(test.columns)"
   ]
  },
  {
   "cell_type": "code",
   "execution_count": 22,
   "id": "3f339da8",
   "metadata": {
    "execution": {
     "iopub.execute_input": "2021-09-14T14:16:50.608305Z",
     "iopub.status.busy": "2021-09-14T14:16:50.607457Z",
     "iopub.status.idle": "2021-09-14T14:16:50.612196Z",
     "shell.execute_reply": "2021-09-14T14:16:50.611231Z",
     "shell.execute_reply.started": "2021-09-14T13:48:48.679333Z"
    },
    "papermill": {
     "duration": 0.143098,
     "end_time": "2021-09-14T14:16:50.612521",
     "exception": false,
     "start_time": "2021-09-14T14:16:50.469423",
     "status": "completed"
    },
    "tags": []
   },
   "outputs": [
    {
     "name": "stdout",
     "output_type": "stream",
     "text": [
      "Столбцы, которые есть в тесте, но их нет в трейне 2020: ['model_name', 'model_info', 'super_gen', 'equipment_dict', 'vendor', 'image', 'car_url', 'complectation_dict', 'parsing_unixtime', 'sell_id', 'priceCurrency']\n",
      "Столбцы, которые есть в тесте, но их нет в трейне 2021: ['model_info', 'super_gen', 'equipment_dict', 'vendor', 'Владение', 'complectation_dict']\n"
     ]
    }
   ],
   "source": [
    "# Создадим список общих переменных для теста и трейна:\n",
    "s2020 = list(train_2020.columns)\n",
    "s2021 = list(train.columns)\n",
    "s = set(list(test.columns))\n",
    "no2020 = [x for x in s if not x in s2020] #найдем стобцы, которых нет в трейне\n",
    "print('Столбцы, которые есть в тесте, но их нет в трейне 2020:', no2020)\n",
    "no2021 = [x for x in s if not x in s2021] #найдем стобцы, которых нет в трейне\n",
    "print('Столбцы, которые есть в тесте, но их нет в трейне 2021:', no2021)"
   ]
  },
  {
   "cell_type": "code",
   "execution_count": 23,
   "id": "80c07850",
   "metadata": {
    "execution": {
     "iopub.execute_input": "2021-09-14T14:16:50.883411Z",
     "iopub.status.busy": "2021-09-14T14:16:50.881317Z",
     "iopub.status.idle": "2021-09-14T14:16:50.929171Z",
     "shell.execute_reply": "2021-09-14T14:16:50.928547Z",
     "shell.execute_reply.started": "2021-09-14T13:48:48.691518Z"
    },
    "papermill": {
     "duration": 0.183996,
     "end_time": "2021-09-14T14:16:50.929353",
     "exception": false,
     "start_time": "2021-09-14T14:16:50.745357",
     "status": "completed"
    },
    "tags": []
   },
   "outputs": [
    {
     "data": {
      "text/plain": [
       "Index(['bodyType', 'brand', 'car_url', 'color', 'description',\n",
       "       'engineDisplacement', 'enginePower', 'fuelType', 'image', 'mileage',\n",
       "       'modelDate', 'model_name', 'name', 'numberOfDoors', 'parsing_unixtime',\n",
       "       'priceCurrency', 'productionDate', 'sell_id', 'vehicleConfiguration',\n",
       "       'vehicleTransmission', 'Владельцы', 'ПТС', 'Привод', 'Руль',\n",
       "       'Состояние', 'Таможня', 'price', 'equipment_dict'],\n",
       "      dtype='object')"
      ]
     },
     "execution_count": 23,
     "metadata": {},
     "output_type": "execute_result"
    }
   ],
   "source": [
    "train['equipment_dict'] = train['equipmentGroups']\n",
    "train = train.drop(['equipmentGroups'], axis=1)\n",
    "\n",
    "train.columns"
   ]
  },
  {
   "cell_type": "code",
   "execution_count": 24,
   "id": "dba25aa2",
   "metadata": {
    "execution": {
     "iopub.execute_input": "2021-09-14T14:16:51.200442Z",
     "iopub.status.busy": "2021-09-14T14:16:51.199680Z",
     "iopub.status.idle": "2021-09-14T14:16:51.213161Z",
     "shell.execute_reply": "2021-09-14T14:16:51.213704Z",
     "shell.execute_reply.started": "2021-09-14T13:48:48.751782Z"
    },
    "papermill": {
     "duration": 0.15011,
     "end_time": "2021-09-14T14:16:51.213914",
     "exception": false,
     "start_time": "2021-09-14T14:16:51.063804",
     "status": "completed"
    },
    "tags": []
   },
   "outputs": [],
   "source": [
    "train_2020['sell_id'] = 0\n",
    "train['sell_id'] = 0\n",
    "train_2020['car_url'] = train_2020['model']"
   ]
  },
  {
   "cell_type": "code",
   "execution_count": 25,
   "id": "00f054e0",
   "metadata": {
    "execution": {
     "iopub.execute_input": "2021-09-14T14:16:51.484173Z",
     "iopub.status.busy": "2021-09-14T14:16:51.483500Z",
     "iopub.status.idle": "2021-09-14T14:16:51.487468Z",
     "shell.execute_reply": "2021-09-14T14:16:51.486929Z",
     "shell.execute_reply.started": "2021-09-14T13:48:48.778208Z"
    },
    "papermill": {
     "duration": 0.141669,
     "end_time": "2021-09-14T14:16:51.487617",
     "exception": false,
     "start_time": "2021-09-14T14:16:51.345948",
     "status": "completed"
    },
    "tags": []
   },
   "outputs": [
    {
     "name": "stdout",
     "output_type": "stream",
     "text": [
      "Общие для 2021\n",
      "Общее количество 28\n",
      "['bodyType', 'brand', 'car_url', 'color', 'description', 'engineDisplacement', 'enginePower', 'fuelType', 'image', 'mileage', 'modelDate', 'model_name', 'name', 'numberOfDoors', 'parsing_unixtime', 'priceCurrency', 'productionDate', 'sell_id', 'vehicleConfiguration', 'vehicleTransmission', 'Владельцы', 'ПТС', 'Привод', 'Руль', 'Состояние', 'Таможня', 'price', 'equipmentGroups']\n",
      "Общие для 2020\n",
      "Общее количество 26\n",
      "['bodyType', 'brand', 'color', 'fuelType', 'modelDate', 'name', 'numberOfDoors', 'productionDate', 'vehicleConfiguration', 'vehicleTransmission', 'engineDisplacement', 'enginePower', 'description', 'mileage', 'Комплектация', 'Привод', 'Руль', 'Состояние', 'Владельцы', 'ПТС', 'Таможня', 'Владение', 'price', 'start_date', 'hidden', 'model']\n"
     ]
    }
   ],
   "source": [
    "# список общих переменных\n",
    "columns2021 = [x for x in s2021 if not x in no2021]\n",
    "print('Общие для 2021')\n",
    "print('Общее количество', len(columns2021))\n",
    "print(columns2021)\n",
    "\n",
    "columns2020 = [x for x in s2020 if not x in no2020]\n",
    "print('Общие для 2020')\n",
    "print('Общее количество', len(columns2020))\n",
    "print(columns2020)"
   ]
  },
  {
   "cell_type": "code",
   "execution_count": 26,
   "id": "f7d04182",
   "metadata": {
    "execution": {
     "iopub.execute_input": "2021-09-14T14:16:51.752535Z",
     "iopub.status.busy": "2021-09-14T14:16:51.751828Z",
     "iopub.status.idle": "2021-09-14T14:16:51.755430Z",
     "shell.execute_reply": "2021-09-14T14:16:51.755940Z",
     "shell.execute_reply.started": "2021-09-14T13:48:48.790370Z"
    },
    "papermill": {
     "duration": 0.13743,
     "end_time": "2021-09-14T14:16:51.756109",
     "exception": false,
     "start_time": "2021-09-14T14:16:51.618679",
     "status": "completed"
    },
    "tags": []
   },
   "outputs": [],
   "source": [
    "to_del = ['image','parsing_unixtime','priceCurrency','description','model_name', 'Состояние','equipmentGroups']"
   ]
  },
  {
   "cell_type": "code",
   "execution_count": 27,
   "id": "49f2c794",
   "metadata": {
    "execution": {
     "iopub.execute_input": "2021-09-14T14:16:52.022083Z",
     "iopub.status.busy": "2021-09-14T14:16:52.021358Z",
     "iopub.status.idle": "2021-09-14T14:16:52.025442Z",
     "shell.execute_reply": "2021-09-14T14:16:52.025961Z",
     "shell.execute_reply.started": "2021-09-14T13:48:48.800915Z"
    },
    "papermill": {
     "duration": 0.139321,
     "end_time": "2021-09-14T14:16:52.026128",
     "exception": false,
     "start_time": "2021-09-14T14:16:51.886807",
     "status": "completed"
    },
    "tags": []
   },
   "outputs": [],
   "source": [
    "columns = [x for x in columns2021 if not x in to_del] \n",
    "columns = ([x for x in columns if x in columns2020+['car_url', 'sell_id']] )"
   ]
  },
  {
   "cell_type": "code",
   "execution_count": 28,
   "id": "9b6665ad",
   "metadata": {
    "execution": {
     "iopub.execute_input": "2021-09-14T14:16:52.294653Z",
     "iopub.status.busy": "2021-09-14T14:16:52.293620Z",
     "iopub.status.idle": "2021-09-14T14:16:52.374976Z",
     "shell.execute_reply": "2021-09-14T14:16:52.376003Z",
     "shell.execute_reply.started": "2021-09-14T13:48:48.813567Z"
    },
    "papermill": {
     "duration": 0.216831,
     "end_time": "2021-09-14T14:16:52.376317",
     "exception": false,
     "start_time": "2021-09-14T14:16:52.159486",
     "status": "completed"
    },
    "tags": []
   },
   "outputs": [],
   "source": [
    "test['price']=0\n",
    "\n",
    "df_train_2020 = train_2020[columns]\n",
    "df_train = train[columns]\n",
    "df_test = test[columns]"
   ]
  },
  {
   "cell_type": "code",
   "execution_count": 29,
   "id": "806ec314",
   "metadata": {
    "execution": {
     "iopub.execute_input": "2021-09-14T14:16:52.647457Z",
     "iopub.status.busy": "2021-09-14T14:16:52.646485Z",
     "iopub.status.idle": "2021-09-14T14:16:52.905857Z",
     "shell.execute_reply": "2021-09-14T14:16:52.906326Z",
     "shell.execute_reply.started": "2021-09-14T13:48:48.905554Z"
    },
    "papermill": {
     "duration": 0.394613,
     "end_time": "2021-09-14T14:16:52.906513",
     "exception": false,
     "start_time": "2021-09-14T14:16:52.511900",
     "status": "completed"
    },
    "tags": []
   },
   "outputs": [
    {
     "data": {
      "text/plain": [
       "(34686, 22)"
      ]
     },
     "execution_count": 29,
     "metadata": {},
     "output_type": "execute_result"
    }
   ],
   "source": [
    "df_train_2020['sample'] = 1 # помечаем где у нас трейн\n",
    "df_train['sample'] = 1 # помечаем где у нас трейн\n",
    "df_test['sample'] = 0 # помечаем где у нас тест\n",
    "\n",
    "data = df_test.append(df_train, sort=False).append(df_train_2020, sort=False).reset_index(drop=True) # объединяем\n",
    "data[data['sample']==0].shape"
   ]
  },
  {
   "cell_type": "code",
   "execution_count": 30,
   "id": "4e348e79",
   "metadata": {
    "execution": {
     "iopub.execute_input": "2021-09-14T14:16:53.175194Z",
     "iopub.status.busy": "2021-09-14T14:16:53.174193Z",
     "iopub.status.idle": "2021-09-14T14:16:53.203793Z",
     "shell.execute_reply": "2021-09-14T14:16:53.204315Z",
     "shell.execute_reply.started": "2021-09-14T13:48:49.180846Z"
    },
    "papermill": {
     "duration": 0.165493,
     "end_time": "2021-09-14T14:16:53.204492",
     "exception": false,
     "start_time": "2021-09-14T14:16:53.038999",
     "status": "completed"
    },
    "tags": []
   },
   "outputs": [
    {
     "data": {
      "text/html": [
       "<div>\n",
       "<style scoped>\n",
       "    .dataframe tbody tr th:only-of-type {\n",
       "        vertical-align: middle;\n",
       "    }\n",
       "\n",
       "    .dataframe tbody tr th {\n",
       "        vertical-align: top;\n",
       "    }\n",
       "\n",
       "    .dataframe thead th {\n",
       "        text-align: right;\n",
       "    }\n",
       "</style>\n",
       "<table border=\"1\" class=\"dataframe\">\n",
       "  <thead>\n",
       "    <tr style=\"text-align: right;\">\n",
       "      <th></th>\n",
       "      <th>bodyType</th>\n",
       "      <th>brand</th>\n",
       "      <th>car_url</th>\n",
       "      <th>color</th>\n",
       "      <th>engineDisplacement</th>\n",
       "      <th>enginePower</th>\n",
       "      <th>fuelType</th>\n",
       "      <th>mileage</th>\n",
       "      <th>modelDate</th>\n",
       "      <th>name</th>\n",
       "      <th>numberOfDoors</th>\n",
       "      <th>productionDate</th>\n",
       "      <th>sell_id</th>\n",
       "      <th>vehicleConfiguration</th>\n",
       "      <th>vehicleTransmission</th>\n",
       "      <th>Владельцы</th>\n",
       "      <th>ПТС</th>\n",
       "      <th>Привод</th>\n",
       "      <th>Руль</th>\n",
       "      <th>Таможня</th>\n",
       "      <th>price</th>\n",
       "      <th>sample</th>\n",
       "    </tr>\n",
       "  </thead>\n",
       "  <tbody>\n",
       "    <tr>\n",
       "      <th>55559</th>\n",
       "      <td>внедорожник 5 дв.</td>\n",
       "      <td>MERCEDES</td>\n",
       "      <td>https://auto.ru/cars/used/sale/mercedes/gls_kl...</td>\n",
       "      <td>белый</td>\n",
       "      <td>3.0 LTR</td>\n",
       "      <td>249 N12</td>\n",
       "      <td>дизель</td>\n",
       "      <td>52 560 км</td>\n",
       "      <td>2015.0</td>\n",
       "      <td>3.0 AT</td>\n",
       "      <td>5.0</td>\n",
       "      <td>2018</td>\n",
       "      <td>0</td>\n",
       "      <td>ALLROAD_5_DOORS AUTOMATIC 3.0</td>\n",
       "      <td>автоматическая</td>\n",
       "      <td>1 владелец</td>\n",
       "      <td>Оригинал</td>\n",
       "      <td>полный</td>\n",
       "      <td>Левый</td>\n",
       "      <td>Растаможен</td>\n",
       "      <td>5199000.0</td>\n",
       "      <td>1</td>\n",
       "    </tr>\n",
       "    <tr>\n",
       "      <th>137858</th>\n",
       "      <td>Внедорожник 5 дв.</td>\n",
       "      <td>TOYOTA</td>\n",
       "      <td>RAV_4</td>\n",
       "      <td>200204</td>\n",
       "      <td>2.0</td>\n",
       "      <td>149.0</td>\n",
       "      <td>бензин</td>\n",
       "      <td>0</td>\n",
       "      <td>2018.0</td>\n",
       "      <td>2.0 CVT (149 л.с.) 4WD</td>\n",
       "      <td>5.0</td>\n",
       "      <td>2020</td>\n",
       "      <td>0</td>\n",
       "      <td>ALLROAD_5_DOORS VARIATOR 2.0</td>\n",
       "      <td>VARIATOR</td>\n",
       "      <td>NaN</td>\n",
       "      <td>ORIGINAL</td>\n",
       "      <td>полный</td>\n",
       "      <td>LEFT</td>\n",
       "      <td>True</td>\n",
       "      <td>2405000.0</td>\n",
       "      <td>1</td>\n",
       "    </tr>\n",
       "    <tr>\n",
       "      <th>129850</th>\n",
       "      <td>Лифтбек</td>\n",
       "      <td>SKODA</td>\n",
       "      <td>OCTAVIA</td>\n",
       "      <td>FAFBFB</td>\n",
       "      <td>1.6</td>\n",
       "      <td>110.0</td>\n",
       "      <td>бензин</td>\n",
       "      <td>0</td>\n",
       "      <td>2017.0</td>\n",
       "      <td>1.6 AT (110 л.с.)</td>\n",
       "      <td>5.0</td>\n",
       "      <td>2020</td>\n",
       "      <td>0</td>\n",
       "      <td>LIFTBACK AUTOMATIC 1.6</td>\n",
       "      <td>AUTOMATIC</td>\n",
       "      <td>NaN</td>\n",
       "      <td>ORIGINAL</td>\n",
       "      <td>передний</td>\n",
       "      <td>LEFT</td>\n",
       "      <td>True</td>\n",
       "      <td>1338900.0</td>\n",
       "      <td>1</td>\n",
       "    </tr>\n",
       "    <tr>\n",
       "      <th>109694</th>\n",
       "      <td>Седан</td>\n",
       "      <td>MAZDA</td>\n",
       "      <td>626</td>\n",
       "      <td>FAFBFB</td>\n",
       "      <td>2.0</td>\n",
       "      <td>120.0</td>\n",
       "      <td>бензин</td>\n",
       "      <td>350000</td>\n",
       "      <td>1982.0</td>\n",
       "      <td>2.0 AT (120 л.с.)</td>\n",
       "      <td>4.0</td>\n",
       "      <td>1986</td>\n",
       "      <td>0</td>\n",
       "      <td>SEDAN AUTOMATIC 2.0</td>\n",
       "      <td>AUTOMATIC</td>\n",
       "      <td>3.0</td>\n",
       "      <td>ORIGINAL</td>\n",
       "      <td>передний</td>\n",
       "      <td>LEFT</td>\n",
       "      <td>True</td>\n",
       "      <td>43000.0</td>\n",
       "      <td>1</td>\n",
       "    </tr>\n",
       "    <tr>\n",
       "      <th>144214</th>\n",
       "      <td>Внедорожник 5 дв.</td>\n",
       "      <td>VOLKSWAGEN</td>\n",
       "      <td>TIGUAN</td>\n",
       "      <td>CACECB</td>\n",
       "      <td>2.0</td>\n",
       "      <td>170.0</td>\n",
       "      <td>бензин</td>\n",
       "      <td>146700</td>\n",
       "      <td>2007.0</td>\n",
       "      <td>2.0 AT (170 л.с.) 4WD</td>\n",
       "      <td>5.0</td>\n",
       "      <td>2011</td>\n",
       "      <td>0</td>\n",
       "      <td>ALLROAD_5_DOORS AUTOMATIC 2.0</td>\n",
       "      <td>AUTOMATIC</td>\n",
       "      <td>3.0</td>\n",
       "      <td>ORIGINAL</td>\n",
       "      <td>полный</td>\n",
       "      <td>LEFT</td>\n",
       "      <td>True</td>\n",
       "      <td>600000.0</td>\n",
       "      <td>1</td>\n",
       "    </tr>\n",
       "  </tbody>\n",
       "</table>\n",
       "</div>"
      ],
      "text/plain": [
       "                 bodyType       brand  \\\n",
       "55559   внедорожник 5 дв.    MERCEDES   \n",
       "137858  Внедорожник 5 дв.      TOYOTA   \n",
       "129850            Лифтбек       SKODA   \n",
       "109694              Седан       MAZDA   \n",
       "144214  Внедорожник 5 дв.  VOLKSWAGEN   \n",
       "\n",
       "                                                  car_url   color  \\\n",
       "55559   https://auto.ru/cars/used/sale/mercedes/gls_kl...   белый   \n",
       "137858                                              RAV_4  200204   \n",
       "129850                                            OCTAVIA  FAFBFB   \n",
       "109694                                                626  FAFBFB   \n",
       "144214                                             TIGUAN  CACECB   \n",
       "\n",
       "       engineDisplacement enginePower fuelType    mileage  modelDate  \\\n",
       "55559             3.0 LTR     249 N12   дизель  52 560 км     2015.0   \n",
       "137858                2.0       149.0   бензин          0     2018.0   \n",
       "129850                1.6       110.0   бензин          0     2017.0   \n",
       "109694                2.0       120.0   бензин     350000     1982.0   \n",
       "144214                2.0       170.0   бензин     146700     2007.0   \n",
       "\n",
       "                          name  numberOfDoors  productionDate  sell_id  \\\n",
       "55559                   3.0 AT            5.0            2018        0   \n",
       "137858  2.0 CVT (149 л.с.) 4WD            5.0            2020        0   \n",
       "129850       1.6 AT (110 л.с.)            5.0            2020        0   \n",
       "109694       2.0 AT (120 л.с.)            4.0            1986        0   \n",
       "144214   2.0 AT (170 л.с.) 4WD            5.0            2011        0   \n",
       "\n",
       "                 vehicleConfiguration vehicleTransmission   Владельцы  \\\n",
       "55559   ALLROAD_5_DOORS AUTOMATIC 3.0      автоматическая  1 владелец   \n",
       "137858   ALLROAD_5_DOORS VARIATOR 2.0            VARIATOR         NaN   \n",
       "129850         LIFTBACK AUTOMATIC 1.6           AUTOMATIC         NaN   \n",
       "109694            SEDAN AUTOMATIC 2.0           AUTOMATIC         3.0   \n",
       "144214  ALLROAD_5_DOORS AUTOMATIC 2.0           AUTOMATIC         3.0   \n",
       "\n",
       "             ПТС    Привод   Руль     Таможня      price  sample  \n",
       "55559   Оригинал    полный  Левый  Растаможен  5199000.0       1  \n",
       "137858  ORIGINAL    полный   LEFT        True  2405000.0       1  \n",
       "129850  ORIGINAL  передний   LEFT        True  1338900.0       1  \n",
       "109694  ORIGINAL  передний   LEFT        True    43000.0       1  \n",
       "144214  ORIGINAL    полный   LEFT        True   600000.0       1  "
      ]
     },
     "execution_count": 30,
     "metadata": {},
     "output_type": "execute_result"
    }
   ],
   "source": [
    "data.sample(5)"
   ]
  },
  {
   "cell_type": "code",
   "execution_count": 31,
   "id": "35a9989d",
   "metadata": {
    "execution": {
     "iopub.execute_input": "2021-09-14T14:16:53.473927Z",
     "iopub.status.busy": "2021-09-14T14:16:53.472964Z",
     "iopub.status.idle": "2021-09-14T14:16:53.596182Z",
     "shell.execute_reply": "2021-09-14T14:16:53.596706Z",
     "shell.execute_reply.started": "2021-09-14T13:48:49.217187Z"
    },
    "papermill": {
     "duration": 0.258896,
     "end_time": "2021-09-14T14:16:53.596926",
     "exception": false,
     "start_time": "2021-09-14T14:16:53.338030",
     "status": "completed"
    },
    "tags": []
   },
   "outputs": [],
   "source": [
    "#перепроверяем на дубликаты\n",
    "data['car_url'].value_counts()\n",
    "data = data.drop_duplicates(subset=['car_url'])"
   ]
  },
  {
   "cell_type": "code",
   "execution_count": 32,
   "id": "cf735b1c",
   "metadata": {
    "execution": {
     "iopub.execute_input": "2021-09-14T14:16:53.866754Z",
     "iopub.status.busy": "2021-09-14T14:16:53.865804Z",
     "iopub.status.idle": "2021-09-14T14:16:54.000806Z",
     "shell.execute_reply": "2021-09-14T14:16:54.001336Z",
     "shell.execute_reply.started": "2021-09-14T13:48:49.360676Z"
    },
    "papermill": {
     "duration": 0.271009,
     "end_time": "2021-09-14T14:16:54.001644",
     "exception": false,
     "start_time": "2021-09-14T14:16:53.730635",
     "status": "completed"
    },
    "tags": []
   },
   "outputs": [
    {
     "name": "stdout",
     "output_type": "stream",
     "text": [
      "<class 'pandas.core.frame.DataFrame'>\n",
      "Int64Index: 69229 entries, 0 to 158301\n",
      "Data columns (total 22 columns):\n",
      " #   Column                Non-Null Count  Dtype  \n",
      "---  ------                --------------  -----  \n",
      " 0   bodyType              69229 non-null  object \n",
      " 1   brand                 69229 non-null  object \n",
      " 2   car_url               69229 non-null  object \n",
      " 3   color                 69229 non-null  object \n",
      " 4   engineDisplacement    69229 non-null  object \n",
      " 5   enginePower           69229 non-null  object \n",
      " 6   fuelType              69229 non-null  object \n",
      " 7   mileage               69229 non-null  object \n",
      " 8   modelDate             69229 non-null  float64\n",
      " 9   name                  69229 non-null  object \n",
      " 10  numberOfDoors         69229 non-null  float64\n",
      " 11  productionDate        69229 non-null  int64  \n",
      " 12  sell_id               69229 non-null  int64  \n",
      " 13  vehicleConfiguration  69229 non-null  object \n",
      " 14  vehicleTransmission   69229 non-null  object \n",
      " 15  Владельцы             69175 non-null  object \n",
      " 16  ПТС                   69224 non-null  object \n",
      " 17  Привод                69229 non-null  object \n",
      " 18  Руль                  69229 non-null  object \n",
      " 19  Таможня               69229 non-null  object \n",
      " 20  price                 69229 non-null  float64\n",
      " 21  sample                69229 non-null  int64  \n",
      "dtypes: float64(3), int64(3), object(16)\n",
      "memory usage: 12.1+ MB\n"
     ]
    }
   ],
   "source": [
    "data.info()"
   ]
  },
  {
   "cell_type": "code",
   "execution_count": 33,
   "id": "c7bf4372",
   "metadata": {
    "execution": {
     "iopub.execute_input": "2021-09-14T14:16:54.273552Z",
     "iopub.status.busy": "2021-09-14T14:16:54.272477Z",
     "iopub.status.idle": "2021-09-14T14:16:54.400198Z",
     "shell.execute_reply": "2021-09-14T14:16:54.400672Z",
     "shell.execute_reply.started": "2021-09-14T13:48:49.503441Z"
    },
    "papermill": {
     "duration": 0.264759,
     "end_time": "2021-09-14T14:16:54.400864",
     "exception": false,
     "start_time": "2021-09-14T14:16:54.136105",
     "status": "completed"
    },
    "tags": []
   },
   "outputs": [
    {
     "data": {
      "text/plain": [
       "bodyType                 0\n",
       "brand                    0\n",
       "car_url                  0\n",
       "color                    0\n",
       "engineDisplacement       0\n",
       "enginePower              0\n",
       "fuelType                 0\n",
       "mileage                  0\n",
       "modelDate                0\n",
       "name                     0\n",
       "numberOfDoors            0\n",
       "productionDate           0\n",
       "sell_id                  0\n",
       "vehicleConfiguration     0\n",
       "vehicleTransmission      0\n",
       "Владельцы               54\n",
       "ПТС                      5\n",
       "Привод                   0\n",
       "Руль                     0\n",
       "Таможня                  0\n",
       "price                    0\n",
       "sample                   0\n",
       "dtype: int64"
      ]
     },
     "execution_count": 33,
     "metadata": {},
     "output_type": "execute_result"
    }
   ],
   "source": [
    "data.isna().sum()"
   ]
  },
  {
   "cell_type": "markdown",
   "id": "cbf54b82",
   "metadata": {
    "papermill": {
     "duration": 0.132995,
     "end_time": "2021-09-14T14:16:54.666685",
     "exception": false,
     "start_time": "2021-09-14T14:16:54.533690",
     "status": "completed"
    },
    "tags": []
   },
   "source": [
    "# Features "
   ]
  },
  {
   "cell_type": "code",
   "execution_count": 34,
   "id": "61f0b21f",
   "metadata": {
    "execution": {
     "iopub.execute_input": "2021-09-14T14:16:54.936074Z",
     "iopub.status.busy": "2021-09-14T14:16:54.935393Z",
     "iopub.status.idle": "2021-09-14T14:16:54.939836Z",
     "shell.execute_reply": "2021-09-14T14:16:54.939159Z",
     "shell.execute_reply.started": "2021-09-14T13:48:49.640286Z"
    },
    "papermill": {
     "duration": 0.140329,
     "end_time": "2021-09-14T14:16:54.939978",
     "exception": false,
     "start_time": "2021-09-14T14:16:54.799649",
     "status": "completed"
    },
    "tags": []
   },
   "outputs": [],
   "source": [
    "#числовые:\n",
    "num_cols = []\n",
    "\n",
    "# бинарные\n",
    "bin_cols = []\n",
    "\n",
    "# категориальные\n",
    "cat_cols = []"
   ]
  },
  {
   "cell_type": "markdown",
   "id": "3d6e1cd8",
   "metadata": {
    "papermill": {
     "duration": 0.133162,
     "end_time": "2021-09-14T14:16:55.208742",
     "exception": false,
     "start_time": "2021-09-14T14:16:55.075580",
     "status": "completed"
    },
    "tags": []
   },
   "source": [
    "**bodyType**"
   ]
  },
  {
   "cell_type": "code",
   "execution_count": 35,
   "id": "0fd1824d",
   "metadata": {
    "execution": {
     "iopub.execute_input": "2021-09-14T14:16:55.495982Z",
     "iopub.status.busy": "2021-09-14T14:16:55.495177Z",
     "iopub.status.idle": "2021-09-14T14:16:55.498630Z",
     "shell.execute_reply": "2021-09-14T14:16:55.499194Z",
     "shell.execute_reply.started": "2021-09-14T13:48:49.647053Z"
    },
    "papermill": {
     "duration": 0.156848,
     "end_time": "2021-09-14T14:16:55.499389",
     "exception": false,
     "start_time": "2021-09-14T14:16:55.342541",
     "status": "completed"
    },
    "tags": []
   },
   "outputs": [
    {
     "data": {
      "text/plain": [
       "внедорожник 5 дв.                26269\n",
       "седан                            23656\n",
       "лифтбек                           5096\n",
       "хэтчбек 5 дв.                     3945\n",
       "универсал 5 дв.                   2485\n",
       "                                 ...  \n",
       "Пикап Двойная кабина Crew Cab        1\n",
       "Компактвэн Gran Tourer               1\n",
       "фастбек                              1\n",
       "универсал 3 дв.                      1\n",
       "Минивэн L2                           1\n",
       "Name: bodyType, Length: 79, dtype: int64"
      ]
     },
     "execution_count": 35,
     "metadata": {},
     "output_type": "execute_result"
    }
   ],
   "source": [
    "data.bodyType.value_counts()"
   ]
  },
  {
   "cell_type": "code",
   "execution_count": 36,
   "id": "670fdbcb",
   "metadata": {
    "execution": {
     "iopub.execute_input": "2021-09-14T14:16:55.775228Z",
     "iopub.status.busy": "2021-09-14T14:16:55.774300Z",
     "iopub.status.idle": "2021-09-14T14:16:55.847531Z",
     "shell.execute_reply": "2021-09-14T14:16:55.846933Z",
     "shell.execute_reply.started": "2021-09-14T13:48:49.675707Z"
    },
    "papermill": {
     "duration": 0.21493,
     "end_time": "2021-09-14T14:16:55.847687",
     "exception": false,
     "start_time": "2021-09-14T14:16:55.632757",
     "status": "completed"
    },
    "tags": []
   },
   "outputs": [],
   "source": [
    "data['bodyType'] = data['bodyType'].astype(str).apply(lambda x: None if x.strip()=='' else x)\n",
    "data['bodyType'] = data.bodyType.apply(lambda x: x.split(' ')[0].lower())"
   ]
  },
  {
   "cell_type": "code",
   "execution_count": 37,
   "id": "7ca119ac",
   "metadata": {
    "execution": {
     "iopub.execute_input": "2021-09-14T14:16:56.137135Z",
     "iopub.status.busy": "2021-09-14T14:16:56.136360Z",
     "iopub.status.idle": "2021-09-14T14:16:56.139961Z",
     "shell.execute_reply": "2021-09-14T14:16:56.139366Z",
     "shell.execute_reply.started": "2021-09-14T13:48:49.759310Z"
    },
    "papermill": {
     "duration": 0.158732,
     "end_time": "2021-09-14T14:16:56.140098",
     "exception": false,
     "start_time": "2021-09-14T14:16:55.981366",
     "status": "completed"
    },
    "tags": []
   },
   "outputs": [
    {
     "data": {
      "text/plain": [
       "внедорожник      26736\n",
       "седан            23942\n",
       "лифтбек           5109\n",
       "хэтчбек           4960\n",
       "универсал         2539\n",
       "минивэн           1768\n",
       "купе              1724\n",
       "компактвэн         933\n",
       "пикап              583\n",
       "купе-хардтоп       286\n",
       "родстер            195\n",
       "кабриолет          192\n",
       "фургон             189\n",
       "микровэн            37\n",
       "седан-хардтоп       22\n",
       "лимузин              7\n",
       "тарга                4\n",
       "фастбек              3\n",
       "Name: bodyType, dtype: int64"
      ]
     },
     "execution_count": 37,
     "metadata": {},
     "output_type": "execute_result"
    }
   ],
   "source": [
    "data.bodyType.value_counts()"
   ]
  },
  {
   "cell_type": "code",
   "execution_count": 38,
   "id": "b994da2d",
   "metadata": {
    "execution": {
     "iopub.execute_input": "2021-09-14T14:16:56.427689Z",
     "iopub.status.busy": "2021-09-14T14:16:56.426977Z",
     "iopub.status.idle": "2021-09-14T14:16:56.806379Z",
     "shell.execute_reply": "2021-09-14T14:16:56.806888Z",
     "shell.execute_reply.started": "2021-09-14T13:48:49.783784Z"
    },
    "papermill": {
     "duration": 0.532505,
     "end_time": "2021-09-14T14:16:56.807055",
     "exception": false,
     "start_time": "2021-09-14T14:16:56.274550",
     "status": "completed"
    },
    "tags": []
   },
   "outputs": [
    {
     "data": {
      "text/plain": [
       "<AxesSubplot:>"
      ]
     },
     "execution_count": 38,
     "metadata": {},
     "output_type": "execute_result"
    },
    {
     "data": {
      "image/png": "[encoded data removed]",
      "text/plain": [
       "<Figure size 432x288 with 1 Axes>"
      ]
     },
     "metadata": {
      "needs_background": "light"
     },
     "output_type": "display_data"
    }
   ],
   "source": [
    "#распределение\n",
    "data.bodyType.value_counts().plot.barh() "
   ]
  },
  {
   "cell_type": "code",
   "execution_count": 39,
   "id": "c6f2d29c",
   "metadata": {
    "execution": {
     "iopub.execute_input": "2021-09-14T14:16:57.083551Z",
     "iopub.status.busy": "2021-09-14T14:16:57.082829Z",
     "iopub.status.idle": "2021-09-14T14:16:57.085393Z",
     "shell.execute_reply": "2021-09-14T14:16:57.084866Z",
     "shell.execute_reply.started": "2021-09-14T13:48:50.140426Z"
    },
    "papermill": {
     "duration": 0.14403,
     "end_time": "2021-09-14T14:16:57.085543",
     "exception": false,
     "start_time": "2021-09-14T14:16:56.941513",
     "status": "completed"
    },
    "tags": []
   },
   "outputs": [],
   "source": [
    "cat_cols.append('bodyType')"
   ]
  },
  {
   "cell_type": "markdown",
   "id": "1a12537b",
   "metadata": {
    "papermill": {
     "duration": 0.134091,
     "end_time": "2021-09-14T14:16:57.354136",
     "exception": false,
     "start_time": "2021-09-14T14:16:57.220045",
     "status": "completed"
    },
    "tags": []
   },
   "source": [
    "**brand**"
   ]
  },
  {
   "cell_type": "code",
   "execution_count": 40,
   "id": "25a14704",
   "metadata": {
    "execution": {
     "iopub.execute_input": "2021-09-14T14:16:57.677319Z",
     "iopub.status.busy": "2021-09-14T14:16:57.676607Z",
     "iopub.status.idle": "2021-09-14T14:16:57.682453Z",
     "shell.execute_reply": "2021-09-14T14:16:57.683015Z",
     "shell.execute_reply.started": "2021-09-14T13:48:50.147233Z"
    },
    "papermill": {
     "duration": 0.159468,
     "end_time": "2021-09-14T14:16:57.683179",
     "exception": false,
     "start_time": "2021-09-14T14:16:57.523711",
     "status": "completed"
    },
    "tags": []
   },
   "outputs": [
    {
     "data": {
      "text/plain": [
       "BMW           7854\n",
       "NISSAN        7846\n",
       "VOLKSWAGEN    7713\n",
       "MERCEDES      7557\n",
       "TOYOTA        7347\n",
       "AUDI          6905\n",
       "SKODA         6265\n",
       "MITSUBISHI    6249\n",
       "VOLVO         3423\n",
       "HONDA         3172\n",
       "LEXUS         2535\n",
       "INFINITI      1828\n",
       "FORD            53\n",
       "CHEVROLET       46\n",
       "MAZDA           40\n",
       "HYUNDAI         38\n",
       "KIA             34\n",
       "OPEL            33\n",
       "CITROEN         28\n",
       "PEUGEOT         27\n",
       "RENAULT         27\n",
       "SUZUKI          25\n",
       "SUBARU          20\n",
       "CHERY           19\n",
       "CHRYSLER        18\n",
       "GREAT_WALL      15\n",
       "CADILLAC        15\n",
       "PORSCHE         15\n",
       "DODGE           14\n",
       "JAGUAR          14\n",
       "DAEWOO          12\n",
       "GEELY           10\n",
       "SSANG_YONG      10\n",
       "LAND_ROVER       9\n",
       "JEEP             8\n",
       "MINI             5\n",
       "Name: brand, dtype: int64"
      ]
     },
     "execution_count": 40,
     "metadata": {},
     "output_type": "execute_result"
    }
   ],
   "source": [
    "data.brand.value_counts()"
   ]
  },
  {
   "cell_type": "code",
   "execution_count": 41,
   "id": "2eb8886f",
   "metadata": {
    "execution": {
     "iopub.execute_input": "2021-09-14T14:16:57.958958Z",
     "iopub.status.busy": "2021-09-14T14:16:57.958158Z",
     "iopub.status.idle": "2021-09-14T14:16:57.962638Z",
     "shell.execute_reply": "2021-09-14T14:16:57.962033Z",
     "shell.execute_reply.started": "2021-09-14T13:48:50.174256Z"
    },
    "papermill": {
     "duration": 0.142707,
     "end_time": "2021-09-14T14:16:57.962794",
     "exception": false,
     "start_time": "2021-09-14T14:16:57.820087",
     "status": "completed"
    },
    "tags": []
   },
   "outputs": [],
   "source": [
    "cat_cols.append('brand')"
   ]
  },
  {
   "cell_type": "markdown",
   "id": "5da9dc64",
   "metadata": {
    "papermill": {
     "duration": 0.136637,
     "end_time": "2021-09-14T14:16:58.237002",
     "exception": false,
     "start_time": "2021-09-14T14:16:58.100365",
     "status": "completed"
    },
    "tags": []
   },
   "source": [
    "**color**"
   ]
  },
  {
   "cell_type": "code",
   "execution_count": 42,
   "id": "2493413e",
   "metadata": {
    "execution": {
     "iopub.execute_input": "2021-09-14T14:16:58.513528Z",
     "iopub.status.busy": "2021-09-14T14:16:58.512857Z",
     "iopub.status.idle": "2021-09-14T14:16:58.531711Z",
     "shell.execute_reply": "2021-09-14T14:16:58.531053Z",
     "shell.execute_reply.started": "2021-09-14T13:48:50.187697Z"
    },
    "papermill": {
     "duration": 0.159517,
     "end_time": "2021-09-14T14:16:58.531851",
     "exception": false,
     "start_time": "2021-09-14T14:16:58.372334",
     "status": "completed"
    },
    "tags": []
   },
   "outputs": [
    {
     "data": {
      "text/plain": [
       "чёрный         21147\n",
       "белый          13219\n",
       "серый           8202\n",
       "серебристый     7404\n",
       "синий           6332\n",
       "коричневый      3078\n",
       "красный         3060\n",
       "зелёный         1678\n",
       "бежевый         1185\n",
       "голубой          813\n",
       "золотистый       490\n",
       "пурпурный        446\n",
       "фиолетовый       404\n",
       "жёлтый           402\n",
       "оранжевый        263\n",
       "040001           243\n",
       "FAFBFB           200\n",
       "0000CC           130\n",
       "97948F           130\n",
       "CACECB           117\n",
       "EE1D19            80\n",
       "007F00            53\n",
       "200204            37\n",
       "розовый           20\n",
       "22A0F8            17\n",
       "C49648            17\n",
       "660099            17\n",
       "4A2197            14\n",
       "FFD600            14\n",
       "DEA522             8\n",
       "FF8649             8\n",
       "FFC0CB             1\n",
       "Name: color, dtype: int64"
      ]
     },
     "execution_count": 42,
     "metadata": {},
     "output_type": "execute_result"
    }
   ],
   "source": [
    "data.color.value_counts()"
   ]
  },
  {
   "cell_type": "code",
   "execution_count": 43,
   "id": "84c69747",
   "metadata": {
    "execution": {
     "iopub.execute_input": "2021-09-14T14:16:58.806124Z",
     "iopub.status.busy": "2021-09-14T14:16:58.805522Z",
     "iopub.status.idle": "2021-09-14T14:16:59.288075Z",
     "shell.execute_reply": "2021-09-14T14:16:59.288619Z",
     "shell.execute_reply.started": "2021-09-14T13:48:50.216204Z"
    },
    "papermill": {
     "duration": 0.620876,
     "end_time": "2021-09-14T14:16:59.288812",
     "exception": false,
     "start_time": "2021-09-14T14:16:58.667936",
     "status": "completed"
    },
    "tags": []
   },
   "outputs": [
    {
     "data": {
      "text/plain": [
       "<AxesSubplot:>"
      ]
     },
     "execution_count": 43,
     "metadata": {},
     "output_type": "execute_result"
    },
    {
     "data": {
      "image/png": "[encoded data removed]",
      "text/plain": [
       "<Figure size 432x288 with 1 Axes>"
      ]
     },
     "metadata": {
      "needs_background": "light"
     },
     "output_type": "display_data"
    }
   ],
   "source": [
    "data.color.value_counts().plot.barh() "
   ]
  },
  {
   "cell_type": "code",
   "execution_count": 44,
   "id": "afbc7eb2",
   "metadata": {
    "execution": {
     "iopub.execute_input": "2021-09-14T14:16:59.568540Z",
     "iopub.status.busy": "2021-09-14T14:16:59.567893Z",
     "iopub.status.idle": "2021-09-14T14:16:59.571110Z",
     "shell.execute_reply": "2021-09-14T14:16:59.570614Z",
     "shell.execute_reply.started": "2021-09-14T13:48:50.666700Z"
    },
    "papermill": {
     "duration": 0.144911,
     "end_time": "2021-09-14T14:16:59.571254",
     "exception": false,
     "start_time": "2021-09-14T14:16:59.426343",
     "status": "completed"
    },
    "tags": []
   },
   "outputs": [],
   "source": [
    "cat_cols.append('color')"
   ]
  },
  {
   "cell_type": "markdown",
   "id": "ba0d4c02",
   "metadata": {
    "papermill": {
     "duration": 0.136951,
     "end_time": "2021-09-14T14:16:59.845546",
     "exception": false,
     "start_time": "2021-09-14T14:16:59.708595",
     "status": "completed"
    },
    "tags": []
   },
   "source": [
    "**fuelType**"
   ]
  },
  {
   "cell_type": "code",
   "execution_count": 45,
   "id": "63100919",
   "metadata": {
    "execution": {
     "iopub.execute_input": "2021-09-14T14:17:00.141637Z",
     "iopub.status.busy": "2021-09-14T14:17:00.140964Z",
     "iopub.status.idle": "2021-09-14T14:17:00.146178Z",
     "shell.execute_reply": "2021-09-14T14:17:00.145644Z",
     "shell.execute_reply.started": "2021-09-14T13:48:50.673204Z"
    },
    "papermill": {
     "duration": 0.162574,
     "end_time": "2021-09-14T14:17:00.146338",
     "exception": false,
     "start_time": "2021-09-14T14:16:59.983764",
     "status": "completed"
    },
    "tags": []
   },
   "outputs": [
    {
     "data": {
      "text/plain": [
       "бензин     56416\n",
       "дизель     12103\n",
       "гибрид       555\n",
       "электро      143\n",
       "газ           12\n",
       "Name: fuelType, dtype: int64"
      ]
     },
     "execution_count": 45,
     "metadata": {},
     "output_type": "execute_result"
    }
   ],
   "source": [
    "data.fuelType.value_counts()"
   ]
  },
  {
   "cell_type": "code",
   "execution_count": 46,
   "id": "395cbb76",
   "metadata": {
    "execution": {
     "iopub.execute_input": "2021-09-14T14:17:00.423258Z",
     "iopub.status.busy": "2021-09-14T14:17:00.422640Z",
     "iopub.status.idle": "2021-09-14T14:17:00.730884Z",
     "shell.execute_reply": "2021-09-14T14:17:00.730336Z",
     "shell.execute_reply.started": "2021-09-14T13:48:50.700894Z"
    },
    "papermill": {
     "duration": 0.448313,
     "end_time": "2021-09-14T14:17:00.731034",
     "exception": false,
     "start_time": "2021-09-14T14:17:00.282721",
     "status": "completed"
    },
    "tags": []
   },
   "outputs": [
    {
     "data": {
      "text/plain": [
       "<AxesSubplot:xlabel='fuelType', ylabel='count'>"
      ]
     },
     "execution_count": 46,
     "metadata": {},
     "output_type": "execute_result"
    },
    {
     "data": {
      "image/png": "[encoded data removed]",
      "text/plain": [
       "<Figure size 432x288 with 1 Axes>"
      ]
     },
     "metadata": {
      "needs_background": "light"
     },
     "output_type": "display_data"
    }
   ],
   "source": [
    "sns.countplot(x = 'fuelType', data = data)"
   ]
  },
  {
   "cell_type": "code",
   "execution_count": 47,
   "id": "eb9eb42c",
   "metadata": {
    "execution": {
     "iopub.execute_input": "2021-09-14T14:17:01.018069Z",
     "iopub.status.busy": "2021-09-14T14:17:01.017433Z",
     "iopub.status.idle": "2021-09-14T14:17:01.020414Z",
     "shell.execute_reply": "2021-09-14T14:17:01.019777Z",
     "shell.execute_reply.started": "2021-09-14T13:48:51.734724Z"
    },
    "papermill": {
     "duration": 0.149014,
     "end_time": "2021-09-14T14:17:01.020553",
     "exception": false,
     "start_time": "2021-09-14T14:17:00.871539",
     "status": "completed"
    },
    "tags": []
   },
   "outputs": [],
   "source": [
    "cat_cols.append('fuelType')"
   ]
  },
  {
   "cell_type": "markdown",
   "id": "8dd78c10",
   "metadata": {
    "papermill": {
     "duration": 0.137878,
     "end_time": "2021-09-14T14:17:01.297532",
     "exception": false,
     "start_time": "2021-09-14T14:17:01.159654",
     "status": "completed"
    },
    "tags": []
   },
   "source": [
    "**engineDisplacement**"
   ]
  },
  {
   "cell_type": "code",
   "execution_count": 48,
   "id": "dae96359",
   "metadata": {
    "execution": {
     "iopub.execute_input": "2021-09-14T14:17:01.578120Z",
     "iopub.status.busy": "2021-09-14T14:17:01.577225Z",
     "iopub.status.idle": "2021-09-14T14:17:01.594658Z",
     "shell.execute_reply": "2021-09-14T14:17:01.595176Z",
     "shell.execute_reply.started": "2021-09-14T13:48:51.752582Z"
    },
    "papermill": {
     "duration": 0.159666,
     "end_time": "2021-09-14T14:17:01.595361",
     "exception": false,
     "start_time": "2021-09-14T14:17:01.435695",
     "status": "completed"
    },
    "tags": []
   },
   "outputs": [
    {
     "data": {
      "text/plain": [
       "2.0 LTR    15558\n",
       "1.6 LTR     9811\n",
       "3.0 LTR     7636\n",
       "1.8 LTR     5870\n",
       "2.5 LTR     4769\n",
       "           ...  \n",
       "2.6            1\n",
       "V10            1\n",
       "ST220          1\n",
       "Raptor         1\n",
       "2.9d           1\n",
       "Name: engineDisplacement, Length: 220, dtype: int64"
      ]
     },
     "execution_count": 48,
     "metadata": {},
     "output_type": "execute_result"
    }
   ],
   "source": [
    "data.engineDisplacement.value_counts()"
   ]
  },
  {
   "cell_type": "code",
   "execution_count": 49,
   "id": "8550b248",
   "metadata": {
    "execution": {
     "iopub.execute_input": "2021-09-14T14:17:01.874593Z",
     "iopub.status.busy": "2021-09-14T14:17:01.873927Z",
     "iopub.status.idle": "2021-09-14T14:17:01.880389Z",
     "shell.execute_reply": "2021-09-14T14:17:01.880917Z",
     "shell.execute_reply.started": "2021-09-14T13:48:51.777885Z"
    },
    "papermill": {
     "duration": 0.148342,
     "end_time": "2021-09-14T14:17:01.881102",
     "exception": false,
     "start_time": "2021-09-14T14:17:01.732760",
     "status": "completed"
    },
    "tags": []
   },
   "outputs": [],
   "source": [
    "data['engineDisplacement'] = data['engineDisplacement'].astype(str)"
   ]
  },
  {
   "cell_type": "code",
   "execution_count": 50,
   "id": "42d3c647",
   "metadata": {
    "execution": {
     "iopub.execute_input": "2021-09-14T14:17:02.174149Z",
     "iopub.status.busy": "2021-09-14T14:17:02.163995Z",
     "iopub.status.idle": "2021-09-14T14:17:02.281804Z",
     "shell.execute_reply": "2021-09-14T14:17:02.281212Z",
     "shell.execute_reply.started": "2021-09-14T13:48:51.788102Z"
    },
    "papermill": {
     "duration": 0.261792,
     "end_time": "2021-09-14T14:17:02.281974",
     "exception": false,
     "start_time": "2021-09-14T14:17:02.020182",
     "status": "completed"
    },
    "tags": []
   },
   "outputs": [],
   "source": [
    "data['engineDisplacement'] = data['engineDisplacement'].str.extract('(\\d.\\d)',expand=False).str.strip()"
   ]
  },
  {
   "cell_type": "code",
   "execution_count": 51,
   "id": "fc2574b7",
   "metadata": {
    "execution": {
     "iopub.execute_input": "2021-09-14T14:17:02.582060Z",
     "iopub.status.busy": "2021-09-14T14:17:02.581327Z",
     "iopub.status.idle": "2021-09-14T14:17:02.597013Z",
     "shell.execute_reply": "2021-09-14T14:17:02.596367Z",
     "shell.execute_reply.started": "2021-09-14T13:48:51.912720Z"
    },
    "papermill": {
     "duration": 0.172163,
     "end_time": "2021-09-14T14:17:02.597167",
     "exception": false,
     "start_time": "2021-09-14T14:17:02.425004",
     "status": "completed"
    },
    "tags": []
   },
   "outputs": [],
   "source": [
    "data['engineDisplacement']=data['engineDisplacement'].astype(float)"
   ]
  },
  {
   "cell_type": "code",
   "execution_count": 52,
   "id": "f9ec9199",
   "metadata": {
    "execution": {
     "iopub.execute_input": "2021-09-14T14:17:02.891702Z",
     "iopub.status.busy": "2021-09-14T14:17:02.881193Z",
     "iopub.status.idle": "2021-09-14T14:17:02.961494Z",
     "shell.execute_reply": "2021-09-14T14:17:02.960752Z",
     "shell.execute_reply.started": "2021-09-14T13:48:51.941322Z"
    },
    "papermill": {
     "duration": 0.225569,
     "end_time": "2021-09-14T14:17:02.961646",
     "exception": false,
     "start_time": "2021-09-14T14:17:02.736077",
     "status": "completed"
    },
    "tags": []
   },
   "outputs": [],
   "source": [
    "data['engineDisplacement'] = data['engineDisplacement'].apply(lambda x: round(x/100,1) if (x>10) else round(x,1))"
   ]
  },
  {
   "cell_type": "code",
   "execution_count": 53,
   "id": "8e60ba8a",
   "metadata": {
    "execution": {
     "iopub.execute_input": "2021-09-14T14:17:03.247166Z",
     "iopub.status.busy": "2021-09-14T14:17:03.246497Z",
     "iopub.status.idle": "2021-09-14T14:17:03.250184Z",
     "shell.execute_reply": "2021-09-14T14:17:03.250723Z",
     "shell.execute_reply.started": "2021-09-14T13:48:52.040754Z"
    },
    "papermill": {
     "duration": 0.148713,
     "end_time": "2021-09-14T14:17:03.250886",
     "exception": false,
     "start_time": "2021-09-14T14:17:03.102173",
     "status": "completed"
    },
    "tags": []
   },
   "outputs": [
    {
     "data": {
      "text/plain": [
       "2.4"
      ]
     },
     "execution_count": 53,
     "metadata": {},
     "output_type": "execute_result"
    }
   ],
   "source": [
    "mean = round(data['engineDisplacement'].mean(),1)\n",
    "mean"
   ]
  },
  {
   "cell_type": "code",
   "execution_count": 54,
   "id": "bd065d19",
   "metadata": {
    "execution": {
     "iopub.execute_input": "2021-09-14T14:17:03.531412Z",
     "iopub.status.busy": "2021-09-14T14:17:03.530766Z",
     "iopub.status.idle": "2021-09-14T14:17:03.549094Z",
     "shell.execute_reply": "2021-09-14T14:17:03.548590Z",
     "shell.execute_reply.started": "2021-09-14T13:48:52.049245Z"
    },
    "papermill": {
     "duration": 0.159974,
     "end_time": "2021-09-14T14:17:03.549234",
     "exception": false,
     "start_time": "2021-09-14T14:17:03.389260",
     "status": "completed"
    },
    "tags": []
   },
   "outputs": [
    {
     "data": {
      "text/plain": [
       "55"
      ]
     },
     "execution_count": 54,
     "metadata": {},
     "output_type": "execute_result"
    }
   ],
   "source": [
    "data[data['sample']==0]['engineDisplacement'].isnull().sum()"
   ]
  },
  {
   "cell_type": "code",
   "execution_count": 55,
   "id": "06790b63",
   "metadata": {
    "execution": {
     "iopub.execute_input": "2021-09-14T14:17:03.831495Z",
     "iopub.status.busy": "2021-09-14T14:17:03.830793Z",
     "iopub.status.idle": "2021-09-14T14:17:03.835573Z",
     "shell.execute_reply": "2021-09-14T14:17:03.836087Z",
     "shell.execute_reply.started": "2021-09-14T13:48:52.076229Z"
    },
    "papermill": {
     "duration": 0.148485,
     "end_time": "2021-09-14T14:17:03.836280",
     "exception": false,
     "start_time": "2021-09-14T14:17:03.687795",
     "status": "completed"
    },
    "tags": []
   },
   "outputs": [],
   "source": [
    "data['engineDisplacement'].fillna(mean, inplace=True)"
   ]
  },
  {
   "cell_type": "code",
   "execution_count": 56,
   "id": "1b69daac",
   "metadata": {
    "execution": {
     "iopub.execute_input": "2021-09-14T14:17:04.127691Z",
     "iopub.status.busy": "2021-09-14T14:17:04.120782Z",
     "iopub.status.idle": "2021-09-14T14:17:05.366194Z",
     "shell.execute_reply": "2021-09-14T14:17:05.365669Z",
     "shell.execute_reply.started": "2021-09-14T13:48:52.084273Z"
    },
    "papermill": {
     "duration": 1.390772,
     "end_time": "2021-09-14T14:17:05.366410",
     "exception": false,
     "start_time": "2021-09-14T14:17:03.975638",
     "status": "completed"
    },
    "tags": []
   },
   "outputs": [
    {
     "data": {
      "text/plain": [
       "<AxesSubplot:>"
      ]
     },
     "execution_count": 56,
     "metadata": {},
     "output_type": "execute_result"
    },
    {
     "data": {
      "image/png": "[encoded data removed]",
      "text/plain": [
       "<Figure size 432x288 with 1 Axes>"
      ]
     },
     "metadata": {
      "needs_background": "light"
     },
     "output_type": "display_data"
    }
   ],
   "source": [
    "data['engineDisplacement'].value_counts().plot.barh()"
   ]
  },
  {
   "cell_type": "code",
   "execution_count": 57,
   "id": "9c5c29cd",
   "metadata": {
    "execution": {
     "iopub.execute_input": "2021-09-14T14:17:05.654154Z",
     "iopub.status.busy": "2021-09-14T14:17:05.653516Z",
     "iopub.status.idle": "2021-09-14T14:17:05.655153Z",
     "shell.execute_reply": "2021-09-14T14:17:05.655638Z",
     "shell.execute_reply.started": "2021-09-14T13:48:53.117496Z"
    },
    "papermill": {
     "duration": 0.149106,
     "end_time": "2021-09-14T14:17:05.655803",
     "exception": false,
     "start_time": "2021-09-14T14:17:05.506697",
     "status": "completed"
    },
    "tags": []
   },
   "outputs": [],
   "source": [
    "num_cols.append('engineDisplacement')"
   ]
  },
  {
   "cell_type": "markdown",
   "id": "b1be360f",
   "metadata": {
    "papermill": {
     "duration": 0.141012,
     "end_time": "2021-09-14T14:17:05.937604",
     "exception": false,
     "start_time": "2021-09-14T14:17:05.796592",
     "status": "completed"
    },
    "tags": []
   },
   "source": [
    "**enginePower**"
   ]
  },
  {
   "cell_type": "code",
   "execution_count": 58,
   "id": "0c397978",
   "metadata": {
    "execution": {
     "iopub.execute_input": "2021-09-14T14:17:06.226339Z",
     "iopub.status.busy": "2021-09-14T14:17:06.225303Z",
     "iopub.status.idle": "2021-09-14T14:17:06.245075Z",
     "shell.execute_reply": "2021-09-14T14:17:06.244543Z",
     "shell.execute_reply.started": "2021-09-14T13:48:53.122537Z"
    },
    "papermill": {
     "duration": 0.16442,
     "end_time": "2021-09-14T14:17:06.245210",
     "exception": false,
     "start_time": "2021-09-14T14:17:06.080790",
     "status": "completed"
    },
    "tags": []
   },
   "outputs": [
    {
     "data": {
      "text/plain": [
       "150 N12    3984\n",
       "249 N12    3915\n",
       "110 N12    2437\n",
       "140 N12    1871\n",
       "170 N12    1807\n",
       "           ... \n",
       "330.0         1\n",
       "228.0         1\n",
       "350.0         1\n",
       "20.0          1\n",
       "258.0         1\n",
       "Name: enginePower, Length: 601, dtype: int64"
      ]
     },
     "execution_count": 58,
     "metadata": {},
     "output_type": "execute_result"
    }
   ],
   "source": [
    "data.enginePower.value_counts()"
   ]
  },
  {
   "cell_type": "code",
   "execution_count": 59,
   "id": "e7a0fd6d",
   "metadata": {
    "execution": {
     "iopub.execute_input": "2021-09-14T14:17:06.536450Z",
     "iopub.status.busy": "2021-09-14T14:17:06.535469Z",
     "iopub.status.idle": "2021-09-14T14:17:06.593213Z",
     "shell.execute_reply": "2021-09-14T14:17:06.592656Z",
     "shell.execute_reply.started": "2021-09-14T13:48:53.153104Z"
    },
    "papermill": {
     "duration": 0.206772,
     "end_time": "2021-09-14T14:17:06.593377",
     "exception": false,
     "start_time": "2021-09-14T14:17:06.386605",
     "status": "completed"
    },
    "tags": []
   },
   "outputs": [],
   "source": [
    "data['enginePower'] = data['enginePower'].astype(str).apply(lambda x: x.split()[0])\n",
    "data['enginePower'] = data['enginePower'].astype(float)"
   ]
  },
  {
   "cell_type": "code",
   "execution_count": 60,
   "id": "73ed32a1",
   "metadata": {
    "execution": {
     "iopub.execute_input": "2021-09-14T14:17:06.885751Z",
     "iopub.status.busy": "2021-09-14T14:17:06.884865Z",
     "iopub.status.idle": "2021-09-14T14:17:06.888362Z",
     "shell.execute_reply": "2021-09-14T14:17:06.888894Z",
     "shell.execute_reply.started": "2021-09-14T13:48:53.223400Z"
    },
    "papermill": {
     "duration": 0.155568,
     "end_time": "2021-09-14T14:17:06.889068",
     "exception": false,
     "start_time": "2021-09-14T14:17:06.733500",
     "status": "completed"
    },
    "tags": []
   },
   "outputs": [
    {
     "data": {
      "text/plain": [
       "150.0    4032\n",
       "249.0    3932\n",
       "110.0    2454\n",
       "140.0    1908\n",
       "170.0    1825\n",
       "         ... \n",
       "338.0       1\n",
       "164.0       1\n",
       "564.0       1\n",
       "345.0       1\n",
       "63.0        1\n",
       "Name: enginePower, Length: 364, dtype: int64"
      ]
     },
     "execution_count": 60,
     "metadata": {},
     "output_type": "execute_result"
    }
   ],
   "source": [
    "data['enginePower'].value_counts()"
   ]
  },
  {
   "cell_type": "code",
   "execution_count": 61,
   "id": "fb0c3d79",
   "metadata": {
    "execution": {
     "iopub.execute_input": "2021-09-14T14:17:07.190217Z",
     "iopub.status.busy": "2021-09-14T14:17:07.189299Z",
     "iopub.status.idle": "2021-09-14T14:17:07.200422Z",
     "shell.execute_reply": "2021-09-14T14:17:07.199866Z",
     "shell.execute_reply.started": "2021-09-14T13:48:53.236277Z"
    },
    "papermill": {
     "duration": 0.158098,
     "end_time": "2021-09-14T14:17:07.200584",
     "exception": false,
     "start_time": "2021-09-14T14:17:07.042486",
     "status": "completed"
    },
    "tags": []
   },
   "outputs": [
    {
     "data": {
      "text/plain": [
       "17.0     1\n",
       "19.0     1\n",
       "20.0     1\n",
       "30.0     2\n",
       "32.0     2\n",
       "        ..\n",
       "630.0    1\n",
       "635.0    1\n",
       "639.0    7\n",
       "646.0    1\n",
       "761.0    1\n",
       "Name: enginePower, Length: 364, dtype: int64"
      ]
     },
     "execution_count": 61,
     "metadata": {},
     "output_type": "execute_result"
    }
   ],
   "source": [
    "data['enginePower'].value_counts().sort_index()"
   ]
  },
  {
   "cell_type": "code",
   "execution_count": 62,
   "id": "d59568e8",
   "metadata": {
    "execution": {
     "iopub.execute_input": "2021-09-14T14:17:07.504822Z",
     "iopub.status.busy": "2021-09-14T14:17:07.504130Z",
     "iopub.status.idle": "2021-09-14T14:17:07.506596Z",
     "shell.execute_reply": "2021-09-14T14:17:07.506066Z",
     "shell.execute_reply.started": "2021-09-14T13:48:53.254654Z"
    },
    "papermill": {
     "duration": 0.151775,
     "end_time": "2021-09-14T14:17:07.506731",
     "exception": false,
     "start_time": "2021-09-14T14:17:07.354956",
     "status": "completed"
    },
    "tags": []
   },
   "outputs": [],
   "source": [
    "# Разобьём признак на категории\n",
    "def enginePower(x):\n",
    "    if x < 100: x = 1\n",
    "    elif 99 < x < 150: x = 2\n",
    "    elif 149 < x < 200: x = 3\n",
    "    elif 199 < x < 250: x = 4\n",
    "    elif 249 < x < 300: x = 5\n",
    "    elif 299 < x < 350: x = 6\n",
    "    elif 349 < x < 400: x = 7\n",
    "    elif 399 < x < 450: x = 8\n",
    "    elif 449 < x < 500: x = 9\n",
    "    elif 499 < x < 550: x = 10\n",
    "    elif 549 < x < 600: x = 11\n",
    "    else: x = 12\n",
    "    return x  "
   ]
  },
  {
   "cell_type": "code",
   "execution_count": 63,
   "id": "2bb9a0be",
   "metadata": {
    "execution": {
     "iopub.execute_input": "2021-09-14T14:17:07.793956Z",
     "iopub.status.busy": "2021-09-14T14:17:07.793240Z",
     "iopub.status.idle": "2021-09-14T14:17:07.875153Z",
     "shell.execute_reply": "2021-09-14T14:17:07.874603Z",
     "shell.execute_reply.started": "2021-09-14T13:48:53.265020Z"
    },
    "papermill": {
     "duration": 0.22824,
     "end_time": "2021-09-14T14:17:07.875314",
     "exception": false,
     "start_time": "2021-09-14T14:17:07.647074",
     "status": "completed"
    },
    "tags": []
   },
   "outputs": [],
   "source": [
    "data['enginePower'] = data['enginePower'].map(enginePower)"
   ]
  },
  {
   "cell_type": "code",
   "execution_count": 64,
   "id": "cb1b6fd9",
   "metadata": {
    "execution": {
     "iopub.execute_input": "2021-09-14T14:17:08.196105Z",
     "iopub.status.busy": "2021-09-14T14:17:08.195200Z",
     "iopub.status.idle": "2021-09-14T14:17:08.568185Z",
     "shell.execute_reply": "2021-09-14T14:17:08.568901Z",
     "shell.execute_reply.started": "2021-09-14T13:48:53.362177Z"
    },
    "papermill": {
     "duration": 0.552323,
     "end_time": "2021-09-14T14:17:08.569078",
     "exception": false,
     "start_time": "2021-09-14T14:17:08.016755",
     "status": "completed"
    },
    "tags": []
   },
   "outputs": [
    {
     "data": {
      "text/plain": [
       "Text(0.5, 1.0, 'Мощность двигателя в л.с.')"
      ]
     },
     "execution_count": 64,
     "metadata": {},
     "output_type": "execute_result"
    },
    {
     "data": {
      "image/png": "[encoded data removed]",
      "text/plain": [
       "<Figure size 1152x576 with 1 Axes>"
      ]
     },
     "metadata": {
      "needs_background": "light"
     },
     "output_type": "display_data"
    }
   ],
   "source": [
    "plt.figure(figsize=(16,8))\n",
    "sns.countplot(x = data['enginePower'], data = data) \n",
    "plt.title('Мощность двигателя в л.с.')"
   ]
  },
  {
   "cell_type": "code",
   "execution_count": 65,
   "id": "159dda4e",
   "metadata": {
    "execution": {
     "iopub.execute_input": "2021-09-14T14:17:08.861524Z",
     "iopub.status.busy": "2021-09-14T14:17:08.860807Z",
     "iopub.status.idle": "2021-09-14T14:17:08.865587Z",
     "shell.execute_reply": "2021-09-14T14:17:08.865018Z",
     "shell.execute_reply.started": "2021-09-14T13:48:53.728155Z"
    },
    "papermill": {
     "duration": 0.150869,
     "end_time": "2021-09-14T14:17:08.865743",
     "exception": false,
     "start_time": "2021-09-14T14:17:08.714874",
     "status": "completed"
    },
    "tags": []
   },
   "outputs": [],
   "source": [
    "num_cols.append('enginePower')"
   ]
  },
  {
   "cell_type": "markdown",
   "id": "4f9e7fd5",
   "metadata": {
    "papermill": {
     "duration": 0.146188,
     "end_time": "2021-09-14T14:17:09.155047",
     "exception": false,
     "start_time": "2021-09-14T14:17:09.008859",
     "status": "completed"
    },
    "tags": []
   },
   "source": [
    "**mileage**"
   ]
  },
  {
   "cell_type": "code",
   "execution_count": 66,
   "id": "978eca79",
   "metadata": {
    "execution": {
     "iopub.execute_input": "2021-09-14T14:17:09.469936Z",
     "iopub.status.busy": "2021-09-14T14:17:09.469193Z",
     "iopub.status.idle": "2021-09-14T14:17:09.480651Z",
     "shell.execute_reply": "2021-09-14T14:17:09.480141Z",
     "shell.execute_reply.started": "2021-09-14T13:48:53.734673Z"
    },
    "papermill": {
     "duration": 0.182941,
     "end_time": "2021-09-14T14:17:09.480794",
     "exception": false,
     "start_time": "2021-09-14T14:17:09.297853",
     "status": "completed"
    },
    "tags": []
   },
   "outputs": [
    {
     "data": {
      "text/plain": [
       "200000    455\n",
       "300000    392\n",
       "150000    391\n",
       "160000    362\n",
       "180000    356\n",
       "         ... \n",
       "263507      1\n",
       "205837      1\n",
       "43244       1\n",
       "70700       1\n",
       "106124      1\n",
       "Name: mileage, Length: 24978, dtype: int64"
      ]
     },
     "execution_count": 66,
     "metadata": {},
     "output_type": "execute_result"
    }
   ],
   "source": [
    "data['mileage'].value_counts()"
   ]
  },
  {
   "cell_type": "code",
   "execution_count": 67,
   "id": "18d08e53",
   "metadata": {
    "execution": {
     "iopub.execute_input": "2021-09-14T14:17:09.779090Z",
     "iopub.status.busy": "2021-09-14T14:17:09.773784Z",
     "iopub.status.idle": "2021-09-14T14:17:09.823430Z",
     "shell.execute_reply": "2021-09-14T14:17:09.822726Z",
     "shell.execute_reply.started": "2021-09-14T13:48:53.782800Z"
    },
    "papermill": {
     "duration": 0.19946,
     "end_time": "2021-09-14T14:17:09.823572",
     "exception": false,
     "start_time": "2021-09-14T14:17:09.624112",
     "status": "completed"
    },
    "tags": []
   },
   "outputs": [],
   "source": [
    "#очищаем данные\n",
    "data['mileage'] = data['mileage'].apply(lambda x: str(x).replace('\\xa0км', ''))"
   ]
  },
  {
   "cell_type": "code",
   "execution_count": 68,
   "id": "ac2b29ce",
   "metadata": {
    "execution": {
     "iopub.execute_input": "2021-09-14T14:17:10.125474Z",
     "iopub.status.busy": "2021-09-14T14:17:10.120233Z",
     "iopub.status.idle": "2021-09-14T14:17:10.268241Z",
     "shell.execute_reply": "2021-09-14T14:17:10.267693Z",
     "shell.execute_reply.started": "2021-09-14T13:48:53.838697Z"
    },
    "papermill": {
     "duration": 0.299201,
     "end_time": "2021-09-14T14:17:10.268396",
     "exception": false,
     "start_time": "2021-09-14T14:17:09.969195",
     "status": "completed"
    },
    "tags": []
   },
   "outputs": [],
   "source": [
    "data['mileage'] = data.mileage.apply(\n",
    "    lambda x: int(\"\".join(filter(str.isdigit, x))))"
   ]
  },
  {
   "cell_type": "code",
   "execution_count": 69,
   "id": "3348d822",
   "metadata": {
    "_kg_hide-input": true,
    "execution": {
     "iopub.execute_input": "2021-09-14T14:17:10.613207Z",
     "iopub.status.busy": "2021-09-14T14:17:10.602458Z",
     "iopub.status.idle": "2021-09-14T14:17:10.984198Z",
     "shell.execute_reply": "2021-09-14T14:17:10.983224Z",
     "shell.execute_reply.started": "2021-09-14T13:48:53.998383Z"
    },
    "papermill": {
     "duration": 0.572745,
     "end_time": "2021-09-14T14:17:10.984375",
     "exception": false,
     "start_time": "2021-09-14T14:17:10.411630",
     "status": "completed"
    },
    "tags": []
   },
   "outputs": [
    {
     "data": {
      "text/plain": [
       "count      69229.000000\n",
       "mean      155406.667582\n",
       "std        99525.381978\n",
       "min            0.000000\n",
       "25%        83700.000000\n",
       "50%       142416.000000\n",
       "75%       208313.000000\n",
       "max      1000000.000000\n",
       "Name: mileage, dtype: float64"
      ]
     },
     "execution_count": 69,
     "metadata": {},
     "output_type": "execute_result"
    },
    {
     "data": {
      "image/png": "[encoded data removed]",
      "text/plain": [
       "<Figure size 360x360 with 1 Axes>"
      ]
     },
     "metadata": {
      "needs_background": "light"
     },
     "output_type": "display_data"
    }
   ],
   "source": [
    "data['mileage'].hist(figsize=(5,5), bins=50)\n",
    "data.mileage.describe()"
   ]
  },
  {
   "cell_type": "code",
   "execution_count": 70,
   "id": "ca83a9c0",
   "metadata": {
    "execution": {
     "iopub.execute_input": "2021-09-14T14:17:11.289496Z",
     "iopub.status.busy": "2021-09-14T14:17:11.283238Z",
     "iopub.status.idle": "2021-09-14T14:17:11.338252Z",
     "shell.execute_reply": "2021-09-14T14:17:11.337700Z",
     "shell.execute_reply.started": "2021-09-14T13:48:54.349150Z"
    },
    "papermill": {
     "duration": 0.204688,
     "end_time": "2021-09-14T14:17:11.338433",
     "exception": false,
     "start_time": "2021-09-14T14:17:11.133745",
     "status": "completed"
    },
    "tags": []
   },
   "outputs": [],
   "source": [
    "#создадим признак 'mileage_cat'  \n",
    "data[\"mileage_cat\"] = data[\"mileage\"].apply(lambda x: 4 if x>=40000 else(3 if x>=30000 else(2 if x>=20000 else (1 if x>=10000 else 0))))"
   ]
  },
  {
   "cell_type": "code",
   "execution_count": 71,
   "id": "a498e271",
   "metadata": {
    "execution": {
     "iopub.execute_input": "2021-09-14T14:17:11.635327Z",
     "iopub.status.busy": "2021-09-14T14:17:11.634561Z",
     "iopub.status.idle": "2021-09-14T14:17:11.637683Z",
     "shell.execute_reply": "2021-09-14T14:17:11.638160Z",
     "shell.execute_reply.started": "2021-09-14T13:48:54.406833Z"
    },
    "papermill": {
     "duration": 0.155289,
     "end_time": "2021-09-14T14:17:11.638361",
     "exception": false,
     "start_time": "2021-09-14T14:17:11.483072",
     "status": "completed"
    },
    "tags": []
   },
   "outputs": [
    {
     "data": {
      "text/plain": [
       "4    62164\n",
       "3     1940\n",
       "0     1771\n",
       "2     1717\n",
       "1     1637\n",
       "Name: mileage_cat, dtype: int64"
      ]
     },
     "execution_count": 71,
     "metadata": {},
     "output_type": "execute_result"
    }
   ],
   "source": [
    "data.mileage_cat.value_counts()"
   ]
  },
  {
   "cell_type": "code",
   "execution_count": 72,
   "id": "153097a1",
   "metadata": {
    "execution": {
     "iopub.execute_input": "2021-09-14T14:17:11.935369Z",
     "iopub.status.busy": "2021-09-14T14:17:11.934234Z",
     "iopub.status.idle": "2021-09-14T14:17:11.937474Z",
     "shell.execute_reply": "2021-09-14T14:17:11.936818Z",
     "shell.execute_reply.started": "2021-09-14T13:48:54.417156Z"
    },
    "papermill": {
     "duration": 0.154823,
     "end_time": "2021-09-14T14:17:11.937622",
     "exception": false,
     "start_time": "2021-09-14T14:17:11.782799",
     "status": "completed"
    },
    "tags": []
   },
   "outputs": [],
   "source": [
    "num_cols.append('mileage')\n",
    "cat_cols.append('mileage_cat')"
   ]
  },
  {
   "cell_type": "markdown",
   "id": "279d792e",
   "metadata": {
    "papermill": {
     "duration": 0.192205,
     "end_time": "2021-09-14T14:17:12.277288",
     "exception": false,
     "start_time": "2021-09-14T14:17:12.085083",
     "status": "completed"
    },
    "tags": []
   },
   "source": [
    "**productionDate и modelDate**"
   ]
  },
  {
   "cell_type": "code",
   "execution_count": 73,
   "id": "e7f47c44",
   "metadata": {
    "execution": {
     "iopub.execute_input": "2021-09-14T14:17:12.582505Z",
     "iopub.status.busy": "2021-09-14T14:17:12.581740Z",
     "iopub.status.idle": "2021-09-14T14:17:12.585194Z",
     "shell.execute_reply": "2021-09-14T14:17:12.584711Z",
     "shell.execute_reply.started": "2021-09-14T13:48:54.430484Z"
    },
    "papermill": {
     "duration": 0.157672,
     "end_time": "2021-09-14T14:17:12.585366",
     "exception": false,
     "start_time": "2021-09-14T14:17:12.427694",
     "status": "completed"
    },
    "tags": []
   },
   "outputs": [
    {
     "data": {
      "text/plain": [
       "2012    5347\n",
       "2013    4867\n",
       "2011    4656\n",
       "2008    4558\n",
       "2014    4553\n",
       "        ... \n",
       "1946       1\n",
       "1955       1\n",
       "1931       1\n",
       "1923       1\n",
       "1949       1\n",
       "Name: productionDate, Length: 76, dtype: int64"
      ]
     },
     "execution_count": 73,
     "metadata": {},
     "output_type": "execute_result"
    }
   ],
   "source": [
    "data.productionDate.value_counts()"
   ]
  },
  {
   "cell_type": "code",
   "execution_count": 74,
   "id": "62c1a425",
   "metadata": {
    "execution": {
     "iopub.execute_input": "2021-09-14T14:17:12.890935Z",
     "iopub.status.busy": "2021-09-14T14:17:12.880920Z",
     "iopub.status.idle": "2021-09-14T14:17:13.238862Z",
     "shell.execute_reply": "2021-09-14T14:17:13.239394Z",
     "shell.execute_reply.started": "2021-09-14T13:48:54.446529Z"
    },
    "papermill": {
     "duration": 0.507246,
     "end_time": "2021-09-14T14:17:13.239587",
     "exception": false,
     "start_time": "2021-09-14T14:17:12.732341",
     "status": "completed"
    },
    "tags": []
   },
   "outputs": [
    {
     "name": "stdout",
     "output_type": "stream",
     "text": [
      "AxesSubplot(0.125,0.125;0.775x0.755)\n"
     ]
    },
    {
     "data": {
      "image/png": "[encoded data removed]",
      "text/plain": [
       "<Figure size 360x360 with 1 Axes>"
      ]
     },
     "metadata": {
      "needs_background": "light"
     },
     "output_type": "display_data"
    }
   ],
   "source": [
    "print(data['productionDate'].hist(figsize=(5,5), bins=50))"
   ]
  },
  {
   "cell_type": "code",
   "execution_count": 75,
   "id": "5f8bf290",
   "metadata": {
    "execution": {
     "iopub.execute_input": "2021-09-14T14:17:13.542026Z",
     "iopub.status.busy": "2021-09-14T14:17:13.541250Z",
     "iopub.status.idle": "2021-09-14T14:17:13.544439Z",
     "shell.execute_reply": "2021-09-14T14:17:13.544921Z",
     "shell.execute_reply.started": "2021-09-14T13:48:54.803237Z"
    },
    "papermill": {
     "duration": 0.158999,
     "end_time": "2021-09-14T14:17:13.545087",
     "exception": false,
     "start_time": "2021-09-14T14:17:13.386088",
     "status": "completed"
    },
    "tags": []
   },
   "outputs": [
    {
     "data": {
      "text/plain": [
       "2013.0    5156\n",
       "2010.0    4654\n",
       "2014.0    4457\n",
       "2012.0    4357\n",
       "2015.0    4251\n",
       "          ... \n",
       "1908.0       1\n",
       "1935.0       1\n",
       "1948.0       1\n",
       "1950.0       1\n",
       "1953.0       1\n",
       "Name: modelDate, Length: 79, dtype: int64"
      ]
     },
     "execution_count": 75,
     "metadata": {},
     "output_type": "execute_result"
    }
   ],
   "source": [
    "data.modelDate.value_counts()"
   ]
  },
  {
   "cell_type": "code",
   "execution_count": 76,
   "id": "0d7f6e6d",
   "metadata": {
    "execution": {
     "iopub.execute_input": "2021-09-14T14:17:13.863288Z",
     "iopub.status.busy": "2021-09-14T14:17:13.846306Z",
     "iopub.status.idle": "2021-09-14T14:17:14.202621Z",
     "shell.execute_reply": "2021-09-14T14:17:14.202099Z",
     "shell.execute_reply.started": "2021-09-14T13:48:54.814931Z"
    },
    "papermill": {
     "duration": 0.509456,
     "end_time": "2021-09-14T14:17:14.202764",
     "exception": false,
     "start_time": "2021-09-14T14:17:13.693308",
     "status": "completed"
    },
    "tags": []
   },
   "outputs": [
    {
     "name": "stdout",
     "output_type": "stream",
     "text": [
      "AxesSubplot(0.125,0.125;0.775x0.755)\n"
     ]
    },
    {
     "data": {
      "image/png": "[encoded data removed]",
      "text/plain": [
       "<Figure size 360x360 with 1 Axes>"
      ]
     },
     "metadata": {
      "needs_background": "light"
     },
     "output_type": "display_data"
    }
   ],
   "source": [
    "print(data['modelDate'].hist(figsize=(5,5), bins=50))"
   ]
  },
  {
   "cell_type": "code",
   "execution_count": 77,
   "id": "cc9f1447",
   "metadata": {
    "execution": {
     "iopub.execute_input": "2021-09-14T14:17:14.507627Z",
     "iopub.status.busy": "2021-09-14T14:17:14.506688Z",
     "iopub.status.idle": "2021-09-14T14:17:14.509977Z",
     "shell.execute_reply": "2021-09-14T14:17:14.510494Z",
     "shell.execute_reply.started": "2021-09-14T13:48:55.167782Z"
    },
    "papermill": {
     "duration": 0.159689,
     "end_time": "2021-09-14T14:17:14.510665",
     "exception": false,
     "start_time": "2021-09-14T14:17:14.350976",
     "status": "completed"
    },
    "tags": []
   },
   "outputs": [],
   "source": [
    "#создадим новые признаки на основе существующих: количество лет производства и возраст модели\n",
    "data['prod_age'] = 2021 - data.productionDate\n",
    "data['model_age'] = 2021 - data.modelDate"
   ]
  },
  {
   "cell_type": "code",
   "execution_count": 78,
   "id": "7de930f8",
   "metadata": {
    "execution": {
     "iopub.execute_input": "2021-09-14T14:17:14.808505Z",
     "iopub.status.busy": "2021-09-14T14:17:14.807806Z",
     "iopub.status.idle": "2021-09-14T14:17:14.811361Z",
     "shell.execute_reply": "2021-09-14T14:17:14.811846Z",
     "shell.execute_reply.started": "2021-09-14T13:48:55.178825Z"
    },
    "papermill": {
     "duration": 0.153899,
     "end_time": "2021-09-14T14:17:14.812025",
     "exception": false,
     "start_time": "2021-09-14T14:17:14.658126",
     "status": "completed"
    },
    "tags": []
   },
   "outputs": [],
   "source": [
    "#определим эти признаки в числовые данные\n",
    "num_cols.append('productionDate')\n",
    "num_cols.append('modelDate')\n",
    "num_cols.append('prod_age')\n",
    "num_cols.append('model_age')"
   ]
  },
  {
   "cell_type": "markdown",
   "id": "6edf12f6",
   "metadata": {
    "papermill": {
     "duration": 0.151084,
     "end_time": "2021-09-14T14:17:15.112085",
     "exception": false,
     "start_time": "2021-09-14T14:17:14.961001",
     "status": "completed"
    },
    "tags": []
   },
   "source": [
    "**numberOfDoors**"
   ]
  },
  {
   "cell_type": "code",
   "execution_count": 79,
   "id": "41c314fe",
   "metadata": {
    "execution": {
     "iopub.execute_input": "2021-09-14T14:17:15.409839Z",
     "iopub.status.busy": "2021-09-14T14:17:15.409206Z",
     "iopub.status.idle": "2021-09-14T14:17:15.416854Z",
     "shell.execute_reply": "2021-09-14T14:17:15.417370Z",
     "shell.execute_reply.started": "2021-09-14T13:48:55.188655Z"
    },
    "papermill": {
     "duration": 0.157779,
     "end_time": "2021-09-14T14:17:15.417542",
     "exception": false,
     "start_time": "2021-09-14T14:17:15.259763",
     "status": "completed"
    },
    "tags": []
   },
   "outputs": [
    {
     "data": {
      "text/plain": [
       "5.0    39878\n",
       "4.0    25677\n",
       "2.0     2465\n",
       "3.0     1207\n",
       "0.0        2\n",
       "Name: numberOfDoors, dtype: int64"
      ]
     },
     "execution_count": 79,
     "metadata": {},
     "output_type": "execute_result"
    }
   ],
   "source": [
    "data.numberOfDoors.value_counts() "
   ]
  },
  {
   "cell_type": "code",
   "execution_count": 80,
   "id": "17edb3f5",
   "metadata": {
    "execution": {
     "iopub.execute_input": "2021-09-14T14:17:15.718211Z",
     "iopub.status.busy": "2021-09-14T14:17:15.717569Z",
     "iopub.status.idle": "2021-09-14T14:17:15.970030Z",
     "shell.execute_reply": "2021-09-14T14:17:15.969410Z",
     "shell.execute_reply.started": "2021-09-14T13:48:55.208018Z"
    },
    "papermill": {
     "duration": 0.404647,
     "end_time": "2021-09-14T14:17:15.970166",
     "exception": false,
     "start_time": "2021-09-14T14:17:15.565519",
     "status": "completed"
    },
    "tags": []
   },
   "outputs": [
    {
     "data": {
      "text/plain": [
       "<AxesSubplot:xlabel='numberOfDoors', ylabel='count'>"
      ]
     },
     "execution_count": 80,
     "metadata": {},
     "output_type": "execute_result"
    },
    {
     "data": {
      "image/png": "[encoded data removed]",
      "text/plain": [
       "<Figure size 432x288 with 1 Axes>"
      ]
     },
     "metadata": {
      "needs_background": "light"
     },
     "output_type": "display_data"
    }
   ],
   "source": [
    "sns.countplot(x = 'numberOfDoors', data = data)"
   ]
  },
  {
   "cell_type": "code",
   "execution_count": 81,
   "id": "6118f127",
   "metadata": {
    "execution": {
     "iopub.execute_input": "2021-09-14T14:17:16.275285Z",
     "iopub.status.busy": "2021-09-14T14:17:16.274425Z",
     "iopub.status.idle": "2021-09-14T14:17:16.277726Z",
     "shell.execute_reply": "2021-09-14T14:17:16.278762Z",
     "shell.execute_reply.started": "2021-09-14T13:48:55.452680Z"
    },
    "papermill": {
     "duration": 0.157144,
     "end_time": "2021-09-14T14:17:16.278975",
     "exception": false,
     "start_time": "2021-09-14T14:17:16.121831",
     "status": "completed"
    },
    "tags": []
   },
   "outputs": [],
   "source": [
    "cat_cols.append('numberOfDoors')"
   ]
  },
  {
   "cell_type": "markdown",
   "id": "fdd8d1b6",
   "metadata": {
    "papermill": {
     "duration": 0.14856,
     "end_time": "2021-09-14T14:17:16.577438",
     "exception": false,
     "start_time": "2021-09-14T14:17:16.428878",
     "status": "completed"
    },
    "tags": []
   },
   "source": [
    "**sell_id**"
   ]
  },
  {
   "cell_type": "code",
   "execution_count": 82,
   "id": "d3994b86",
   "metadata": {
    "execution": {
     "iopub.execute_input": "2021-09-14T14:17:16.883726Z",
     "iopub.status.busy": "2021-09-14T14:17:16.883043Z",
     "iopub.status.idle": "2021-09-14T14:17:16.888956Z",
     "shell.execute_reply": "2021-09-14T14:17:16.889463Z",
     "shell.execute_reply.started": "2021-09-14T13:48:55.460099Z"
    },
    "papermill": {
     "duration": 0.161236,
     "end_time": "2021-09-14T14:17:16.889644",
     "exception": false,
     "start_time": "2021-09-14T14:17:16.728408",
     "status": "completed"
    },
    "tags": []
   },
   "outputs": [
    {
     "data": {
      "text/plain": [
       "0"
      ]
     },
     "execution_count": 82,
     "metadata": {},
     "output_type": "execute_result"
    }
   ],
   "source": [
    "test.sell_id.isna().sum()"
   ]
  },
  {
   "cell_type": "markdown",
   "id": "7da507fb",
   "metadata": {
    "papermill": {
     "duration": 0.151215,
     "end_time": "2021-09-14T14:17:17.191532",
     "exception": false,
     "start_time": "2021-09-14T14:17:17.040317",
     "status": "completed"
    },
    "tags": []
   },
   "source": [
    "**vehicleTransmission**"
   ]
  },
  {
   "cell_type": "code",
   "execution_count": 83,
   "id": "3e1a26b0",
   "metadata": {
    "execution": {
     "iopub.execute_input": "2021-09-14T14:17:17.509095Z",
     "iopub.status.busy": "2021-09-14T14:17:17.506073Z",
     "iopub.status.idle": "2021-09-14T14:17:17.511919Z",
     "shell.execute_reply": "2021-09-14T14:17:17.512366Z",
     "shell.execute_reply.started": "2021-09-14T13:48:55.474839Z"
    },
    "papermill": {
     "duration": 0.171012,
     "end_time": "2021-09-14T14:17:17.512539",
     "exception": false,
     "start_time": "2021-09-14T14:17:17.341527",
     "status": "completed"
    },
    "tags": []
   },
   "outputs": [
    {
     "data": {
      "text/plain": [
       "автоматическая      38039\n",
       "механическая        13655\n",
       "роботизированная     8226\n",
       "вариатор             8223\n",
       "AUTOMATIC             586\n",
       "MECHANICAL            328\n",
       "ROBOT                  89\n",
       "VARIATOR               83\n",
       "Name: vehicleTransmission, dtype: int64"
      ]
     },
     "execution_count": 83,
     "metadata": {},
     "output_type": "execute_result"
    }
   ],
   "source": [
    "data.vehicleTransmission.value_counts()"
   ]
  },
  {
   "cell_type": "code",
   "execution_count": 84,
   "id": "b4b03435",
   "metadata": {
    "execution": {
     "iopub.execute_input": "2021-09-14T14:17:17.844536Z",
     "iopub.status.busy": "2021-09-14T14:17:17.814435Z",
     "iopub.status.idle": "2021-09-14T14:17:18.172943Z",
     "shell.execute_reply": "2021-09-14T14:17:18.172393Z",
     "shell.execute_reply.started": "2021-09-14T13:48:55.500180Z"
    },
    "papermill": {
     "duration": 0.511086,
     "end_time": "2021-09-14T14:17:18.173078",
     "exception": false,
     "start_time": "2021-09-14T14:17:17.661992",
     "status": "completed"
    },
    "tags": []
   },
   "outputs": [
    {
     "data": {
      "text/plain": [
       "<AxesSubplot:xlabel='vehicleTransmission', ylabel='count'>"
      ]
     },
     "execution_count": 84,
     "metadata": {},
     "output_type": "execute_result"
    },
    {
     "data": {
      "image/png": "[encoded data removed]",
      "text/plain": [
       "<Figure size 432x288 with 1 Axes>"
      ]
     },
     "metadata": {
      "needs_background": "light"
     },
     "output_type": "display_data"
    }
   ],
   "source": [
    "sns.countplot(x = 'vehicleTransmission', data = data)"
   ]
  },
  {
   "cell_type": "code",
   "execution_count": 85,
   "id": "6bddc105",
   "metadata": {
    "execution": {
     "iopub.execute_input": "2021-09-14T14:17:18.482801Z",
     "iopub.status.busy": "2021-09-14T14:17:18.482107Z",
     "iopub.status.idle": "2021-09-14T14:17:18.485250Z",
     "shell.execute_reply": "2021-09-14T14:17:18.484763Z",
     "shell.execute_reply.started": "2021-09-14T13:48:55.864743Z"
    },
    "papermill": {
     "duration": 0.160541,
     "end_time": "2021-09-14T14:17:18.485413",
     "exception": false,
     "start_time": "2021-09-14T14:17:18.324872",
     "status": "completed"
    },
    "tags": []
   },
   "outputs": [],
   "source": [
    "#определяем в категориальный признак\n",
    "cat_cols.append('vehicleTransmission')"
   ]
  },
  {
   "cell_type": "markdown",
   "id": "c3d069c8",
   "metadata": {
    "papermill": {
     "duration": 0.151257,
     "end_time": "2021-09-14T14:17:18.787687",
     "exception": false,
     "start_time": "2021-09-14T14:17:18.636430",
     "status": "completed"
    },
    "tags": []
   },
   "source": [
    "**Владельцы**"
   ]
  },
  {
   "cell_type": "code",
   "execution_count": 86,
   "id": "e6865b41",
   "metadata": {
    "execution": {
     "iopub.execute_input": "2021-09-14T14:17:19.111689Z",
     "iopub.status.busy": "2021-09-14T14:17:19.110918Z",
     "iopub.status.idle": "2021-09-14T14:17:19.113716Z",
     "shell.execute_reply": "2021-09-14T14:17:19.114201Z",
     "shell.execute_reply.started": "2021-09-14T13:48:55.873172Z"
    },
    "papermill": {
     "duration": 0.173464,
     "end_time": "2021-09-14T14:17:19.114396",
     "exception": false,
     "start_time": "2021-09-14T14:17:18.940932",
     "status": "completed"
    },
    "tags": []
   },
   "outputs": [
    {
     "data": {
      "text/plain": [
       "3 или более    29874\n",
       "1 владелец     20352\n",
       "2 владельца    17917\n",
       "3.0              491\n",
       "1.0              307\n",
       "2.0              234\n",
       "NaN               54\n",
       "Name: Владельцы, dtype: int64"
      ]
     },
     "execution_count": 86,
     "metadata": {},
     "output_type": "execute_result"
    }
   ],
   "source": [
    "data['Владельцы'].value_counts(dropna=False)"
   ]
  },
  {
   "cell_type": "code",
   "execution_count": 87,
   "id": "69685ac4",
   "metadata": {
    "execution": {
     "iopub.execute_input": "2021-09-14T14:17:19.430401Z",
     "iopub.status.busy": "2021-09-14T14:17:19.429712Z",
     "iopub.status.idle": "2021-09-14T14:17:19.510233Z",
     "shell.execute_reply": "2021-09-14T14:17:19.510731Z",
     "shell.execute_reply.started": "2021-09-14T13:48:55.902180Z"
    },
    "papermill": {
     "duration": 0.243296,
     "end_time": "2021-09-14T14:17:19.510920",
     "exception": false,
     "start_time": "2021-09-14T14:17:19.267624",
     "status": "completed"
    },
    "tags": []
   },
   "outputs": [
    {
     "data": {
      "text/plain": [
       "0         [3, или, более]\n",
       "1           [1, владелец]\n",
       "2           [1, владелец]\n",
       "3           [1, владелец]\n",
       "4           [1, владелец]\n",
       "               ...       \n",
       "157904              [1.0]\n",
       "158170              [3.0]\n",
       "158179              [2.0]\n",
       "158296              [1.0]\n",
       "158301              [1.0]\n",
       "Name: Владельцы, Length: 69229, dtype: object"
      ]
     },
     "execution_count": 87,
     "metadata": {},
     "output_type": "execute_result"
    }
   ],
   "source": [
    "data['Владельцы'] = data['Владельцы'].astype(\n",
    "                str).apply(lambda x: x if len(x) == 1 else x.split())\n",
    "data['Владельцы']"
   ]
  },
  {
   "cell_type": "code",
   "execution_count": 88,
   "id": "1c0a5084",
   "metadata": {
    "execution": {
     "iopub.execute_input": "2021-09-14T14:17:19.820176Z",
     "iopub.status.busy": "2021-09-14T14:17:19.819157Z",
     "iopub.status.idle": "2021-09-14T14:17:19.869817Z",
     "shell.execute_reply": "2021-09-14T14:17:19.870329Z",
     "shell.execute_reply.started": "2021-09-14T13:48:55.979695Z"
    },
    "papermill": {
     "duration": 0.204939,
     "end_time": "2021-09-14T14:17:19.870531",
     "exception": false,
     "start_time": "2021-09-14T14:17:19.665592",
     "status": "completed"
    },
    "tags": []
   },
   "outputs": [],
   "source": [
    "data['Владельцы']= data['Владельцы'].apply(\n",
    "    lambda x: x[0].lower() if len(x) == 1 else x[0].lower())"
   ]
  },
  {
   "cell_type": "code",
   "execution_count": 89,
   "id": "90f80371",
   "metadata": {
    "execution": {
     "iopub.execute_input": "2021-09-14T14:17:20.182578Z",
     "iopub.status.busy": "2021-09-14T14:17:20.181535Z",
     "iopub.status.idle": "2021-09-14T14:17:20.206424Z",
     "shell.execute_reply": "2021-09-14T14:17:20.206889Z",
     "shell.execute_reply.started": "2021-09-14T13:48:56.040663Z"
    },
    "papermill": {
     "duration": 0.182448,
     "end_time": "2021-09-14T14:17:20.207069",
     "exception": false,
     "start_time": "2021-09-14T14:17:20.024621",
     "status": "completed"
    },
    "tags": []
   },
   "outputs": [
    {
     "data": {
      "text/plain": [
       "0    3.0\n",
       "dtype: float64"
      ]
     },
     "execution_count": 89,
     "metadata": {},
     "output_type": "execute_result"
    }
   ],
   "source": [
    "data['Владельцы']=data['Владельцы'].astype(float)\n",
    "mode = round(data['Владельцы'].mode(),0)\n",
    "mode"
   ]
  },
  {
   "cell_type": "code",
   "execution_count": 90,
   "id": "2fb9fce5",
   "metadata": {
    "execution": {
     "iopub.execute_input": "2021-09-14T14:17:20.518905Z",
     "iopub.status.busy": "2021-09-14T14:17:20.518181Z",
     "iopub.status.idle": "2021-09-14T14:17:20.522282Z",
     "shell.execute_reply": "2021-09-14T14:17:20.522813Z",
     "shell.execute_reply.started": "2021-09-14T13:48:56.070557Z"
    },
    "papermill": {
     "duration": 0.162062,
     "end_time": "2021-09-14T14:17:20.522981",
     "exception": false,
     "start_time": "2021-09-14T14:17:20.360919",
     "status": "completed"
    },
    "tags": []
   },
   "outputs": [],
   "source": [
    "data['Владельцы'].fillna(3, inplace=True)"
   ]
  },
  {
   "cell_type": "code",
   "execution_count": 91,
   "id": "f5953f57",
   "metadata": {
    "execution": {
     "iopub.execute_input": "2021-09-14T14:17:20.831957Z",
     "iopub.status.busy": "2021-09-14T14:17:20.831197Z",
     "iopub.status.idle": "2021-09-14T14:17:20.834281Z",
     "shell.execute_reply": "2021-09-14T14:17:20.834751Z",
     "shell.execute_reply.started": "2021-09-14T13:48:56.078271Z"
    },
    "papermill": {
     "duration": 0.159554,
     "end_time": "2021-09-14T14:17:20.834956",
     "exception": false,
     "start_time": "2021-09-14T14:17:20.675402",
     "status": "completed"
    },
    "tags": []
   },
   "outputs": [],
   "source": [
    "cat_cols.append('Владельцы')"
   ]
  },
  {
   "cell_type": "markdown",
   "id": "033021e1",
   "metadata": {
    "papermill": {
     "duration": 0.15552,
     "end_time": "2021-09-14T14:17:21.147090",
     "exception": false,
     "start_time": "2021-09-14T14:17:20.991570",
     "status": "completed"
    },
    "tags": []
   },
   "source": [
    "**ПТС**"
   ]
  },
  {
   "cell_type": "code",
   "execution_count": 92,
   "id": "49b12777",
   "metadata": {
    "execution": {
     "iopub.execute_input": "2021-09-14T14:17:21.461482Z",
     "iopub.status.busy": "2021-09-14T14:17:21.460769Z",
     "iopub.status.idle": "2021-09-14T14:17:21.480965Z",
     "shell.execute_reply": "2021-09-14T14:17:21.481507Z",
     "shell.execute_reply.started": "2021-09-14T13:48:56.090709Z"
    },
    "papermill": {
     "duration": 0.180714,
     "end_time": "2021-09-14T14:17:21.481687",
     "exception": false,
     "start_time": "2021-09-14T14:17:21.300973",
     "status": "completed"
    },
    "tags": []
   },
   "outputs": [
    {
     "data": {
      "text/plain": [
       "Оригинал     58962\n",
       "Дубликат      9180\n",
       "ORIGINAL       942\n",
       "DUPLICATE      140\n",
       "Name: ПТС, dtype: int64"
      ]
     },
     "execution_count": 92,
     "metadata": {},
     "output_type": "execute_result"
    }
   ],
   "source": [
    "data.ПТС.value_counts()"
   ]
  },
  {
   "cell_type": "code",
   "execution_count": 93,
   "id": "cc68468f",
   "metadata": {
    "execution": {
     "iopub.execute_input": "2021-09-14T14:17:21.790580Z",
     "iopub.status.busy": "2021-09-14T14:17:21.789933Z",
     "iopub.status.idle": "2021-09-14T14:17:21.803540Z",
     "shell.execute_reply": "2021-09-14T14:17:21.804044Z",
     "shell.execute_reply.started": "2021-09-14T13:48:56.119294Z"
    },
    "papermill": {
     "duration": 0.169487,
     "end_time": "2021-09-14T14:17:21.804212",
     "exception": false,
     "start_time": "2021-09-14T14:17:21.634725",
     "status": "completed"
    },
    "tags": []
   },
   "outputs": [
    {
     "data": {
      "text/plain": [
       "5"
      ]
     },
     "execution_count": 93,
     "metadata": {},
     "output_type": "execute_result"
    }
   ],
   "source": [
    "data.ПТС.isna().sum()"
   ]
  },
  {
   "cell_type": "code",
   "execution_count": 94,
   "id": "8b20d907",
   "metadata": {
    "execution": {
     "iopub.execute_input": "2021-09-14T14:17:22.118047Z",
     "iopub.status.busy": "2021-09-14T14:17:22.117402Z",
     "iopub.status.idle": "2021-09-14T14:17:22.131055Z",
     "shell.execute_reply": "2021-09-14T14:17:22.131655Z",
     "shell.execute_reply.started": "2021-09-14T13:48:56.143082Z"
    },
    "papermill": {
     "duration": 0.170598,
     "end_time": "2021-09-14T14:17:22.131998",
     "exception": false,
     "start_time": "2021-09-14T14:17:21.961400",
     "status": "completed"
    },
    "tags": []
   },
   "outputs": [],
   "source": [
    "# заполняем пропуск наиболее частым значением\n",
    "data.ПТС = data.ПТС.fillna('Оригинал')"
   ]
  },
  {
   "cell_type": "code",
   "execution_count": 95,
   "id": "a6926ea2",
   "metadata": {
    "execution": {
     "iopub.execute_input": "2021-09-14T14:17:22.444938Z",
     "iopub.status.busy": "2021-09-14T14:17:22.444191Z",
     "iopub.status.idle": "2021-09-14T14:17:22.503942Z",
     "shell.execute_reply": "2021-09-14T14:17:22.504432Z",
     "shell.execute_reply.started": "2021-09-14T13:48:56.162249Z"
    },
    "papermill": {
     "duration": 0.218206,
     "end_time": "2021-09-14T14:17:22.504625",
     "exception": false,
     "start_time": "2021-09-14T14:17:22.286419",
     "status": "completed"
    },
    "tags": []
   },
   "outputs": [],
   "source": [
    "# Преобразуем значения в колонке ПТС\n",
    "data['ПТС'] = data['ПТС'].apply(lambda x: 1 if x == 'Оригинал' else 0).astype('int8')"
   ]
  },
  {
   "cell_type": "code",
   "execution_count": 96,
   "id": "5e9edc68",
   "metadata": {
    "execution": {
     "iopub.execute_input": "2021-09-14T14:17:22.813859Z",
     "iopub.status.busy": "2021-09-14T14:17:22.813232Z",
     "iopub.status.idle": "2021-09-14T14:17:23.012580Z",
     "shell.execute_reply": "2021-09-14T14:17:23.013028Z",
     "shell.execute_reply.started": "2021-09-14T13:48:56.227823Z"
    },
    "papermill": {
     "duration": 0.355151,
     "end_time": "2021-09-14T14:17:23.013201",
     "exception": false,
     "start_time": "2021-09-14T14:17:22.658050",
     "status": "completed"
    },
    "tags": []
   },
   "outputs": [
    {
     "data": {
      "text/plain": [
       "<AxesSubplot:xlabel='ПТС', ylabel='count'>"
      ]
     },
     "execution_count": 96,
     "metadata": {},
     "output_type": "execute_result"
    },
    {
     "data": {
      "image/png": "[encoded data removed]",
      "text/plain": [
       "<Figure size 432x288 with 1 Axes>"
      ]
     },
     "metadata": {
      "needs_background": "light"
     },
     "output_type": "display_data"
    }
   ],
   "source": [
    "sns.countplot(x = 'ПТС', data = data)"
   ]
  },
  {
   "cell_type": "code",
   "execution_count": 97,
   "id": "28f1d5d2",
   "metadata": {
    "execution": {
     "iopub.execute_input": "2021-09-14T14:17:23.327958Z",
     "iopub.status.busy": "2021-09-14T14:17:23.326962Z",
     "iopub.status.idle": "2021-09-14T14:17:23.330558Z",
     "shell.execute_reply": "2021-09-14T14:17:23.331018Z",
     "shell.execute_reply.started": "2021-09-14T13:48:56.426074Z"
    },
    "papermill": {
     "duration": 0.162568,
     "end_time": "2021-09-14T14:17:23.331189",
     "exception": false,
     "start_time": "2021-09-14T14:17:23.168621",
     "status": "completed"
    },
    "tags": []
   },
   "outputs": [],
   "source": [
    "#определяем в бинарные признаки\n",
    "bin_cols.append('ПТС')"
   ]
  },
  {
   "cell_type": "markdown",
   "id": "ecab5998",
   "metadata": {
    "papermill": {
     "duration": 0.153218,
     "end_time": "2021-09-14T14:17:23.638674",
     "exception": false,
     "start_time": "2021-09-14T14:17:23.485456",
     "status": "completed"
    },
    "tags": []
   },
   "source": [
    "**Привод**"
   ]
  },
  {
   "cell_type": "code",
   "execution_count": 98,
   "id": "34366b99",
   "metadata": {
    "execution": {
     "iopub.execute_input": "2021-09-14T14:17:23.951934Z",
     "iopub.status.busy": "2021-09-14T14:17:23.950974Z",
     "iopub.status.idle": "2021-09-14T14:17:23.968486Z",
     "shell.execute_reply": "2021-09-14T14:17:23.968935Z",
     "shell.execute_reply.started": "2021-09-14T13:48:56.431569Z"
    },
    "papermill": {
     "duration": 0.175982,
     "end_time": "2021-09-14T14:17:23.969107",
     "exception": false,
     "start_time": "2021-09-14T14:17:23.793125",
     "status": "completed"
    },
    "tags": []
   },
   "outputs": [
    {
     "data": {
      "text/plain": [
       "полный      31561\n",
       "передний    30705\n",
       "задний       6963\n",
       "Name: Привод, dtype: int64"
      ]
     },
     "execution_count": 98,
     "metadata": {},
     "output_type": "execute_result"
    }
   ],
   "source": [
    "data.Привод.value_counts()"
   ]
  },
  {
   "cell_type": "code",
   "execution_count": 99,
   "id": "4f1d2da2",
   "metadata": {
    "execution": {
     "iopub.execute_input": "2021-09-14T14:17:24.283703Z",
     "iopub.status.busy": "2021-09-14T14:17:24.283017Z",
     "iopub.status.idle": "2021-09-14T14:17:24.750849Z",
     "shell.execute_reply": "2021-09-14T14:17:24.751341Z",
     "shell.execute_reply.started": "2021-09-14T13:48:56.460364Z"
    },
    "papermill": {
     "duration": 0.627236,
     "end_time": "2021-09-14T14:17:24.751529",
     "exception": false,
     "start_time": "2021-09-14T14:17:24.124293",
     "status": "completed"
    },
    "tags": []
   },
   "outputs": [
    {
     "data": {
      "text/plain": [
       "<AxesSubplot:xlabel='Привод', ylabel='count'>"
      ]
     },
     "execution_count": 99,
     "metadata": {},
     "output_type": "execute_result"
    },
    {
     "data": {
      "image/png": "[encoded data removed]",
      "text/plain": [
       "<Figure size 432x288 with 1 Axes>"
      ]
     },
     "metadata": {
      "needs_background": "light"
     },
     "output_type": "display_data"
    }
   ],
   "source": [
    "#смотрим на распределение\n",
    "sns.countplot(x = 'Привод', data = data)"
   ]
  },
  {
   "cell_type": "code",
   "execution_count": 100,
   "id": "a6c62a59",
   "metadata": {
    "execution": {
     "iopub.execute_input": "2021-09-14T14:17:25.069742Z",
     "iopub.status.busy": "2021-09-14T14:17:25.067846Z",
     "iopub.status.idle": "2021-09-14T14:17:25.071869Z",
     "shell.execute_reply": "2021-09-14T14:17:25.072349Z",
     "shell.execute_reply.started": "2021-09-14T13:48:56.760940Z"
    },
    "papermill": {
     "duration": 0.165582,
     "end_time": "2021-09-14T14:17:25.072532",
     "exception": false,
     "start_time": "2021-09-14T14:17:24.906950",
     "status": "completed"
    },
    "tags": []
   },
   "outputs": [],
   "source": [
    "cat_cols.append('Привод')"
   ]
  },
  {
   "cell_type": "markdown",
   "id": "e87e7f4b",
   "metadata": {
    "papermill": {
     "duration": 0.156108,
     "end_time": "2021-09-14T14:17:25.384964",
     "exception": false,
     "start_time": "2021-09-14T14:17:25.228856",
     "status": "completed"
    },
    "tags": []
   },
   "source": [
    "**Руль**"
   ]
  },
  {
   "cell_type": "code",
   "execution_count": 101,
   "id": "37d72f49",
   "metadata": {
    "execution": {
     "iopub.execute_input": "2021-09-14T14:17:25.714841Z",
     "iopub.status.busy": "2021-09-14T14:17:25.713968Z",
     "iopub.status.idle": "2021-09-14T14:17:25.717224Z",
     "shell.execute_reply": "2021-09-14T14:17:25.717732Z",
     "shell.execute_reply.started": "2021-09-14T13:48:56.767157Z"
    },
    "papermill": {
     "duration": 0.177687,
     "end_time": "2021-09-14T14:17:25.717899",
     "exception": false,
     "start_time": "2021-09-14T14:17:25.540212",
     "status": "completed"
    },
    "tags": []
   },
   "outputs": [
    {
     "data": {
      "text/plain": [
       "Левый     65526\n",
       "Правый     2617\n",
       "LEFT        876\n",
       "RIGHT       210\n",
       "Name: Руль, dtype: int64"
      ]
     },
     "execution_count": 101,
     "metadata": {},
     "output_type": "execute_result"
    }
   ],
   "source": [
    "data.Руль.value_counts()"
   ]
  },
  {
   "cell_type": "code",
   "execution_count": 102,
   "id": "4d09e19d",
   "metadata": {
    "execution": {
     "iopub.execute_input": "2021-09-14T14:17:26.039936Z",
     "iopub.status.busy": "2021-09-14T14:17:26.039167Z",
     "iopub.status.idle": "2021-09-14T14:17:26.093161Z",
     "shell.execute_reply": "2021-09-14T14:17:26.093708Z",
     "shell.execute_reply.started": "2021-09-14T13:48:56.796635Z"
    },
    "papermill": {
     "duration": 0.214092,
     "end_time": "2021-09-14T14:17:26.093901",
     "exception": false,
     "start_time": "2021-09-14T14:17:25.879809",
     "status": "completed"
    },
    "tags": []
   },
   "outputs": [],
   "source": [
    "# преобразуем значения в колонке Руль\n",
    "data['Руль'] = data['Руль'].apply(lambda x: 1 if x == 'Левый' else 0).astype('int8')"
   ]
  },
  {
   "cell_type": "code",
   "execution_count": 103,
   "id": "5c9bddfa",
   "metadata": {
    "execution": {
     "iopub.execute_input": "2021-09-14T14:17:26.413108Z",
     "iopub.status.busy": "2021-09-14T14:17:26.412440Z",
     "iopub.status.idle": "2021-09-14T14:17:26.612636Z",
     "shell.execute_reply": "2021-09-14T14:17:26.613120Z",
     "shell.execute_reply.started": "2021-09-14T13:48:56.863346Z"
    },
    "papermill": {
     "duration": 0.361252,
     "end_time": "2021-09-14T14:17:26.613312",
     "exception": false,
     "start_time": "2021-09-14T14:17:26.252060",
     "status": "completed"
    },
    "tags": []
   },
   "outputs": [
    {
     "data": {
      "text/plain": [
       "<AxesSubplot:xlabel='Руль', ylabel='count'>"
      ]
     },
     "execution_count": 103,
     "metadata": {},
     "output_type": "execute_result"
    },
    {
     "data": {
      "image/png": "[encoded data removed]",
      "text/plain": [
       "<Figure size 432x288 with 1 Axes>"
      ]
     },
     "metadata": {
      "needs_background": "light"
     },
     "output_type": "display_data"
    }
   ],
   "source": [
    "sns.countplot(x = 'Руль', data = data)"
   ]
  },
  {
   "cell_type": "code",
   "execution_count": 104,
   "id": "bb36c280",
   "metadata": {
    "execution": {
     "iopub.execute_input": "2021-09-14T14:17:26.929068Z",
     "iopub.status.busy": "2021-09-14T14:17:26.928439Z",
     "iopub.status.idle": "2021-09-14T14:17:26.932170Z",
     "shell.execute_reply": "2021-09-14T14:17:26.932640Z",
     "shell.execute_reply.started": "2021-09-14T13:48:57.063923Z"
    },
    "papermill": {
     "duration": 0.162794,
     "end_time": "2021-09-14T14:17:26.932813",
     "exception": false,
     "start_time": "2021-09-14T14:17:26.770019",
     "status": "completed"
    },
    "tags": []
   },
   "outputs": [],
   "source": [
    "bin_cols.append('Руль')"
   ]
  },
  {
   "cell_type": "markdown",
   "id": "e598d630",
   "metadata": {
    "papermill": {
     "duration": 0.159246,
     "end_time": "2021-09-14T14:17:27.250586",
     "exception": false,
     "start_time": "2021-09-14T14:17:27.091340",
     "status": "completed"
    },
    "tags": []
   },
   "source": [
    "**Посмотрим на распределение целевой переменной:**"
   ]
  },
  {
   "cell_type": "code",
   "execution_count": 105,
   "id": "2adbfaae",
   "metadata": {
    "execution": {
     "iopub.execute_input": "2021-09-14T14:17:27.571711Z",
     "iopub.status.busy": "2021-09-14T14:17:27.571045Z",
     "iopub.status.idle": "2021-09-14T14:17:27.617395Z",
     "shell.execute_reply": "2021-09-14T14:17:27.616774Z",
     "shell.execute_reply.started": "2021-09-14T13:48:57.070378Z"
    },
    "papermill": {
     "duration": 0.209825,
     "end_time": "2021-09-14T14:17:27.617535",
     "exception": false,
     "start_time": "2021-09-14T14:17:27.407710",
     "status": "completed"
    },
    "tags": []
   },
   "outputs": [],
   "source": [
    "# приведем целевую переменную к числовому типу\n",
    "data['price'] = data['price'].apply(lambda x: str(x))"
   ]
  },
  {
   "cell_type": "code",
   "execution_count": 106,
   "id": "9e7ab8b2",
   "metadata": {
    "execution": {
     "iopub.execute_input": "2021-09-14T14:17:27.941442Z",
     "iopub.status.busy": "2021-09-14T14:17:27.936166Z",
     "iopub.status.idle": "2021-09-14T14:17:28.040115Z",
     "shell.execute_reply": "2021-09-14T14:17:28.039558Z",
     "shell.execute_reply.started": "2021-09-14T13:48:57.133654Z"
    },
    "papermill": {
     "duration": 0.26627,
     "end_time": "2021-09-14T14:17:28.040284",
     "exception": false,
     "start_time": "2021-09-14T14:17:27.774014",
     "status": "completed"
    },
    "tags": []
   },
   "outputs": [],
   "source": [
    "data.price = data.price.apply(\n",
    "    lambda x: (\"\".join(filter(str.isdigit, x)))).astype('int')"
   ]
  },
  {
   "cell_type": "code",
   "execution_count": 107,
   "id": "3edaeb9b",
   "metadata": {
    "execution": {
     "iopub.execute_input": "2021-09-14T14:17:28.385536Z",
     "iopub.status.busy": "2021-09-14T14:17:28.384321Z",
     "iopub.status.idle": "2021-09-14T14:17:28.717254Z",
     "shell.execute_reply": "2021-09-14T14:17:28.716608Z",
     "shell.execute_reply.started": "2021-09-14T13:48:57.245542Z"
    },
    "papermill": {
     "duration": 0.518559,
     "end_time": "2021-09-14T14:17:28.717413",
     "exception": false,
     "start_time": "2021-09-14T14:17:28.198854",
     "status": "completed"
    },
    "tags": []
   },
   "outputs": [
    {
     "data": {
      "text/plain": [
       "<AxesSubplot:title={'center':'Распределение price'}, xlabel='price'>"
      ]
     },
     "execution_count": 107,
     "metadata": {},
     "output_type": "execute_result"
    },
    {
     "data": {
      "image/png": "[encoded data removed]",
      "text/plain": [
       "<Figure size 432x288 with 1 Axes>"
      ]
     },
     "metadata": {
      "needs_background": "light"
     },
     "output_type": "display_data"
    }
   ],
   "source": [
    "plt.figure()\n",
    "plt.title(f\"Распределение {'price'}\")\n",
    "sns.distplot(data.price, kde=False)"
   ]
  },
  {
   "cell_type": "code",
   "execution_count": 108,
   "id": "f290602c",
   "metadata": {
    "execution": {
     "iopub.execute_input": "2021-09-14T14:17:29.043618Z",
     "iopub.status.busy": "2021-09-14T14:17:29.042601Z",
     "iopub.status.idle": "2021-09-14T14:17:30.263855Z",
     "shell.execute_reply": "2021-09-14T14:17:30.264381Z",
     "shell.execute_reply.started": "2021-09-14T13:48:57.594424Z"
    },
    "papermill": {
     "duration": 1.388191,
     "end_time": "2021-09-14T14:17:30.264547",
     "exception": false,
     "start_time": "2021-09-14T14:17:28.876356",
     "status": "completed"
    },
    "tags": []
   },
   "outputs": [
    {
     "data": {
      "text/plain": [
       "<matplotlib.collections.PathCollection at 0x7fc19e2785d0>"
      ]
     },
     "execution_count": 108,
     "metadata": {},
     "output_type": "execute_result"
    },
    {
     "data": {
      "image/png": "[encoded data removed]",
      "text/plain": [
       "<Figure size 720x1080 with 1 Axes>"
      ]
     },
     "metadata": {
      "needs_background": "light"
     },
     "output_type": "display_data"
    }
   ],
   "source": [
    "#смотрим на распределение зависимости цены от марки авто:\n",
    "plt.figure(figsize=(10, 15))\n",
    "plt.scatter(np.log(data.price), data.brand)"
   ]
  },
  {
   "cell_type": "code",
   "execution_count": 109,
   "id": "85fd29f7",
   "metadata": {
    "execution": {
     "iopub.execute_input": "2021-09-14T14:17:30.615124Z",
     "iopub.status.busy": "2021-09-14T14:17:30.614064Z",
     "iopub.status.idle": "2021-09-14T14:17:31.002446Z",
     "shell.execute_reply": "2021-09-14T14:17:31.002968Z",
     "shell.execute_reply.started": "2021-09-14T13:48:58.805702Z"
    },
    "papermill": {
     "duration": 0.563843,
     "end_time": "2021-09-14T14:17:31.003135",
     "exception": false,
     "start_time": "2021-09-14T14:17:30.439292",
     "status": "completed"
    },
    "tags": []
   },
   "outputs": [
    {
     "data": {
      "text/plain": [
       "<matplotlib.collections.PathCollection at 0x7fc19a84ba90>"
      ]
     },
     "execution_count": 109,
     "metadata": {},
     "output_type": "execute_result"
    },
    {
     "data": {
      "image/png": "[encoded data removed]",
      "text/plain": [
       "<Figure size 720x1080 with 1 Axes>"
      ]
     },
     "metadata": {
      "needs_background": "light"
     },
     "output_type": "display_data"
    }
   ],
   "source": [
    "#смотрим на распределение зависимости цены от километража\n",
    "plt.figure(figsize=(10, 15))\n",
    "plt.scatter(np.log(data.price), data.mileage)"
   ]
  },
  {
   "cell_type": "code",
   "execution_count": 110,
   "id": "9c21544a",
   "metadata": {
    "execution": {
     "iopub.execute_input": "2021-09-14T14:17:31.338777Z",
     "iopub.status.busy": "2021-09-14T14:17:31.337586Z",
     "iopub.status.idle": "2021-09-14T14:17:31.355174Z",
     "shell.execute_reply": "2021-09-14T14:17:31.355667Z",
     "shell.execute_reply.started": "2021-09-14T13:48:59.195523Z"
    },
    "papermill": {
     "duration": 0.187906,
     "end_time": "2021-09-14T14:17:31.355851",
     "exception": false,
     "start_time": "2021-09-14T14:17:31.167945",
     "status": "completed"
    },
    "tags": []
   },
   "outputs": [],
   "source": [
    "#удалим признаки, которые не несут никакой информативности:\n",
    "data = data.drop(columns = ['car_url','name','sell_id','vehicleConfiguration','Таможня'], axis=1)"
   ]
  },
  {
   "cell_type": "code",
   "execution_count": 111,
   "id": "0fe8f2de",
   "metadata": {
    "execution": {
     "iopub.execute_input": "2021-09-14T14:17:31.709779Z",
     "iopub.status.busy": "2021-09-14T14:17:31.708969Z",
     "iopub.status.idle": "2021-09-14T14:17:31.712110Z",
     "shell.execute_reply": "2021-09-14T14:17:31.712666Z",
     "shell.execute_reply.started": "2021-09-14T13:48:59.216491Z"
    },
    "papermill": {
     "duration": 0.192333,
     "end_time": "2021-09-14T14:17:31.712847",
     "exception": false,
     "start_time": "2021-09-14T14:17:31.520514",
     "status": "completed"
    },
    "tags": []
   },
   "outputs": [
    {
     "data": {
      "text/html": [
       "<div>\n",
       "<style scoped>\n",
       "    .dataframe tbody tr th:only-of-type {\n",
       "        vertical-align: middle;\n",
       "    }\n",
       "\n",
       "    .dataframe tbody tr th {\n",
       "        vertical-align: top;\n",
       "    }\n",
       "\n",
       "    .dataframe thead th {\n",
       "        text-align: right;\n",
       "    }\n",
       "</style>\n",
       "<table border=\"1\" class=\"dataframe\">\n",
       "  <thead>\n",
       "    <tr style=\"text-align: right;\">\n",
       "      <th></th>\n",
       "      <th>bodyType</th>\n",
       "      <th>brand</th>\n",
       "      <th>color</th>\n",
       "      <th>engineDisplacement</th>\n",
       "      <th>enginePower</th>\n",
       "      <th>fuelType</th>\n",
       "      <th>mileage</th>\n",
       "      <th>modelDate</th>\n",
       "      <th>numberOfDoors</th>\n",
       "      <th>productionDate</th>\n",
       "      <th>vehicleTransmission</th>\n",
       "      <th>Владельцы</th>\n",
       "      <th>ПТС</th>\n",
       "      <th>Привод</th>\n",
       "      <th>Руль</th>\n",
       "      <th>price</th>\n",
       "      <th>sample</th>\n",
       "      <th>mileage_cat</th>\n",
       "      <th>prod_age</th>\n",
       "      <th>model_age</th>\n",
       "    </tr>\n",
       "  </thead>\n",
       "  <tbody>\n",
       "    <tr>\n",
       "      <th>0</th>\n",
       "      <td>лифтбек</td>\n",
       "      <td>SKODA</td>\n",
       "      <td>синий</td>\n",
       "      <td>1.2</td>\n",
       "      <td>2</td>\n",
       "      <td>бензин</td>\n",
       "      <td>74000</td>\n",
       "      <td>2013.0</td>\n",
       "      <td>5.0</td>\n",
       "      <td>2014</td>\n",
       "      <td>роботизированная</td>\n",
       "      <td>3.0</td>\n",
       "      <td>1</td>\n",
       "      <td>передний</td>\n",
       "      <td>1</td>\n",
       "      <td>0</td>\n",
       "      <td>0</td>\n",
       "      <td>4</td>\n",
       "      <td>7</td>\n",
       "      <td>8.0</td>\n",
       "    </tr>\n",
       "    <tr>\n",
       "      <th>1</th>\n",
       "      <td>лифтбек</td>\n",
       "      <td>SKODA</td>\n",
       "      <td>чёрный</td>\n",
       "      <td>1.6</td>\n",
       "      <td>2</td>\n",
       "      <td>бензин</td>\n",
       "      <td>60563</td>\n",
       "      <td>2017.0</td>\n",
       "      <td>5.0</td>\n",
       "      <td>2017</td>\n",
       "      <td>механическая</td>\n",
       "      <td>1.0</td>\n",
       "      <td>1</td>\n",
       "      <td>передний</td>\n",
       "      <td>1</td>\n",
       "      <td>0</td>\n",
       "      <td>0</td>\n",
       "      <td>4</td>\n",
       "      <td>4</td>\n",
       "      <td>4.0</td>\n",
       "    </tr>\n",
       "    <tr>\n",
       "      <th>2</th>\n",
       "      <td>лифтбек</td>\n",
       "      <td>SKODA</td>\n",
       "      <td>серый</td>\n",
       "      <td>1.8</td>\n",
       "      <td>3</td>\n",
       "      <td>бензин</td>\n",
       "      <td>88000</td>\n",
       "      <td>2013.0</td>\n",
       "      <td>5.0</td>\n",
       "      <td>2014</td>\n",
       "      <td>роботизированная</td>\n",
       "      <td>1.0</td>\n",
       "      <td>1</td>\n",
       "      <td>передний</td>\n",
       "      <td>1</td>\n",
       "      <td>0</td>\n",
       "      <td>0</td>\n",
       "      <td>4</td>\n",
       "      <td>7</td>\n",
       "      <td>8.0</td>\n",
       "    </tr>\n",
       "    <tr>\n",
       "      <th>3</th>\n",
       "      <td>лифтбек</td>\n",
       "      <td>SKODA</td>\n",
       "      <td>коричневый</td>\n",
       "      <td>1.6</td>\n",
       "      <td>2</td>\n",
       "      <td>бензин</td>\n",
       "      <td>95000</td>\n",
       "      <td>2013.0</td>\n",
       "      <td>5.0</td>\n",
       "      <td>2014</td>\n",
       "      <td>автоматическая</td>\n",
       "      <td>1.0</td>\n",
       "      <td>1</td>\n",
       "      <td>передний</td>\n",
       "      <td>1</td>\n",
       "      <td>0</td>\n",
       "      <td>0</td>\n",
       "      <td>4</td>\n",
       "      <td>7</td>\n",
       "      <td>8.0</td>\n",
       "    </tr>\n",
       "    <tr>\n",
       "      <th>4</th>\n",
       "      <td>лифтбек</td>\n",
       "      <td>SKODA</td>\n",
       "      <td>белый</td>\n",
       "      <td>1.8</td>\n",
       "      <td>3</td>\n",
       "      <td>бензин</td>\n",
       "      <td>58536</td>\n",
       "      <td>2008.0</td>\n",
       "      <td>5.0</td>\n",
       "      <td>2012</td>\n",
       "      <td>автоматическая</td>\n",
       "      <td>1.0</td>\n",
       "      <td>1</td>\n",
       "      <td>передний</td>\n",
       "      <td>1</td>\n",
       "      <td>0</td>\n",
       "      <td>0</td>\n",
       "      <td>4</td>\n",
       "      <td>9</td>\n",
       "      <td>13.0</td>\n",
       "    </tr>\n",
       "  </tbody>\n",
       "</table>\n",
       "</div>"
      ],
      "text/plain": [
       "  bodyType  brand       color  engineDisplacement  enginePower fuelType  \\\n",
       "0  лифтбек  SKODA       синий                 1.2            2   бензин   \n",
       "1  лифтбек  SKODA      чёрный                 1.6            2   бензин   \n",
       "2  лифтбек  SKODA       серый                 1.8            3   бензин   \n",
       "3  лифтбек  SKODA  коричневый                 1.6            2   бензин   \n",
       "4  лифтбек  SKODA       белый                 1.8            3   бензин   \n",
       "\n",
       "   mileage  modelDate  numberOfDoors  productionDate vehicleTransmission  \\\n",
       "0    74000     2013.0            5.0            2014    роботизированная   \n",
       "1    60563     2017.0            5.0            2017        механическая   \n",
       "2    88000     2013.0            5.0            2014    роботизированная   \n",
       "3    95000     2013.0            5.0            2014      автоматическая   \n",
       "4    58536     2008.0            5.0            2012      автоматическая   \n",
       "\n",
       "   Владельцы  ПТС    Привод  Руль  price  sample  mileage_cat  prod_age  \\\n",
       "0        3.0    1  передний     1      0       0            4         7   \n",
       "1        1.0    1  передний     1      0       0            4         4   \n",
       "2        1.0    1  передний     1      0       0            4         7   \n",
       "3        1.0    1  передний     1      0       0            4         7   \n",
       "4        1.0    1  передний     1      0       0            4         9   \n",
       "\n",
       "   model_age  \n",
       "0        8.0  \n",
       "1        4.0  \n",
       "2        8.0  \n",
       "3        8.0  \n",
       "4       13.0  "
      ]
     },
     "execution_count": 111,
     "metadata": {},
     "output_type": "execute_result"
    }
   ],
   "source": [
    "data.head(5)"
   ]
  },
  {
   "cell_type": "markdown",
   "id": "81a333a2",
   "metadata": {
    "papermill": {
     "duration": 0.165153,
     "end_time": "2021-09-14T14:17:32.051777",
     "exception": false,
     "start_time": "2021-09-14T14:17:31.886624",
     "status": "completed"
    },
    "tags": []
   },
   "source": [
    "## Label Encoding"
   ]
  },
  {
   "cell_type": "code",
   "execution_count": 112,
   "id": "978880ef",
   "metadata": {
    "execution": {
     "iopub.execute_input": "2021-09-14T14:17:32.402372Z",
     "iopub.status.busy": "2021-09-14T14:17:32.390071Z",
     "iopub.status.idle": "2021-09-14T14:17:32.454527Z",
     "shell.execute_reply": "2021-09-14T14:17:32.453954Z",
     "shell.execute_reply.started": "2021-09-14T13:48:59.243613Z"
    },
    "papermill": {
     "duration": 0.238445,
     "end_time": "2021-09-14T14:17:32.454685",
     "exception": false,
     "start_time": "2021-09-14T14:17:32.216240",
     "status": "completed"
    },
    "tags": []
   },
   "outputs": [],
   "source": [
    "for colum in ['bodyType','color','brand','fuelType', 'vehicleTransmission','Привод']:\n",
    "    data[colum] = data[colum].astype('category').cat.codes"
   ]
  },
  {
   "cell_type": "code",
   "execution_count": 113,
   "id": "2db71b65",
   "metadata": {
    "execution": {
     "iopub.execute_input": "2021-09-14T14:17:32.787398Z",
     "iopub.status.busy": "2021-09-14T14:17:32.785747Z",
     "iopub.status.idle": "2021-09-14T14:17:32.808748Z",
     "shell.execute_reply": "2021-09-14T14:17:32.809347Z",
     "shell.execute_reply.started": "2021-09-14T13:48:59.318875Z"
    },
    "papermill": {
     "duration": 0.191211,
     "end_time": "2021-09-14T14:17:32.809507",
     "exception": false,
     "start_time": "2021-09-14T14:17:32.618296",
     "status": "completed"
    },
    "tags": []
   },
   "outputs": [
    {
     "data": {
      "text/html": [
       "<div>\n",
       "<style scoped>\n",
       "    .dataframe tbody tr th:only-of-type {\n",
       "        vertical-align: middle;\n",
       "    }\n",
       "\n",
       "    .dataframe tbody tr th {\n",
       "        vertical-align: top;\n",
       "    }\n",
       "\n",
       "    .dataframe thead th {\n",
       "        text-align: right;\n",
       "    }\n",
       "</style>\n",
       "<table border=\"1\" class=\"dataframe\">\n",
       "  <thead>\n",
       "    <tr style=\"text-align: right;\">\n",
       "      <th></th>\n",
       "      <th>bodyType</th>\n",
       "      <th>brand</th>\n",
       "      <th>color</th>\n",
       "      <th>engineDisplacement</th>\n",
       "      <th>enginePower</th>\n",
       "      <th>fuelType</th>\n",
       "      <th>mileage</th>\n",
       "      <th>modelDate</th>\n",
       "      <th>numberOfDoors</th>\n",
       "      <th>productionDate</th>\n",
       "      <th>vehicleTransmission</th>\n",
       "      <th>Владельцы</th>\n",
       "      <th>ПТС</th>\n",
       "      <th>Привод</th>\n",
       "      <th>Руль</th>\n",
       "      <th>price</th>\n",
       "      <th>sample</th>\n",
       "      <th>mileage_cat</th>\n",
       "      <th>prod_age</th>\n",
       "      <th>model_age</th>\n",
       "    </tr>\n",
       "  </thead>\n",
       "  <tbody>\n",
       "    <tr>\n",
       "      <th>30865</th>\n",
       "      <td>16</td>\n",
       "      <td>34</td>\n",
       "      <td>17</td>\n",
       "      <td>1.9</td>\n",
       "      <td>1</td>\n",
       "      <td>3</td>\n",
       "      <td>431246</td>\n",
       "      <td>1990.0</td>\n",
       "      <td>3.0</td>\n",
       "      <td>2000</td>\n",
       "      <td>6</td>\n",
       "      <td>3.0</td>\n",
       "      <td>1</td>\n",
       "      <td>1</td>\n",
       "      <td>1</td>\n",
       "      <td>0</td>\n",
       "      <td>0</td>\n",
       "      <td>4</td>\n",
       "      <td>21</td>\n",
       "      <td>31.0</td>\n",
       "    </tr>\n",
       "    <tr>\n",
       "      <th>51547</th>\n",
       "      <td>0</td>\n",
       "      <td>24</td>\n",
       "      <td>27</td>\n",
       "      <td>2.0</td>\n",
       "      <td>2</td>\n",
       "      <td>0</td>\n",
       "      <td>213686</td>\n",
       "      <td>2007.0</td>\n",
       "      <td>5.0</td>\n",
       "      <td>2007</td>\n",
       "      <td>5</td>\n",
       "      <td>3.0</td>\n",
       "      <td>1</td>\n",
       "      <td>2</td>\n",
       "      <td>1</td>\n",
       "      <td>5729680</td>\n",
       "      <td>1</td>\n",
       "      <td>4</td>\n",
       "      <td>14</td>\n",
       "      <td>14.0</td>\n",
       "    </tr>\n",
       "    <tr>\n",
       "      <th>51732</th>\n",
       "      <td>0</td>\n",
       "      <td>24</td>\n",
       "      <td>31</td>\n",
       "      <td>1.6</td>\n",
       "      <td>2</td>\n",
       "      <td>0</td>\n",
       "      <td>118960</td>\n",
       "      <td>2010.0</td>\n",
       "      <td>5.0</td>\n",
       "      <td>2013</td>\n",
       "      <td>5</td>\n",
       "      <td>2.0</td>\n",
       "      <td>1</td>\n",
       "      <td>1</td>\n",
       "      <td>1</td>\n",
       "      <td>7164490</td>\n",
       "      <td>1</td>\n",
       "      <td>4</td>\n",
       "      <td>8</td>\n",
       "      <td>11.0</td>\n",
       "    </tr>\n",
       "    <tr>\n",
       "      <th>32618</th>\n",
       "      <td>11</td>\n",
       "      <td>24</td>\n",
       "      <td>28</td>\n",
       "      <td>1.8</td>\n",
       "      <td>2</td>\n",
       "      <td>0</td>\n",
       "      <td>133740</td>\n",
       "      <td>2002.0</td>\n",
       "      <td>4.0</td>\n",
       "      <td>2005</td>\n",
       "      <td>4</td>\n",
       "      <td>2.0</td>\n",
       "      <td>1</td>\n",
       "      <td>1</td>\n",
       "      <td>1</td>\n",
       "      <td>0</td>\n",
       "      <td>0</td>\n",
       "      <td>4</td>\n",
       "      <td>16</td>\n",
       "      <td>19.0</td>\n",
       "    </tr>\n",
       "    <tr>\n",
       "      <th>63461</th>\n",
       "      <td>8</td>\n",
       "      <td>34</td>\n",
       "      <td>31</td>\n",
       "      <td>2.0</td>\n",
       "      <td>3</td>\n",
       "      <td>3</td>\n",
       "      <td>368000</td>\n",
       "      <td>2009.0</td>\n",
       "      <td>4.0</td>\n",
       "      <td>2011</td>\n",
       "      <td>7</td>\n",
       "      <td>2.0</td>\n",
       "      <td>1</td>\n",
       "      <td>1</td>\n",
       "      <td>1</td>\n",
       "      <td>13445780</td>\n",
       "      <td>1</td>\n",
       "      <td>4</td>\n",
       "      <td>10</td>\n",
       "      <td>12.0</td>\n",
       "    </tr>\n",
       "  </tbody>\n",
       "</table>\n",
       "</div>"
      ],
      "text/plain": [
       "       bodyType  brand  color  engineDisplacement  enginePower  fuelType  \\\n",
       "30865        16     34     17                 1.9            1         3   \n",
       "51547         0     24     27                 2.0            2         0   \n",
       "51732         0     24     31                 1.6            2         0   \n",
       "32618        11     24     28                 1.8            2         0   \n",
       "63461         8     34     31                 2.0            3         3   \n",
       "\n",
       "       mileage  modelDate  numberOfDoors  productionDate  vehicleTransmission  \\\n",
       "30865   431246     1990.0            3.0            2000                    6   \n",
       "51547   213686     2007.0            5.0            2007                    5   \n",
       "51732   118960     2010.0            5.0            2013                    5   \n",
       "32618   133740     2002.0            4.0            2005                    4   \n",
       "63461   368000     2009.0            4.0            2011                    7   \n",
       "\n",
       "       Владельцы  ПТС  Привод  Руль     price  sample  mileage_cat  prod_age  \\\n",
       "30865        3.0    1       1     1         0       0            4        21   \n",
       "51547        3.0    1       2     1   5729680       1            4        14   \n",
       "51732        2.0    1       1     1   7164490       1            4         8   \n",
       "32618        2.0    1       1     1         0       0            4        16   \n",
       "63461        2.0    1       1     1  13445780       1            4        10   \n",
       "\n",
       "       model_age  \n",
       "30865       31.0  \n",
       "51547       14.0  \n",
       "51732       11.0  \n",
       "32618       19.0  \n",
       "63461       12.0  "
      ]
     },
     "execution_count": 113,
     "metadata": {},
     "output_type": "execute_result"
    }
   ],
   "source": [
    "data.sample(5)"
   ]
  },
  {
   "cell_type": "code",
   "execution_count": 114,
   "id": "23db8e7c",
   "metadata": {
    "execution": {
     "iopub.execute_input": "2021-09-14T14:17:33.184785Z",
     "iopub.status.busy": "2021-09-14T14:17:33.184155Z",
     "iopub.status.idle": "2021-09-14T14:17:33.189681Z",
     "shell.execute_reply": "2021-09-14T14:17:33.189012Z",
     "shell.execute_reply.started": "2021-09-14T13:48:59.345843Z"
    },
    "papermill": {
     "duration": 0.216207,
     "end_time": "2021-09-14T14:17:33.189824",
     "exception": false,
     "start_time": "2021-09-14T14:17:32.973617",
     "status": "completed"
    },
    "tags": []
   },
   "outputs": [
    {
     "name": "stdout",
     "output_type": "stream",
     "text": [
      "Категориальныe: ['bodyType', 'brand', 'color', 'fuelType', 'mileage_cat', 'numberOfDoors', 'vehicleTransmission', 'Владельцы', 'Привод'] \n",
      "Бинарные: ['ПТС', 'Руль']\n",
      "Числовые: ['engineDisplacement', 'enginePower', 'mileage', 'productionDate', 'modelDate', 'prod_age', 'model_age']\n"
     ]
    }
   ],
   "source": [
    "print('Категориальныe: {} \\nБинарные: {}\\nЧисловые: {}'.format(cat_cols, bin_cols,num_cols))"
   ]
  },
  {
   "cell_type": "markdown",
   "id": "56bba01d",
   "metadata": {
    "papermill": {
     "duration": 0.163187,
     "end_time": "2021-09-14T14:17:33.518592",
     "exception": false,
     "start_time": "2021-09-14T14:17:33.355405",
     "status": "completed"
    },
    "tags": []
   },
   "source": [
    "# Bin"
   ]
  },
  {
   "cell_type": "code",
   "execution_count": 115,
   "id": "d2eb7529",
   "metadata": {
    "execution": {
     "iopub.execute_input": "2021-09-14T14:17:33.855154Z",
     "iopub.status.busy": "2021-09-14T14:17:33.854454Z",
     "iopub.status.idle": "2021-09-14T14:17:33.860464Z",
     "shell.execute_reply": "2021-09-14T14:17:33.860965Z",
     "shell.execute_reply.started": "2021-09-14T13:48:59.353788Z"
    },
    "papermill": {
     "duration": 0.177974,
     "end_time": "2021-09-14T14:17:33.861129",
     "exception": false,
     "start_time": "2021-09-14T14:17:33.683155",
     "status": "completed"
    },
    "tags": []
   },
   "outputs": [
    {
     "data": {
      "text/plain": [
       "1    58967\n",
       "0    10262\n",
       "Name: ПТС, dtype: int64"
      ]
     },
     "metadata": {},
     "output_type": "display_data"
    },
    {
     "data": {
      "text/plain": [
       "1    65526\n",
       "0     3703\n",
       "Name: Руль, dtype: int64"
      ]
     },
     "metadata": {},
     "output_type": "display_data"
    }
   ],
   "source": [
    "for i in bin_cols:\n",
    "    display(data[i].value_counts())"
   ]
  },
  {
   "cell_type": "code",
   "execution_count": 116,
   "id": "89efdd90",
   "metadata": {
    "execution": {
     "iopub.execute_input": "2021-09-14T14:17:34.199074Z",
     "iopub.status.busy": "2021-09-14T14:17:34.198369Z",
     "iopub.status.idle": "2021-09-14T14:17:34.452902Z",
     "shell.execute_reply": "2021-09-14T14:17:34.452339Z",
     "shell.execute_reply.started": "2021-09-14T13:48:59.375805Z"
    },
    "papermill": {
     "duration": 0.42541,
     "end_time": "2021-09-14T14:17:34.453054",
     "exception": false,
     "start_time": "2021-09-14T14:17:34.027644",
     "status": "completed"
    },
    "tags": []
   },
   "outputs": [
    {
     "data": {
      "text/plain": [
       "<AxesSubplot:>"
      ]
     },
     "execution_count": 116,
     "metadata": {},
     "output_type": "execute_result"
    },
    {
     "data": {
      "image/png": "[encoded data removed]",
      "text/plain": [
       "<Figure size 432x288 with 1 Axes>"
      ]
     },
     "metadata": {
      "needs_background": "light"
     },
     "output_type": "display_data"
    }
   ],
   "source": [
    "#проверяем значимость бинарных переменных:\n",
    "df = data[data['sample'] == 0]\n",
    "imp_cat = Series(mutual_info_classif(data[bin_cols], data['price'],\n",
    "                                     discrete_features =True), index = bin_cols)\n",
    "imp_cat.sort_values(inplace = True)\n",
    "imp_cat.plot(kind = 'barh')"
   ]
  },
  {
   "cell_type": "code",
   "execution_count": 117,
   "id": "826cc384",
   "metadata": {
    "execution": {
     "iopub.execute_input": "2021-09-14T14:17:34.794102Z",
     "iopub.status.busy": "2021-09-14T14:17:34.793402Z",
     "iopub.status.idle": "2021-09-14T14:17:35.600044Z",
     "shell.execute_reply": "2021-09-14T14:17:35.599429Z",
     "shell.execute_reply.started": "2021-09-14T13:48:59.615449Z"
    },
    "papermill": {
     "duration": 0.980369,
     "end_time": "2021-09-14T14:17:35.600183",
     "exception": false,
     "start_time": "2021-09-14T14:17:34.619814",
     "status": "completed"
    },
    "tags": []
   },
   "outputs": [
    {
     "data": {
      "text/plain": [
       "<AxesSubplot:>"
      ]
     },
     "execution_count": 117,
     "metadata": {},
     "output_type": "execute_result"
    },
    {
     "data": {
      "image/png": "[encoded data removed]",
      "text/plain": [
       "<Figure size 720x360 with 2 Axes>"
      ]
     },
     "metadata": {
      "needs_background": "light"
     },
     "output_type": "display_data"
    }
   ],
   "source": [
    "# построим матрицу корреляций\n",
    "plt.figure(figsize=(10,5))\n",
    "sns.heatmap(data[num_cols+['price']].corr(), annot=True)"
   ]
  },
  {
   "cell_type": "markdown",
   "id": "ff12f841",
   "metadata": {
    "papermill": {
     "duration": 0.168055,
     "end_time": "2021-09-14T14:17:35.937245",
     "exception": false,
     "start_time": "2021-09-14T14:17:35.769190",
     "status": "completed"
    },
    "tags": []
   },
   "source": [
    "# Cat"
   ]
  },
  {
   "cell_type": "code",
   "execution_count": 118,
   "id": "1d5078c0",
   "metadata": {
    "execution": {
     "iopub.execute_input": "2021-09-14T14:17:36.284081Z",
     "iopub.status.busy": "2021-09-14T14:17:36.283323Z",
     "iopub.status.idle": "2021-09-14T14:17:36.692048Z",
     "shell.execute_reply": "2021-09-14T14:17:36.692526Z",
     "shell.execute_reply.started": "2021-09-14T13:49:00.391004Z"
    },
    "papermill": {
     "duration": 0.585761,
     "end_time": "2021-09-14T14:17:36.692699",
     "exception": false,
     "start_time": "2021-09-14T14:17:36.106938",
     "status": "completed"
    },
    "tags": []
   },
   "outputs": [
    {
     "data": {
      "text/plain": [
       "<AxesSubplot:>"
      ]
     },
     "execution_count": 118,
     "metadata": {},
     "output_type": "execute_result"
    },
    {
     "data": {
      "image/png": "[encoded data removed]",
      "text/plain": [
       "<Figure size 432x288 with 1 Axes>"
      ]
     },
     "metadata": {
      "needs_background": "light"
     },
     "output_type": "display_data"
    }
   ],
   "source": [
    "# проверяем значимость категориальных переменных:\n",
    "temp_df = data[data['sample']==1]\n",
    "imp_cat = Series(mutual_info_classif(data[cat_cols], data['price'],\n",
    "                                     discrete_features=True), index=cat_cols)\n",
    "imp_cat.sort_values(inplace=True)\n",
    "imp_cat.plot(kind='barh')"
   ]
  },
  {
   "cell_type": "markdown",
   "id": "701a0801",
   "metadata": {
    "papermill": {
     "duration": 0.169381,
     "end_time": "2021-09-14T14:17:37.031450",
     "exception": false,
     "start_time": "2021-09-14T14:17:36.862069",
     "status": "completed"
    },
    "tags": []
   },
   "source": [
    "# Num"
   ]
  },
  {
   "cell_type": "code",
   "execution_count": 119,
   "id": "0361f79f",
   "metadata": {
    "execution": {
     "iopub.execute_input": "2021-09-14T14:17:37.377390Z",
     "iopub.status.busy": "2021-09-14T14:17:37.376606Z",
     "iopub.status.idle": "2021-09-14T14:17:39.918545Z",
     "shell.execute_reply": "2021-09-14T14:17:39.918019Z",
     "shell.execute_reply.started": "2021-09-14T13:49:00.818741Z"
    },
    "papermill": {
     "duration": 2.716457,
     "end_time": "2021-09-14T14:17:39.918687",
     "exception": false,
     "start_time": "2021-09-14T14:17:37.202230",
     "status": "completed"
    },
    "tags": []
   },
   "outputs": [
    {
     "data": {
      "image/png": "[encoded data removed]",
      "text/plain": [
       "<Figure size 432x288 with 1 Axes>"
      ]
     },
     "metadata": {
      "needs_background": "light"
     },
     "output_type": "display_data"
    },
    {
     "data": {
      "image/png": "[encoded data removed]",
      "text/plain": [
       "<Figure size 432x288 with 1 Axes>"
      ]
     },
     "metadata": {
      "needs_background": "light"
     },
     "output_type": "display_data"
    },
    {
     "data": {
      "image/png": "[encoded data removed]",
      "text/plain": [
       "<Figure size 432x288 with 1 Axes>"
      ]
     },
     "metadata": {
      "needs_background": "light"
     },
     "output_type": "display_data"
    },
    {
     "data": {
      "image/png": "[encoded data removed]",
      "text/plain": [
       "<Figure size 432x288 with 1 Axes>"
      ]
     },
     "metadata": {
      "needs_background": "light"
     },
     "output_type": "display_data"
    },
    {
     "data": {
      "image/png": "[encoded data removed]",
      "text/plain": [
       "<Figure size 432x288 with 1 Axes>"
      ]
     },
     "metadata": {
      "needs_background": "light"
     },
     "output_type": "display_data"
    },
    {
     "data": {
      "image/png": "[encoded data removed]",
      "text/plain": [
       "<Figure size 432x288 with 1 Axes>"
      ]
     },
     "metadata": {
      "needs_background": "light"
     },
     "output_type": "display_data"
    },
    {
     "data": {
      "image/png": "[encoded data removed]",
      "text/plain": [
       "<Figure size 432x288 with 1 Axes>"
      ]
     },
     "metadata": {
      "needs_background": "light"
     },
     "output_type": "display_data"
    }
   ],
   "source": [
    "# смотрим распределения числовых переменных\n",
    "for col in num_cols:\n",
    "    plt.figure()\n",
    "    plt.title(f\"Распределение {col}\")\n",
    "    sns.distplot(data[col], kde=False)"
   ]
  },
  {
   "cell_type": "code",
   "execution_count": 120,
   "id": "c7fa0f18",
   "metadata": {
    "execution": {
     "iopub.execute_input": "2021-09-14T14:17:40.284830Z",
     "iopub.status.busy": "2021-09-14T14:17:40.284076Z",
     "iopub.status.idle": "2021-09-14T14:17:42.490607Z",
     "shell.execute_reply": "2021-09-14T14:17:42.490020Z",
     "shell.execute_reply.started": "2021-09-14T13:49:03.283349Z"
    },
    "papermill": {
     "duration": 2.393271,
     "end_time": "2021-09-14T14:17:42.490751",
     "exception": false,
     "start_time": "2021-09-14T14:17:40.097480",
     "status": "completed"
    },
    "tags": []
   },
   "outputs": [
    {
     "data": {
      "text/plain": [
       "<AxesSubplot:>"
      ]
     },
     "execution_count": 120,
     "metadata": {},
     "output_type": "execute_result"
    },
    {
     "data": {
      "image/png": "[encoded data removed]",
      "text/plain": [
       "<Figure size 432x288 with 1 Axes>"
      ]
     },
     "metadata": {
      "needs_background": "light"
     },
     "output_type": "display_data"
    }
   ],
   "source": [
    "imp_num = Series(f_classif(data[num_cols][data['sample'] == 1], data[data['sample'] == 1]['price'])[0], \n",
    "                 index = num_cols)\n",
    "imp_num.sort_values(inplace = True)\n",
    "imp_num.plot(kind = 'barh')"
   ]
  },
  {
   "cell_type": "code",
   "execution_count": 121,
   "id": "64871813",
   "metadata": {
    "execution": {
     "iopub.execute_input": "2021-09-14T14:17:42.846693Z",
     "iopub.status.busy": "2021-09-14T14:17:42.846004Z",
     "iopub.status.idle": "2021-09-14T14:17:45.837300Z",
     "shell.execute_reply": "2021-09-14T14:17:45.837776Z",
     "shell.execute_reply.started": "2021-09-14T13:49:05.469639Z"
    },
    "papermill": {
     "duration": 3.170276,
     "end_time": "2021-09-14T14:17:45.837969",
     "exception": false,
     "start_time": "2021-09-14T14:17:42.667693",
     "status": "completed"
    },
    "tags": []
   },
   "outputs": [
    {
     "data": {
      "image/png": "[encoded data removed]",
      "text/plain": [
       "<Figure size 1080x1080 with 2 Axes>"
      ]
     },
     "metadata": {
      "needs_background": "light"
     },
     "output_type": "display_data"
    }
   ],
   "source": [
    "fig, ax = plt.subplots(1, 1, figsize=(15, 15))\n",
    "ax = sns.heatmap(data.corr(),fmt='.1g',\n",
    "                 annot=True, cmap='coolwarm')"
   ]
  },
  {
   "cell_type": "code",
   "execution_count": 122,
   "id": "ecc5cc11",
   "metadata": {
    "execution": {
     "iopub.execute_input": "2021-09-14T14:17:46.207640Z",
     "iopub.status.busy": "2021-09-14T14:17:46.206971Z",
     "iopub.status.idle": "2021-09-14T14:17:46.222170Z",
     "shell.execute_reply": "2021-09-14T14:17:46.222884Z",
     "shell.execute_reply.started": "2021-09-14T13:49:08.741615Z"
    },
    "papermill": {
     "duration": 0.20243,
     "end_time": "2021-09-14T14:17:46.223142",
     "exception": false,
     "start_time": "2021-09-14T14:17:46.020712",
     "status": "completed"
    },
    "tags": []
   },
   "outputs": [
    {
     "name": "stdout",
     "output_type": "stream",
     "text": [
      "<class 'pandas.core.frame.DataFrame'>\n",
      "Int64Index: 69229 entries, 0 to 158301\n",
      "Data columns (total 20 columns):\n",
      " #   Column               Non-Null Count  Dtype  \n",
      "---  ------               --------------  -----  \n",
      " 0   bodyType             69229 non-null  int8   \n",
      " 1   brand                69229 non-null  int8   \n",
      " 2   color                69229 non-null  int8   \n",
      " 3   engineDisplacement   69229 non-null  float64\n",
      " 4   enginePower          69229 non-null  int64  \n",
      " 5   fuelType             69229 non-null  int8   \n",
      " 6   mileage              69229 non-null  int64  \n",
      " 7   modelDate            69229 non-null  float64\n",
      " 8   numberOfDoors        69229 non-null  float64\n",
      " 9   productionDate       69229 non-null  int64  \n",
      " 10  vehicleTransmission  69229 non-null  int8   \n",
      " 11  Владельцы            69229 non-null  float64\n",
      " 12  ПТС                  69229 non-null  int8   \n",
      " 13  Привод               69229 non-null  int8   \n",
      " 14  Руль                 69229 non-null  int8   \n",
      " 15  price                69229 non-null  int64  \n",
      " 16  sample               69229 non-null  int64  \n",
      " 17  mileage_cat          69229 non-null  int64  \n",
      " 18  prod_age             69229 non-null  int64  \n",
      " 19  model_age            69229 non-null  float64\n",
      "dtypes: float64(5), int64(7), int8(8)\n",
      "memory usage: 9.4 MB\n"
     ]
    }
   ],
   "source": [
    "data.info()"
   ]
  },
  {
   "cell_type": "markdown",
   "id": "e58907cb",
   "metadata": {
    "papermill": {
     "duration": 0.181665,
     "end_time": "2021-09-14T14:17:46.594124",
     "exception": false,
     "start_time": "2021-09-14T14:17:46.412459",
     "status": "completed"
    },
    "tags": []
   },
   "source": [
    "## Train Split"
   ]
  },
  {
   "cell_type": "code",
   "execution_count": 123,
   "id": "2f9b9338",
   "metadata": {
    "execution": {
     "iopub.execute_input": "2021-09-14T14:17:46.961248Z",
     "iopub.status.busy": "2021-09-14T14:17:46.960609Z",
     "iopub.status.idle": "2021-09-14T14:17:46.991354Z",
     "shell.execute_reply": "2021-09-14T14:17:46.990728Z",
     "shell.execute_reply.started": "2021-09-14T13:49:08.762583Z"
    },
    "papermill": {
     "duration": 0.215581,
     "end_time": "2021-09-14T14:17:46.991498",
     "exception": false,
     "start_time": "2021-09-14T14:17:46.775917",
     "status": "completed"
    },
    "tags": []
   },
   "outputs": [],
   "source": [
    "train_data = data.query('sample == 1').drop(['sample'], axis=1)\n",
    "test_data = data.query('sample == 0').drop(['sample','price'], axis=1)\n",
    "X = train_data.drop(['price'], axis=1)\n",
    "y = train_data['price']\n",
    "X_train, X_test, y_train, y_test = train_test_split(X, y, test_size=0.2, shuffle=True, random_state=RANDOM_SEED)"
   ]
  },
  {
   "cell_type": "markdown",
   "id": "0514b726",
   "metadata": {
    "papermill": {
     "duration": 0.18248,
     "end_time": "2021-09-14T14:17:47.360679",
     "exception": false,
     "start_time": "2021-09-14T14:17:47.178199",
     "status": "completed"
    },
    "tags": []
   },
   "source": [
    "# Linear Regression"
   ]
  },
  {
   "cell_type": "code",
   "execution_count": 124,
   "id": "ac3a9085",
   "metadata": {
    "execution": {
     "iopub.execute_input": "2021-09-14T14:17:47.735155Z",
     "iopub.status.busy": "2021-09-14T14:17:47.734219Z",
     "iopub.status.idle": "2021-09-14T14:17:47.774934Z",
     "shell.execute_reply": "2021-09-14T14:17:47.775580Z",
     "shell.execute_reply.started": "2021-09-14T13:49:08.800330Z"
    },
    "papermill": {
     "duration": 0.229542,
     "end_time": "2021-09-14T14:17:47.775771",
     "exception": false,
     "start_time": "2021-09-14T14:17:47.546229",
     "status": "completed"
    },
    "tags": []
   },
   "outputs": [
    {
     "name": "stdout",
     "output_type": "stream",
     "text": [
      "Точность модели по метрике MAPE: 29.60%\n"
     ]
    }
   ],
   "source": [
    "from sklearn.linear_model import LinearRegression\n",
    "linear_regr = LinearRegression().fit(X_train, np.log(y_train+1))\n",
    "predict_test = np.exp(linear_regr.predict(X_test))\n",
    "print(f\"Точность модели по метрике MAPE: {(mape(y_test, predict_test))*100:0.2f}%\")"
   ]
  },
  {
   "cell_type": "markdown",
   "id": "6bd10d68",
   "metadata": {
    "papermill": {
     "duration": 0.183365,
     "end_time": "2021-09-14T14:17:48.205955",
     "exception": false,
     "start_time": "2021-09-14T14:17:48.022590",
     "status": "completed"
    },
    "tags": []
   },
   "source": [
    "# CatBoost\n"
   ]
  },
  {
   "cell_type": "code",
   "execution_count": 125,
   "id": "f4c91a45",
   "metadata": {
    "execution": {
     "iopub.execute_input": "2021-09-14T14:17:48.603722Z",
     "iopub.status.busy": "2021-09-14T14:17:48.602692Z",
     "iopub.status.idle": "2021-09-14T14:18:11.404511Z",
     "shell.execute_reply": "2021-09-14T14:18:11.403696Z",
     "shell.execute_reply.started": "2021-09-14T13:49:08.837392Z"
    },
    "papermill": {
     "duration": 23.013605,
     "end_time": "2021-09-14T14:18:11.404663",
     "exception": false,
     "start_time": "2021-09-14T14:17:48.391058",
     "status": "completed"
    },
    "tags": []
   },
   "outputs": [],
   "source": [
    "model = CatBoostRegressor(iterations = 5000,\n",
    "                          random_seed = RANDOM_SEED,\n",
    "                          eval_metric='MAPE',\n",
    "                          custom_metric=['R2', 'MAE'],\n",
    "                          silent=True,\n",
    "                         )\n",
    "model.fit(X_train, y_train,\n",
    "         #cat_features=cat_features_ids,\n",
    "         eval_set=(X_test, y_test),\n",
    "         verbose_eval=0,\n",
    "         use_best_model=True,\n",
    "         #plot=True\n",
    "         )\n",
    "\n",
    "model.save_model('catboost_single_model_baseline.model')"
   ]
  },
  {
   "cell_type": "code",
   "execution_count": 126,
   "id": "1aa936aa",
   "metadata": {
    "execution": {
     "iopub.execute_input": "2021-09-14T14:18:11.780573Z",
     "iopub.status.busy": "2021-09-14T14:18:11.779761Z",
     "iopub.status.idle": "2021-09-14T14:18:11.809141Z",
     "shell.execute_reply": "2021-09-14T14:18:11.809931Z",
     "shell.execute_reply.started": "2021-09-14T13:49:31.581699Z"
    },
    "papermill": {
     "duration": 0.219717,
     "end_time": "2021-09-14T14:18:11.810207",
     "exception": false,
     "start_time": "2021-09-14T14:18:11.590490",
     "status": "completed"
    },
    "tags": []
   },
   "outputs": [
    {
     "name": "stdout",
     "output_type": "stream",
     "text": [
      "Точность модели по метрике MAPE: 15.74%\n"
     ]
    }
   ],
   "source": [
    "# оцениваем точность\n",
    "predict = model.predict(X_test)\n",
    "print(f\"Точность модели по метрике MAPE: {(mape(y_test, predict))*100:0.2f}%\")"
   ]
  },
  {
   "cell_type": "markdown",
   "id": "086d296a",
   "metadata": {
    "papermill": {
     "duration": 0.185125,
     "end_time": "2021-09-14T14:18:12.184782",
     "exception": false,
     "start_time": "2021-09-14T14:18:11.999657",
     "status": "completed"
    },
    "tags": []
   },
   "source": [
    "### Add Log"
   ]
  },
  {
   "cell_type": "code",
   "execution_count": 127,
   "id": "c12dcc6d",
   "metadata": {
    "execution": {
     "iopub.execute_input": "2021-09-14T14:18:12.572512Z",
     "iopub.status.busy": "2021-09-14T14:18:12.571463Z",
     "iopub.status.idle": "2021-09-14T14:18:35.718521Z",
     "shell.execute_reply": "2021-09-14T14:18:35.719046Z",
     "shell.execute_reply.started": "2021-09-14T13:49:31.615331Z"
    },
    "papermill": {
     "duration": 23.348838,
     "end_time": "2021-09-14T14:18:35.719242",
     "exception": false,
     "start_time": "2021-09-14T14:18:12.370404",
     "status": "completed"
    },
    "tags": []
   },
   "outputs": [
    {
     "name": "stdout",
     "output_type": "stream",
     "text": [
      "Точность модели по метрике MAPE: 13.85%\n"
     ]
    }
   ],
   "source": [
    "model = CatBoostRegressor(iterations = 5000,\n",
    "                          random_seed = RANDOM_SEED,\n",
    "                          eval_metric='MAPE',\n",
    "                          custom_metric=['R2', 'MAE'],\n",
    "                          silent=True,\n",
    "                         )\n",
    "model.fit(X_train, np.log(y_train),\n",
    "         #cat_features=cat_features_ids,\n",
    "         eval_set=(X_test, np.log(y_test)),\n",
    "         verbose_eval=0,\n",
    "         use_best_model=True,\n",
    "         #plot=True\n",
    "         )\n",
    "\n",
    "model.save_model('catboost_single_model_2_baseline.model')\n",
    "predict_test = np.exp(model.predict(X_test))\n",
    "#predict_submission = np.exp(model.predict(test_data))\n",
    "print(f\"Точность модели по метрике MAPE: {(mape(y_test, predict_test))*100:0.2f}%\")\n",
    "predict_submission = np.exp(model.predict(test_data))"
   ]
  },
  {
   "cell_type": "markdown",
   "id": "27770d25",
   "metadata": {
    "papermill": {
     "duration": 0.185237,
     "end_time": "2021-09-14T14:18:36.103093",
     "exception": false,
     "start_time": "2021-09-14T14:18:35.917856",
     "status": "completed"
    },
    "tags": []
   },
   "source": [
    "# xgboost"
   ]
  },
  {
   "cell_type": "code",
   "execution_count": 128,
   "id": "ec3576c1",
   "metadata": {
    "execution": {
     "iopub.execute_input": "2021-09-14T14:18:36.508063Z",
     "iopub.status.busy": "2021-09-14T14:18:36.507371Z",
     "iopub.status.idle": "2021-09-14T14:19:04.136794Z",
     "shell.execute_reply": "2021-09-14T14:19:04.137461Z",
     "shell.execute_reply.started": "2021-09-14T13:49:54.312538Z"
    },
    "papermill": {
     "duration": 27.849915,
     "end_time": "2021-09-14T14:19:04.137687",
     "exception": false,
     "start_time": "2021-09-14T14:18:36.287772",
     "status": "completed"
    },
    "tags": []
   },
   "outputs": [
    {
     "name": "stdout",
     "output_type": "stream",
     "text": [
      "Точность модели по метрике MAPE: 13.39%\n"
     ]
    }
   ],
   "source": [
    "# xgboost\n",
    "import xgboost as xgb\n",
    "xb = xgb.XGBRegressor(objective='reg:squarederror', colsample_bytree=0.5, learning_rate=0.03, \\\n",
    "                      max_depth=12, alpha=1, n_jobs=-1, n_estimators=1000)\n",
    "xb.fit(X_train, np.log(y_train+1))\n",
    "print(f\"Точность модели по метрике MAPE: {(mape(y_test, np.exp(xb.predict(X_test))))*100:0.2f}%\")\n",
    "predict_test = np.exp(xb.predict(X_test))"
   ]
  },
  {
   "cell_type": "markdown",
   "id": "682de92c",
   "metadata": {
    "papermill": {
     "duration": 0.183717,
     "end_time": "2021-09-14T14:19:04.508686",
     "exception": false,
     "start_time": "2021-09-14T14:19:04.324969",
     "status": "completed"
    },
    "tags": []
   },
   "source": [
    "# Gradient Boosting with best param"
   ]
  },
  {
   "cell_type": "code",
   "execution_count": 129,
   "id": "e5db4538",
   "metadata": {
    "execution": {
     "iopub.execute_input": "2021-09-14T14:19:04.884177Z",
     "iopub.status.busy": "2021-09-14T14:19:04.883495Z",
     "iopub.status.idle": "2021-09-14T14:19:04.885700Z",
     "shell.execute_reply": "2021-09-14T14:19:04.886209Z",
     "shell.execute_reply.started": "2021-09-14T13:50:22.539551Z"
    },
    "papermill": {
     "duration": 0.193931,
     "end_time": "2021-09-14T14:19:04.886410",
     "exception": false,
     "start_time": "2021-09-14T14:19:04.692479",
     "status": "completed"
    },
    "tags": []
   },
   "outputs": [],
   "source": [
    "from sklearn.ensemble import GradientBoostingRegressor\n",
    "def regularise(X_train, y_train):\n",
    "    max_depth = [5, 10,15]\n",
    "    n_estimators = [100, 200,1000]\n",
    "    hyperparameters = dict(max_depth=max_depth, n_estimators=n_estimators)\n",
    "    model = GradientBoostingRegressor()\n",
    "    model.fit(X_train, y_train)\n",
    "\n",
    "    clf = GridSearchCV(model, hyperparameters)\n",
    "\n",
    "    best_model = clf.fit(X_train, y_train)\n",
    "\n",
    "    best_max_depth = best_model.best_estimator_.get_params()['max_depth']\n",
    "    best_n_estimators = best_model.best_estimator_.get_params()['n_estimators']\n",
    "\n",
    "    return best_max_depth, best_n_estimators"
   ]
  },
  {
   "cell_type": "code",
   "execution_count": 130,
   "id": "c4a12b8d",
   "metadata": {
    "execution": {
     "iopub.execute_input": "2021-09-14T14:19:05.258428Z",
     "iopub.status.busy": "2021-09-14T14:19:05.257693Z",
     "iopub.status.idle": "2021-09-14T14:20:09.414193Z",
     "shell.execute_reply": "2021-09-14T14:20:09.414740Z",
     "shell.execute_reply.started": "2021-09-14T13:50:22.548249Z"
    },
    "papermill": {
     "duration": 64.344719,
     "end_time": "2021-09-14T14:20:09.414905",
     "exception": false,
     "start_time": "2021-09-14T14:19:05.070186",
     "status": "completed"
    },
    "tags": []
   },
   "outputs": [
    {
     "name": "stdout",
     "output_type": "stream",
     "text": [
      "Точность модели по метрике MAPE: 14.95%\n"
     ]
    }
   ],
   "source": [
    "gb = GradientBoostingRegressor(min_samples_split=2, learning_rate=0.03, max_depth=5, n_estimators=1000)\n",
    "gb.fit(X_train, np.log(y_train+1))\n",
    "print(f\"Точность модели по метрике MAPE: {(mape(y_test, np.exp(gb.predict(X_test))))*100:0.2f}%\")"
   ]
  },
  {
   "cell_type": "markdown",
   "id": "9a2007f5",
   "metadata": {
    "papermill": {
     "duration": 0.186203,
     "end_time": "2021-09-14T14:20:09.786025",
     "exception": false,
     "start_time": "2021-09-14T14:20:09.599822",
     "status": "completed"
    },
    "tags": []
   },
   "source": [
    "# Stacking"
   ]
  },
  {
   "cell_type": "code",
   "execution_count": 131,
   "id": "d6d77e5b",
   "metadata": {
    "execution": {
     "iopub.execute_input": "2021-09-14T14:20:10.161736Z",
     "iopub.status.busy": "2021-09-14T14:20:10.160757Z",
     "iopub.status.idle": "2021-09-14T14:20:10.194102Z",
     "shell.execute_reply": "2021-09-14T14:20:10.193501Z",
     "shell.execute_reply.started": "2021-09-14T13:51:25.906370Z"
    },
    "papermill": {
     "duration": 0.222715,
     "end_time": "2021-09-14T14:20:10.194238",
     "exception": false,
     "start_time": "2021-09-14T14:20:09.971523",
     "status": "completed"
    },
    "tags": []
   },
   "outputs": [],
   "source": [
    "scaler = StandardScaler() \n",
    "X_train = scaler.fit_transform(X_train) \n",
    "X_test = scaler.transform(X_test) \n",
    "\n",
    "\n",
    "y_train = y_train \n",
    "y_test = y_test\n",
    "\n",
    "cv = KFold(n_splits=5, shuffle=True, random_state=RANDOM_SEED)\n",
    "\n",
    "def compute_meta_feature(regr, X_train, X_test, y_train, cv):\n",
    "    X_meta_train = np.zeros_like(y_train, dtype=np.float32)    \n",
    "    splits = cv.split(X_train)\n",
    "    for train_fold_index, predict_fold_index in splits:\n",
    "        X_fold_train, X_fold_predict = X_train[train_fold_index], X_train[predict_fold_index]\n",
    "        y_fold_train = y_train[train_fold_index]\n",
    "\n",
    "        folded_regr = clone(regr)\n",
    "        folded_regr.fit(X_fold_train, y_fold_train)\n",
    "\n",
    "        X_meta_train[predict_fold_index] = folded_regr.predict(X_fold_predict)\n",
    "\n",
    "    meta_regr = clone(regr)\n",
    "    meta_regr.fit(X_train, y_train)\n",
    "\n",
    "    X_meta_test = meta_regr.predict(X_test)\n",
    "\n",
    "\n",
    "    return X_meta_train, X_meta_test\n",
    "\n",
    "def generate_meta_features(regr, X_train, X_test, y_train, cv):\n",
    "    features = [compute_meta_feature(regr, X_train, X_test, y_train, cv) for regr in tqdm(regr)]    \n",
    "    stacked_features_train = np.vstack([features_train for features_train, features_test in features]).T\n",
    "    stacked_features_test = np.vstack([features_test for features_train, features_test in features]).T\n",
    "    return stacked_features_train, stacked_features_test\n",
    "\n",
    "X_train = np.where(np.isnan(X_train), 0, X_train)\n",
    "X_test = np.where(np.isnan(X_test), 0, X_test)\n",
    "y_train = np.where(np.isnan(y_train), 0, y_train)"
   ]
  },
  {
   "cell_type": "code",
   "execution_count": 132,
   "id": "de285751",
   "metadata": {
    "execution": {
     "iopub.execute_input": "2021-09-14T14:20:10.570992Z",
     "iopub.status.busy": "2021-09-14T14:20:10.570297Z",
     "iopub.status.idle": "2021-09-14T14:26:33.960334Z",
     "shell.execute_reply": "2021-09-14T14:26:33.958481Z",
     "shell.execute_reply.started": "2021-09-14T13:51:25.949432Z"
    },
    "papermill": {
     "duration": 383.581877,
     "end_time": "2021-09-14T14:26:33.960589",
     "exception": false,
     "start_time": "2021-09-14T14:20:10.378712",
     "status": "completed"
    },
    "tags": []
   },
   "outputs": [
    {
     "data": {
      "application/vnd.jupyter.widget-view+json": {
       "model_id": "e87761251e2d4bdea815578d4c30ec9c",
       "version_major": 2,
       "version_minor": 0
      },
      "text/plain": [
       "  0%|          | 0/6 [00:00<?, ?it/s]"
      ]
     },
     "metadata": {},
     "output_type": "display_data"
    },
    {
     "name": "stderr",
     "output_type": "stream",
     "text": [
      "[Parallel(n_jobs=-1)]: Using backend ThreadingBackend with 4 concurrent workers.\n",
      "[Parallel(n_jobs=-1)]: Done  42 tasks      | elapsed:    0.6s\n",
      "[Parallel(n_jobs=-1)]: Done 192 tasks      | elapsed:    2.5s\n",
      "[Parallel(n_jobs=-1)]: Done 200 out of 200 | elapsed:    2.5s finished\n",
      "[Parallel(n_jobs=4)]: Using backend ThreadingBackend with 4 concurrent workers.\n",
      "[Parallel(n_jobs=4)]: Done  42 tasks      | elapsed:    0.0s\n",
      "[Parallel(n_jobs=4)]: Done 192 tasks      | elapsed:    0.1s\n",
      "[Parallel(n_jobs=4)]: Done 200 out of 200 | elapsed:    0.1s finished\n",
      "[Parallel(n_jobs=-1)]: Using backend ThreadingBackend with 4 concurrent workers.\n",
      "[Parallel(n_jobs=-1)]: Done  42 tasks      | elapsed:    0.6s\n",
      "[Parallel(n_jobs=-1)]: Done 192 tasks      | elapsed:    2.4s\n",
      "[Parallel(n_jobs=-1)]: Done 200 out of 200 | elapsed:    2.5s finished\n",
      "[Parallel(n_jobs=4)]: Using backend ThreadingBackend with 4 concurrent workers.\n",
      "[Parallel(n_jobs=4)]: Done  42 tasks      | elapsed:    0.0s\n",
      "[Parallel(n_jobs=4)]: Done 192 tasks      | elapsed:    0.1s\n",
      "[Parallel(n_jobs=4)]: Done 200 out of 200 | elapsed:    0.1s finished\n",
      "[Parallel(n_jobs=-1)]: Using backend ThreadingBackend with 4 concurrent workers.\n",
      "[Parallel(n_jobs=-1)]: Done  42 tasks      | elapsed:    0.6s\n",
      "[Parallel(n_jobs=-1)]: Done 192 tasks      | elapsed:    2.4s\n",
      "[Parallel(n_jobs=-1)]: Done 200 out of 200 | elapsed:    2.5s finished\n",
      "[Parallel(n_jobs=4)]: Using backend ThreadingBackend with 4 concurrent workers.\n",
      "[Parallel(n_jobs=4)]: Done  42 tasks      | elapsed:    0.0s\n",
      "[Parallel(n_jobs=4)]: Done 192 tasks      | elapsed:    0.1s\n",
      "[Parallel(n_jobs=4)]: Done 200 out of 200 | elapsed:    0.1s finished\n",
      "[Parallel(n_jobs=-1)]: Using backend ThreadingBackend with 4 concurrent workers.\n",
      "[Parallel(n_jobs=-1)]: Done  42 tasks      | elapsed:    0.6s\n",
      "[Parallel(n_jobs=-1)]: Done 192 tasks      | elapsed:    2.5s\n",
      "[Parallel(n_jobs=-1)]: Done 200 out of 200 | elapsed:    2.6s finished\n",
      "[Parallel(n_jobs=4)]: Using backend ThreadingBackend with 4 concurrent workers.\n",
      "[Parallel(n_jobs=4)]: Done  42 tasks      | elapsed:    0.0s\n",
      "[Parallel(n_jobs=4)]: Done 192 tasks      | elapsed:    0.1s\n",
      "[Parallel(n_jobs=4)]: Done 200 out of 200 | elapsed:    0.1s finished\n",
      "[Parallel(n_jobs=-1)]: Using backend ThreadingBackend with 4 concurrent workers.\n",
      "[Parallel(n_jobs=-1)]: Done  42 tasks      | elapsed:    0.6s\n",
      "[Parallel(n_jobs=-1)]: Done 192 tasks      | elapsed:    2.4s\n",
      "[Parallel(n_jobs=-1)]: Done 200 out of 200 | elapsed:    2.5s finished\n",
      "[Parallel(n_jobs=4)]: Using backend ThreadingBackend with 4 concurrent workers.\n",
      "[Parallel(n_jobs=4)]: Done  42 tasks      | elapsed:    0.0s\n",
      "[Parallel(n_jobs=4)]: Done 192 tasks      | elapsed:    0.1s\n",
      "[Parallel(n_jobs=4)]: Done 200 out of 200 | elapsed:    0.1s finished\n",
      "[Parallel(n_jobs=-1)]: Using backend ThreadingBackend with 4 concurrent workers.\n",
      "[Parallel(n_jobs=-1)]: Done  42 tasks      | elapsed:    0.7s\n",
      "[Parallel(n_jobs=-1)]: Done 192 tasks      | elapsed:    2.9s\n",
      "[Parallel(n_jobs=-1)]: Done 200 out of 200 | elapsed:    3.0s finished\n",
      "[Parallel(n_jobs=4)]: Using backend ThreadingBackend with 4 concurrent workers.\n",
      "[Parallel(n_jobs=4)]: Done  42 tasks      | elapsed:    0.0s\n",
      "[Parallel(n_jobs=4)]: Done 192 tasks      | elapsed:    0.1s\n",
      "[Parallel(n_jobs=4)]: Done 200 out of 200 | elapsed:    0.1s finished\n"
     ]
    }
   ],
   "source": [
    "regr = RandomForestRegressor(n_estimators=300, min_samples_split=2, min_samples_leaf=1, \n",
    "                             max_features=3, max_depth=19, bootstrap=True, random_state=RANDOM_SEED)\n",
    "\n",
    "stacked_features_train, stacked_features_test = generate_meta_features([\n",
    "                            regr,\n",
    "                            GradientBoostingRegressor(min_samples_split=2, learning_rate=0.03, max_depth=10, n_estimators=300),\n",
    "                            KNeighborsRegressor(n_neighbors=2, algorithm = 'ball_tree', weights = 'distance', p=1),\n",
    "                            RandomForestRegressor(random_state = RANDOM_SEED, n_jobs = -1, verbose = 1, max_depth=5, n_estimators=200),\n",
    "                            ExtraTreesRegressor(random_state=RANDOM_SEED), \n",
    "                            RandomForestRegressor(random_state=RANDOM_SEED, max_depth=15) \\\n",
    "], X_train, X_test, y_train, cv)"
   ]
  },
  {
   "cell_type": "code",
   "execution_count": 133,
   "id": "4f6385c5",
   "metadata": {
    "execution": {
     "iopub.execute_input": "2021-09-14T14:26:34.352493Z",
     "iopub.status.busy": "2021-09-14T14:26:34.351724Z",
     "iopub.status.idle": "2021-09-14T14:27:03.157474Z",
     "shell.execute_reply": "2021-09-14T14:27:03.158319Z",
     "shell.execute_reply.started": "2021-09-14T13:57:52.135688Z"
    },
    "papermill": {
     "duration": 29.006238,
     "end_time": "2021-09-14T14:27:03.158589",
     "exception": false,
     "start_time": "2021-09-14T14:26:34.152351",
     "status": "completed"
    },
    "tags": []
   },
   "outputs": [
    {
     "name": "stdout",
     "output_type": "stream",
     "text": [
      "Точность модели по метрике MAPE: 15.54%\n"
     ]
    }
   ],
   "source": [
    "def compute_metric(regr, X_train, y_train, X_test, y_test): \n",
    "    regr.fit(X_train, y_train) \n",
    "    y_test_pred = regr.predict(X_test) \n",
    "    return np.round(mape(y_test, y_test_pred)*100, 2)\n",
    "print(f\"Точность модели по метрике MAPE: {compute_metric(regr, stacked_features_train, y_train, stacked_features_test, y_test)}%\")"
   ]
  },
  {
   "cell_type": "markdown",
   "id": "dc744fd8",
   "metadata": {
    "papermill": {
     "duration": 0.193503,
     "end_time": "2021-09-14T14:27:03.544135",
     "exception": false,
     "start_time": "2021-09-14T14:27:03.350632",
     "status": "completed"
    },
    "tags": []
   },
   "source": [
    "# Выводы\n",
    "\n",
    "* CatBoost и GradientBoosting показывают хороший результат метрики, но лучший результат показал xgboost"
   ]
  },
  {
   "cell_type": "markdown",
   "id": "d1b61355",
   "metadata": {
    "papermill": {
     "duration": 0.190686,
     "end_time": "2021-09-14T14:27:03.926859",
     "exception": false,
     "start_time": "2021-09-14T14:27:03.736173",
     "status": "completed"
    },
    "tags": []
   },
   "source": [
    "# Submission"
   ]
  },
  {
   "cell_type": "code",
   "execution_count": 134,
   "id": "9d3d697d",
   "metadata": {
    "execution": {
     "iopub.execute_input": "2021-09-14T14:27:04.319618Z",
     "iopub.status.busy": "2021-09-14T14:27:04.318109Z",
     "iopub.status.idle": "2021-09-14T14:27:04.529965Z",
     "shell.execute_reply": "2021-09-14T14:27:04.530501Z",
     "shell.execute_reply.started": "2021-09-14T13:58:21.485302Z"
    },
    "papermill": {
     "duration": 0.411452,
     "end_time": "2021-09-14T14:27:04.530666",
     "exception": false,
     "start_time": "2021-09-14T14:27:04.119214",
     "status": "completed"
    },
    "tags": []
   },
   "outputs": [
    {
     "data": {
      "text/html": [
       "<div>\n",
       "<style scoped>\n",
       "    .dataframe tbody tr th:only-of-type {\n",
       "        vertical-align: middle;\n",
       "    }\n",
       "\n",
       "    .dataframe tbody tr th {\n",
       "        vertical-align: top;\n",
       "    }\n",
       "\n",
       "    .dataframe thead th {\n",
       "        text-align: right;\n",
       "    }\n",
       "</style>\n",
       "<table border=\"1\" class=\"dataframe\">\n",
       "  <thead>\n",
       "    <tr style=\"text-align: right;\">\n",
       "      <th></th>\n",
       "      <th>sell_id</th>\n",
       "      <th>price</th>\n",
       "    </tr>\n",
       "  </thead>\n",
       "  <tbody>\n",
       "    <tr>\n",
       "      <th>0</th>\n",
       "      <td>1100575026</td>\n",
       "      <td>5.532150e+06</td>\n",
       "    </tr>\n",
       "    <tr>\n",
       "      <th>1</th>\n",
       "      <td>1100549428</td>\n",
       "      <td>7.357193e+06</td>\n",
       "    </tr>\n",
       "    <tr>\n",
       "      <th>2</th>\n",
       "      <td>1100658222</td>\n",
       "      <td>7.731002e+06</td>\n",
       "    </tr>\n",
       "    <tr>\n",
       "      <th>3</th>\n",
       "      <td>1100937408</td>\n",
       "      <td>5.934711e+06</td>\n",
       "    </tr>\n",
       "    <tr>\n",
       "      <th>4</th>\n",
       "      <td>1101037972</td>\n",
       "      <td>6.612609e+06</td>\n",
       "    </tr>\n",
       "    <tr>\n",
       "      <th>5</th>\n",
       "      <td>1100912634</td>\n",
       "      <td>6.315596e+06</td>\n",
       "    </tr>\n",
       "    <tr>\n",
       "      <th>6</th>\n",
       "      <td>1101228730</td>\n",
       "      <td>5.539667e+06</td>\n",
       "    </tr>\n",
       "    <tr>\n",
       "      <th>7</th>\n",
       "      <td>1100165896</td>\n",
       "      <td>3.393903e+06</td>\n",
       "    </tr>\n",
       "    <tr>\n",
       "      <th>8</th>\n",
       "      <td>1100768262</td>\n",
       "      <td>1.600501e+07</td>\n",
       "    </tr>\n",
       "    <tr>\n",
       "      <th>9</th>\n",
       "      <td>1101218501</td>\n",
       "      <td>6.989901e+06</td>\n",
       "    </tr>\n",
       "  </tbody>\n",
       "</table>\n",
       "</div>"
      ],
      "text/plain": [
       "      sell_id         price\n",
       "0  1100575026  5.532150e+06\n",
       "1  1100549428  7.357193e+06\n",
       "2  1100658222  7.731002e+06\n",
       "3  1100937408  5.934711e+06\n",
       "4  1101037972  6.612609e+06\n",
       "5  1100912634  6.315596e+06\n",
       "6  1101228730  5.539667e+06\n",
       "7  1100165896  3.393903e+06\n",
       "8  1100768262  1.600501e+07\n",
       "9  1101218501  6.989901e+06"
      ]
     },
     "execution_count": 134,
     "metadata": {},
     "output_type": "execute_result"
    }
   ],
   "source": [
    "sample_submission['price'] = predict_submission\n",
    "sample_submission.to_csv('submission.csv', index=False)\n",
    "sample_submission.head(10)"
   ]
  }
 ],
 "metadata": {
  "kernelspec": {
   "display_name": "Python 3",
   "language": "python",
   "name": "python3"
  },
  "language_info": {
   "codemirror_mode": {
    "name": "ipython",
    "version": 3
   },
   "file_extension": ".py",
   "mimetype": "text/x-python",
   "name": "python",
   "nbconvert_exporter": "python",
   "pygments_lexer": "ipython3",
   "version": "3.7.10"
  },
  "papermill": {
   "default_parameters": {},
   "duration": 652.536317,
   "end_time": "2021-09-14T14:27:06.499933",
   "environment_variables": {},
   "exception": null,
   "input_path": "__notebook__.ipynb",
   "output_path": "__notebook__.ipynb",
   "parameters": {},
   "start_time": "2021-09-14T14:16:13.963616",
   "version": "2.3.3"
  },
  "widgets": {
   "application/vnd.jupyter.widget-state+json": {
    "state": {
     "0c97f79e9bab4922a9245f8b01737980": {
      "model_module": "@jupyter-widgets/controls",
      "model_module_version": "1.5.0",
      "model_name": "DescriptionStyleModel",
      "state": {
       "_model_module": "@jupyter-widgets/controls",
       "_model_module_version": "1.5.0",
       "_model_name": "DescriptionStyleModel",
       "_view_count": null,
       "_view_module": "@jupyter-widgets/base",
       "_view_module_version": "1.2.0",
       "_view_name": "StyleView",
       "description_width": ""
      }
     },
     "271fa6c816934bdba06aacdc5e2ccc91": {
      "model_module": "@jupyter-widgets/controls",
      "model_module_version": "1.5.0",
      "model_name": "DescriptionStyleModel",
      "state": {
       "_model_module": "@jupyter-widgets/controls",
       "_model_module_version": "1.5.0",
       "_model_name": "DescriptionStyleModel",
       "_view_count": null,
       "_view_module": "@jupyter-widgets/base",
       "_view_module_version": "1.2.0",
       "_view_name": "StyleView",
       "description_width": ""
      }
     },
     "4616a69a4d70411a85cdd2f4d1210ef4": {
      "model_module": "@jupyter-widgets/controls",
      "model_module_version": "1.5.0",
      "model_name": "ProgressStyleModel",
      "state": {
       "_model_module": "@jupyter-widgets/controls",
       "_model_module_version": "1.5.0",
       "_model_name": "ProgressStyleModel",
       "_view_count": null,
       "_view_module": "@jupyter-widgets/base",
       "_view_module_version": "1.2.0",
       "_view_name": "StyleView",
       "bar_color": null,
       "description_width": ""
      }
     },
     "4947e0b70c8b442b8bd029dceda76a78": {
      "model_module": "@jupyter-widgets/base",
      "model_module_version": "1.2.0",
      "model_name": "LayoutModel",
      "state": {
       "_model_module": "@jupyter-widgets/base",
       "_model_module_version": "1.2.0",
       "_model_name": "LayoutModel",
       "_view_count": null,
       "_view_module": "@jupyter-widgets/base",
       "_view_module_version": "1.2.0",
       "_view_name": "LayoutView",
       "align_content": null,
       "align_items": null,
       "align_self": null,
       "border": null,
       "bottom": null,
       "display": null,
       "flex": null,
       "flex_flow": null,
       "grid_area": null,
       "grid_auto_columns": null,
       "grid_auto_flow": null,
       "grid_auto_rows": null,
       "grid_column": null,
       "grid_gap": null,
       "grid_row": null,
       "grid_template_areas": null,
       "grid_template_columns": null,
       "grid_template_rows": null,
       "height": null,
       "justify_content": null,
       "justify_items": null,
       "left": null,
       "margin": null,
       "max_height": null,
       "max_width": null,
       "min_height": null,
       "min_width": null,
       "object_fit": null,
       "object_position": null,
       "order": null,
       "overflow": null,
       "overflow_x": null,
       "overflow_y": null,
       "padding": null,
       "right": null,
       "top": null,
       "visibility": null,
       "width": null
      }
     },
     "6aa363234db9474f9b9293982d6845e8": {
      "model_module": "@jupyter-widgets/controls",
      "model_module_version": "1.5.0",
      "model_name": "HTMLModel",
      "state": {
       "_dom_classes": [],
       "_model_module": "@jupyter-widgets/controls",
       "_model_module_version": "1.5.0",
       "_model_name": "HTMLModel",
       "_view_count": null,
       "_view_module": "@jupyter-widgets/controls",
       "_view_module_version": "1.5.0",
       "_view_name": "HTMLView",
       "description": "",
       "description_tooltip": null,
       "layout": "IPY_MODEL_f2cb8a22520544cabe4d8009794e753a",
       "placeholder": "​",
       "style": "IPY_MODEL_271fa6c816934bdba06aacdc5e2ccc91",
       "value": " 6/6 [06:23&lt;00:00, 54.33s/it]"
      }
     },
     "8d0541cacdb84baeae2a6ab033c9326f": {
      "model_module": "@jupyter-widgets/controls",
      "model_module_version": "1.5.0",
      "model_name": "FloatProgressModel",
      "state": {
       "_dom_classes": [],
       "_model_module": "@jupyter-widgets/controls",
       "_model_module_version": "1.5.0",
       "_model_name": "FloatProgressModel",
       "_view_count": null,
       "_view_module": "@jupyter-widgets/controls",
       "_view_module_version": "1.5.0",
       "_view_name": "ProgressView",
       "bar_style": "success",
       "description": "",
       "description_tooltip": null,
       "layout": "IPY_MODEL_ddff41f67eb945b4ba1f2f5b9b0583a4",
       "max": 6.0,
       "min": 0.0,
       "orientation": "horizontal",
       "style": "IPY_MODEL_4616a69a4d70411a85cdd2f4d1210ef4",
       "value": 6.0
      }
     },
     "a27911454d5c48e58f87b05bceb86c29": {
      "model_module": "@jupyter-widgets/controls",
      "model_module_version": "1.5.0",
      "model_name": "HTMLModel",
      "state": {
       "_dom_classes": [],
       "_model_module": "@jupyter-widgets/controls",
       "_model_module_version": "1.5.0",
       "_model_name": "HTMLModel",
       "_view_count": null,
       "_view_module": "@jupyter-widgets/controls",
       "_view_module_version": "1.5.0",
       "_view_name": "HTMLView",
       "description": "",
       "description_tooltip": null,
       "layout": "IPY_MODEL_bdb7e7444b394b6e9b0cebebae79f4e7",
       "placeholder": "​",
       "style": "IPY_MODEL_0c97f79e9bab4922a9245f8b01737980",
       "value": "100%"
      }
     },
     "bdb7e7444b394b6e9b0cebebae79f4e7": {
      "model_module": "@jupyter-widgets/base",
      "model_module_version": "1.2.0",
      "model_name": "LayoutModel",
      "state": {
       "_model_module": "@jupyter-widgets/base",
       "_model_module_version": "1.2.0",
       "_model_name": "LayoutModel",
       "_view_count": null,
       "_view_module": "@jupyter-widgets/base",
       "_view_module_version": "1.2.0",
       "_view_name": "LayoutView",
       "align_content": null,
       "align_items": null,
       "align_self": null,
       "border": null,
       "bottom": null,
       "display": null,
       "flex": null,
       "flex_flow": null,
       "grid_area": null,
       "grid_auto_columns": null,
       "grid_auto_flow": null,
       "grid_auto_rows": null,
       "grid_column": null,
       "grid_gap": null,
       "grid_row": null,
       "grid_template_areas": null,
       "grid_template_columns": null,
       "grid_template_rows": null,
       "height": null,
       "justify_content": null,
       "justify_items": null,
       "left": null,
       "margin": null,
       "max_height": null,
       "max_width": null,
       "min_height": null,
       "min_width": null,
       "object_fit": null,
       "object_position": null,
       "order": null,
       "overflow": null,
       "overflow_x": null,
       "overflow_y": null,
       "padding": null,
       "right": null,
       "top": null,
       "visibility": null,
       "width": null
      }
     },
     "ddff41f67eb945b4ba1f2f5b9b0583a4": {
      "model_module": "@jupyter-widgets/base",
      "model_module_version": "1.2.0",
      "model_name": "LayoutModel",
      "state": {
       "_model_module": "@jupyter-widgets/base",
       "_model_module_version": "1.2.0",
       "_model_name": "LayoutModel",
       "_view_count": null,
       "_view_module": "@jupyter-widgets/base",
       "_view_module_version": "1.2.0",
       "_view_name": "LayoutView",
       "align_content": null,
       "align_items": null,
       "align_self": null,
       "border": null,
       "bottom": null,
       "display": null,
       "flex": null,
       "flex_flow": null,
       "grid_area": null,
       "grid_auto_columns": null,
       "grid_auto_flow": null,
       "grid_auto_rows": null,
       "grid_column": null,
       "grid_gap": null,
       "grid_row": null,
       "grid_template_areas": null,
       "grid_template_columns": null,
       "grid_template_rows": null,
       "height": null,
       "justify_content": null,
       "justify_items": null,
       "left": null,
       "margin": null,
       "max_height": null,
       "max_width": null,
       "min_height": null,
       "min_width": null,
       "object_fit": null,
       "object_position": null,
       "order": null,
       "overflow": null,
       "overflow_x": null,
       "overflow_y": null,
       "padding": null,
       "right": null,
       "top": null,
       "visibility": null,
       "width": null
      }
     },
     "e87761251e2d4bdea815578d4c30ec9c": {
      "model_module": "@jupyter-widgets/controls",
      "model_module_version": "1.5.0",
      "model_name": "HBoxModel",
      "state": {
       "_dom_classes": [],
       "_model_module": "@jupyter-widgets/controls",
       "_model_module_version": "1.5.0",
       "_model_name": "HBoxModel",
       "_view_count": null,
       "_view_module": "@jupyter-widgets/controls",
       "_view_module_version": "1.5.0",
       "_view_name": "HBoxView",
       "box_style": "",
       "children": [
        "IPY_MODEL_a27911454d5c48e58f87b05bceb86c29",
        "IPY_MODEL_8d0541cacdb84baeae2a6ab033c9326f",
        "IPY_MODEL_6aa363234db9474f9b9293982d6845e8"
       ],
       "layout": "IPY_MODEL_4947e0b70c8b442b8bd029dceda76a78"
      }
     },
     "f2cb8a22520544cabe4d8009794e753a": {
      "model_module": "@jupyter-widgets/base",
      "model_module_version": "1.2.0",
      "model_name": "LayoutModel",
      "state": {
       "_model_module": "@jupyter-widgets/base",
       "_model_module_version": "1.2.0",
       "_model_name": "LayoutModel",
       "_view_count": null,
       "_view_module": "@jupyter-widgets/base",
       "_view_module_version": "1.2.0",
       "_view_name": "LayoutView",
       "align_content": null,
       "align_items": null,
       "align_self": null,
       "border": null,
       "bottom": null,
       "display": null,
       "flex": null,
       "flex_flow": null,
       "grid_area": null,
       "grid_auto_columns": null,
       "grid_auto_flow": null,
       "grid_auto_rows": null,
       "grid_column": null,
       "grid_gap": null,
       "grid_row": null,
       "grid_template_areas": null,
       "grid_template_columns": null,
       "grid_template_rows": null,
       "height": null,
       "justify_content": null,
       "justify_items": null,
       "left": null,
       "margin": null,
       "max_height": null,
       "max_width": null,
       "min_height": null,
       "min_width": null,
       "object_fit": null,
       "object_position": null,
       "order": null,
       "overflow": null,
       "overflow_x": null,
       "overflow_y": null,
       "padding": null,
       "right": null,
       "top": null,
       "visibility": null,
       "width": null
      }
     }
    },
    "version_major": 2,
    "version_minor": 0
   }
  }
 },
 "nbformat": 4,
 "nbformat_minor": 5
}
